{
 "cells": [
  {
   "cell_type": "markdown",
   "metadata": {},
   "source": [
    "# Creating a Sentiment Analysis Web App\n",
    "## Using PyTorch and SageMaker\n",
    "\n",
    "_Deep Learning Nanodegree Program | Deployment_\n",
    "\n",
    "---\n",
    "\n",
    "Now that we have a basic understanding of how SageMaker works we will try to use it to construct a complete project from end to end. Our goal will be to have a simple web page which a user can use to enter a movie review. The web page will then send the review off to our deployed model which will predict the sentiment of the entered review.\n",
    "\n",
    "## Instructions\n",
    "\n",
    "Some template code has already been provided for you, and you will need to implement additional functionality to successfully complete this notebook. You will not need to modify the included code beyond what is requested. Sections that begin with '**TODO**' in the header indicate that you need to complete or implement some portion within them. Instructions will be provided for each section and the specifics of the implementation are marked in the code block with a `# TODO: ...` comment. Please be sure to read the instructions carefully!\n",
    "\n",
    "In addition to implementing code, there will be questions for you to answer which relate to the task and your implementation. Each section where you will answer a question is preceded by a '**Question:**' header. Carefully read each question and provide your answer below the '**Answer:**' header by editing the Markdown cell.\n",
    "\n",
    "> **Note**: Code and Markdown cells can be executed using the **Shift+Enter** keyboard shortcut. In addition, a cell can be edited by typically clicking it (double-click for Markdown cells) or by pressing **Enter** while it is highlighted.\n",
    "\n",
    "## General Outline\n",
    "\n",
    "Recall the general outline for SageMaker projects using a notebook instance.\n",
    "\n",
    "1. Download or otherwise retrieve the data.\n",
    "2. Process / Prepare the data.\n",
    "3. Upload the processed data to S3.\n",
    "4. Train a chosen model.\n",
    "5. Test the trained model (typically using a batch transform job).\n",
    "6. Deploy the trained model.\n",
    "7. Use the deployed model.\n",
    "\n",
    "For this project, you will be following the steps in the general outline with some modifications. \n",
    "\n",
    "First, you will not be testing the model in its own step. You will still be testing the model, however, you will do it by deploying your model and then using the deployed model by sending the test data to it. One of the reasons for doing this is so that you can make sure that your deployed model is working correctly before moving forward.\n",
    "\n",
    "In addition, you will deploy and use your trained model a second time. In the second iteration you will customize the way that your trained model is deployed by including some of your own code. In addition, your newly deployed model will be used in the sentiment analysis web app."
   ]
  },
  {
   "cell_type": "markdown",
   "metadata": {},
   "source": [
    "## Step 1: Downloading the data\n",
    "\n",
    "As in the XGBoost in SageMaker notebook, we will be using the [IMDb dataset](http://ai.stanford.edu/~amaas/data/sentiment/)\n",
    "\n",
    "> Maas, Andrew L., et al. [Learning Word Vectors for Sentiment Analysis](http://ai.stanford.edu/~amaas/data/sentiment/). In _Proceedings of the 49th Annual Meeting of the Association for Computational Linguistics: Human Language Technologies_. Association for Computational Linguistics, 2011."
   ]
  },
  {
   "cell_type": "code",
   "execution_count": 3,
   "metadata": {
    "scrolled": false
   },
   "outputs": [
    {
     "name": "stdout",
     "output_type": "stream",
     "text": [
      "mkdir: cannot create directory ‘../data’: File exists\n",
      "--2019-03-30 19:59:46--  http://ai.stanford.edu/~amaas/data/sentiment/aclImdb_v1.tar.gz\n",
      "Resolving ai.stanford.edu (ai.stanford.edu)... 171.64.68.10\n",
      "Connecting to ai.stanford.edu (ai.stanford.edu)|171.64.68.10|:80... connected.\n",
      "HTTP request sent, awaiting response... 200 OK\n",
      "Length: 84125825 (80M) [application/x-gzip]\n",
      "Saving to: ‘../data/aclImdb_v1.tar.gz’\n",
      "\n",
      "../data/aclImdb_v1. 100%[===================>]  80.23M  9.89MB/s    in 9.4s    \n",
      "\n",
      "2019-03-30 19:59:56 (8.50 MB/s) - ‘../data/aclImdb_v1.tar.gz’ saved [84125825/84125825]\n",
      "\n"
     ]
    }
   ],
   "source": [
    "%mkdir ../data\n",
    "!wget -O ../data/aclImdb_v1.tar.gz http://ai.stanford.edu/~amaas/data/sentiment/aclImdb_v1.tar.gz\n",
    "!tar -zxf ../data/aclImdb_v1.tar.gz -C ../data"
   ]
  },
  {
   "cell_type": "markdown",
   "metadata": {},
   "source": [
    "## Step 2: Preparing and Processing the data\n",
    "\n",
    "Also, as in the XGBoost notebook, we will be doing some initial data processing. The first few steps are the same as in the XGBoost example. To begin with, we will read in each of the reviews and combine them into a single input structure. Then, we will split the dataset into a training set and a testing set."
   ]
  },
  {
   "cell_type": "code",
   "execution_count": 4,
   "metadata": {},
   "outputs": [],
   "source": [
    "import os\n",
    "import glob\n",
    "\n",
    "def read_imdb_data(data_dir='../data/aclImdb'):\n",
    "    data = {}\n",
    "    labels = {}\n",
    "    \n",
    "    for data_type in ['train', 'test']:\n",
    "        data[data_type] = {}\n",
    "        labels[data_type] = {}\n",
    "        \n",
    "        for sentiment in ['pos', 'neg']:\n",
    "            data[data_type][sentiment] = []\n",
    "            labels[data_type][sentiment] = []\n",
    "            \n",
    "            path = os.path.join(data_dir, data_type, sentiment, '*.txt')\n",
    "            files = glob.glob(path)\n",
    "            \n",
    "            for f in files:\n",
    "                with open(f) as review:\n",
    "                    data[data_type][sentiment].append(review.read())\n",
    "                    # Here we represent a positive review by '1' and a negative review by '0'\n",
    "                    labels[data_type][sentiment].append(1 if sentiment == 'pos' else 0)\n",
    "                    \n",
    "            assert len(data[data_type][sentiment]) == len(labels[data_type][sentiment]), \\\n",
    "                    \"{}/{} data size does not match labels size\".format(data_type, sentiment)\n",
    "                \n",
    "    return data, labels"
   ]
  },
  {
   "cell_type": "code",
   "execution_count": 5,
   "metadata": {},
   "outputs": [
    {
     "name": "stdout",
     "output_type": "stream",
     "text": [
      "IMDB reviews: train = 12500 pos / 12500 neg, test = 12500 pos / 12500 neg\n"
     ]
    }
   ],
   "source": [
    "data, labels = read_imdb_data()\n",
    "print(\"IMDB reviews: train = {} pos / {} neg, test = {} pos / {} neg\".format(\n",
    "            len(data['train']['pos']), len(data['train']['neg']),\n",
    "            len(data['test']['pos']), len(data['test']['neg'])))"
   ]
  },
  {
   "cell_type": "markdown",
   "metadata": {},
   "source": [
    "Now that we've read the raw training and testing data from the downloaded dataset, we will combine the positive and negative reviews and shuffle the resulting records."
   ]
  },
  {
   "cell_type": "code",
   "execution_count": 6,
   "metadata": {},
   "outputs": [],
   "source": [
    "from sklearn.utils import shuffle\n",
    "\n",
    "def prepare_imdb_data(data, labels):\n",
    "    \"\"\"Prepare training and test sets from IMDb movie reviews.\"\"\"\n",
    "    \n",
    "    #Combine positive and negative reviews and labels\n",
    "    data_train = data['train']['pos'] + data['train']['neg']\n",
    "    data_test = data['test']['pos'] + data['test']['neg']\n",
    "    labels_train = labels['train']['pos'] + labels['train']['neg']\n",
    "    labels_test = labels['test']['pos'] + labels['test']['neg']\n",
    "    \n",
    "    #Shuffle reviews and corresponding labels within training and test sets\n",
    "    data_train, labels_train = shuffle(data_train, labels_train)\n",
    "    data_test, labels_test = shuffle(data_test, labels_test)\n",
    "    \n",
    "    # Return a unified training data, test data, training labels, test labets\n",
    "    return data_train, data_test, labels_train, labels_test"
   ]
  },
  {
   "cell_type": "code",
   "execution_count": 7,
   "metadata": {},
   "outputs": [
    {
     "name": "stdout",
     "output_type": "stream",
     "text": [
      "IMDb reviews (combined): train = 25000, test = 25000\n"
     ]
    }
   ],
   "source": [
    "train_X, test_X, train_y, test_y = prepare_imdb_data(data, labels)\n",
    "print(\"IMDb reviews (combined): train = {}, test = {}\".format(len(train_X), len(test_X)))"
   ]
  },
  {
   "cell_type": "markdown",
   "metadata": {},
   "source": [
    "Now that we have our training and testing sets unified and prepared, we should do a quick check and see an example of the data our model will be trained on. This is generally a good idea as it allows you to see how each of the further processing steps affects the reviews and it also ensures that the data has been loaded correctly."
   ]
  },
  {
   "cell_type": "code",
   "execution_count": 8,
   "metadata": {},
   "outputs": [
    {
     "name": "stdout",
     "output_type": "stream",
     "text": [
      "Joseph L. Mankiewicz's Sleuth didn't need a remake. It's a thoroughly well made film that stands up well to this day. However, given that the modern day remake machine is currently in full swing; I really can't say I'm surprised to see the film updated for modern audience. The plot remains identical to the original film and at its core we have the story of a young man, Milo Tindle, who goes off to see an older man, Andrew Wyke, to discuss a divorce as the younger man is having an affair with the older man's wife. From there, a game of cat and mouse ensues. Its clear right from the outset that director Kenneth Branagh wanted to add a different touch to this film and he does so by way of the central location, which has been changed from the charming games-ridden country house of the original to a technical marvel kitted out with layers of security equipment. I'm glad that the director chose to make this change as nobody wants to see a remake that directly copies of the original; plus there's the fact that the location is well used and always nice to look at. Unfortunately, however, the positive elements of Sleuth 2007 end there.<br /><br />The original film was over two hours long, while this remake is only just a shade over eighty minutes. Naturally, therefore, that means that this version has less about it; and unfortunately it's the characters that suffer. The plot is also rushed and we get into the first twist in the tale far too quickly and before we are given any chance to actually understand why and how these events can be taking place. The film does not build the characters, or the rapport between them, enough to make sure that their relationship makes sense. One major thing that has been changed about the older character is his obsession; in the original he was obsessed with games which turned out to be VERY important once the twists come into play. Here he has some kind of security fetish that doesn't really mean anything by the end. Kenneth Branagh's handling of the film allows for a classy score but the class ends there. The original thrived on it, but this film is happy merely to soil itself with expletives on numerous, and mostly unwarranted, occasions; which cheapen the whole thing. The final twist in the tale is completely different to how it was in the original and ensures that the film boils down to a really hideous conclusion. After spending two hours with the original I understood, respected and liked both characters presented in the film - after eighty minutes of this, I hated them both. I do have some respect for Branagh for not merely rolling out a carbon copy of the original film; but this is not a good adaptation of the great Anthony Shaffer play.\n",
      "0\n"
     ]
    }
   ],
   "source": [
    "print(train_X[100])\n",
    "print(train_y[100])"
   ]
  },
  {
   "cell_type": "markdown",
   "metadata": {},
   "source": [
    "The first step in processing the reviews is to make sure that any html tags that appear should be removed. In addition we wish to tokenize our input, that way words such as *entertained* and *entertaining* are considered the same with regard to sentiment analysis."
   ]
  },
  {
   "cell_type": "code",
   "execution_count": 9,
   "metadata": {},
   "outputs": [],
   "source": [
    "import nltk\n",
    "from nltk.corpus import stopwords\n",
    "from nltk.stem.porter import *\n",
    "\n",
    "import re\n",
    "from bs4 import BeautifulSoup\n",
    "\n",
    "def review_to_words(review):\n",
    "    nltk.download(\"stopwords\", quiet=True)\n",
    "    stemmer = PorterStemmer()\n",
    "    \n",
    "    text = BeautifulSoup(review, \"html.parser\").get_text() # Remove HTML tags\n",
    "    text = re.sub(r\"[^a-zA-Z0-9]\", \" \", text.lower()) # Convert to lower case\n",
    "    words = text.split() # Split string into words\n",
    "    words = [w for w in words if w not in stopwords.words(\"english\")] # Remove stopwords\n",
    "    words = [PorterStemmer().stem(w) for w in words] # stem\n",
    "    \n",
    "    return words"
   ]
  },
  {
   "cell_type": "markdown",
   "metadata": {},
   "source": [
    "The `review_to_words` method defined above uses `BeautifulSoup` to remove any html tags that appear and uses the `nltk` package to tokenize the reviews. As a check to ensure we know how everything is working, try applying `review_to_words` to one of the reviews in the training set."
   ]
  },
  {
   "cell_type": "code",
   "execution_count": 10,
   "metadata": {},
   "outputs": [
    {
     "name": "stdout",
     "output_type": "stream",
     "text": [
      "['joseph', 'l', 'mankiewicz', 'sleuth', 'need', 'remak', 'thoroughli', 'well', 'made', 'film', 'stand', 'well', 'day', 'howev', 'given', 'modern', 'day', 'remak', 'machin', 'current', 'full', 'swing', 'realli', 'say', 'surpris', 'see', 'film', 'updat', 'modern', 'audienc', 'plot', 'remain', 'ident', 'origin', 'film', 'core', 'stori', 'young', 'man', 'milo', 'tindl', 'goe', 'see', 'older', 'man', 'andrew', 'wyke', 'discuss', 'divorc', 'younger', 'man', 'affair', 'older', 'man', 'wife', 'game', 'cat', 'mous', 'ensu', 'clear', 'right', 'outset', 'director', 'kenneth', 'branagh', 'want', 'add', 'differ', 'touch', 'film', 'way', 'central', 'locat', 'chang', 'charm', 'game', 'ridden', 'countri', 'hous', 'origin', 'technic', 'marvel', 'kit', 'layer', 'secur', 'equip', 'glad', 'director', 'chose', 'make', 'chang', 'nobodi', 'want', 'see', 'remak', 'directli', 'copi', 'origin', 'plu', 'fact', 'locat', 'well', 'use', 'alway', 'nice', 'look', 'unfortun', 'howev', 'posit', 'element', 'sleuth', '2007', 'end', 'origin', 'film', 'two', 'hour', 'long', 'remak', 'shade', 'eighti', 'minut', 'natur', 'therefor', 'mean', 'version', 'less', 'unfortun', 'charact', 'suffer', 'plot', 'also', 'rush', 'get', 'first', 'twist', 'tale', 'far', 'quickli', 'given', 'chanc', 'actual', 'understand', 'event', 'take', 'place', 'film', 'build', 'charact', 'rapport', 'enough', 'make', 'sure', 'relationship', 'make', 'sens', 'one', 'major', 'thing', 'chang', 'older', 'charact', 'obsess', 'origin', 'obsess', 'game', 'turn', 'import', 'twist', 'come', 'play', 'kind', 'secur', 'fetish', 'realli', 'mean', 'anyth', 'end', 'kenneth', 'branagh', 'handl', 'film', 'allow', 'classi', 'score', 'class', 'end', 'origin', 'thrive', 'film', 'happi', 'mere', 'soil', 'explet', 'numer', 'mostli', 'unwarr', 'occas', 'cheapen', 'whole', 'thing', 'final', 'twist', 'tale', 'complet', 'differ', 'origin', 'ensur', 'film', 'boil', 'realli', 'hideou', 'conclus', 'spend', 'two', 'hour', 'origin', 'understood', 'respect', 'like', 'charact', 'present', 'film', 'eighti', 'minut', 'hate', 'respect', 'branagh', 'mere', 'roll', 'carbon', 'copi', 'origin', 'film', 'good', 'adapt', 'great', 'anthoni', 'shaffer', 'play']\n"
     ]
    }
   ],
   "source": [
    "# TODO: Apply review_to_words to a review (train_X[100] or any other review)\n",
    "print(review_to_words(train_X[100]))"
   ]
  },
  {
   "cell_type": "markdown",
   "metadata": {},
   "source": [
    "**Question:** Above we mentioned that `review_to_words` method removes html formatting and allows us to tokenize the words found in a review, for example, converting *entertained* and *entertaining* into *entertain* so that they are treated as though they are the same word. What else, if anything, does this method do to the input?"
   ]
  },
  {
   "cell_type": "markdown",
   "metadata": {},
   "source": [
    "**Answer:**\n",
    "The funtion transforms everything to lower case and gets rid of pre-defined stopwords."
   ]
  },
  {
   "cell_type": "markdown",
   "metadata": {},
   "source": [
    "The method below applies the `review_to_words` method to each of the reviews in the training and testing datasets. In addition it caches the results. This is because performing this processing step can take a long time. This way if you are unable to complete the notebook in the current session, you can come back without needing to process the data a second time."
   ]
  },
  {
   "cell_type": "code",
   "execution_count": 11,
   "metadata": {},
   "outputs": [],
   "source": [
    "import pickle\n",
    "\n",
    "cache_dir = os.path.join(\"../cache\", \"sentiment_analysis\")  # where to store cache files\n",
    "os.makedirs(cache_dir, exist_ok=True)  # ensure cache directory exists\n",
    "\n",
    "def preprocess_data(data_train, data_test, labels_train, labels_test,\n",
    "                    cache_dir=cache_dir, cache_file=\"preprocessed_data.pkl\"):\n",
    "    \"\"\"Convert each review to words; read from cache if available.\"\"\"\n",
    "\n",
    "    # If cache_file is not None, try to read from it first\n",
    "    cache_data = None\n",
    "    if cache_file is not None:\n",
    "        try:\n",
    "            with open(os.path.join(cache_dir, cache_file), \"rb\") as f:\n",
    "                cache_data = pickle.load(f)\n",
    "            print(\"Read preprocessed data from cache file:\", cache_file)\n",
    "        except:\n",
    "            pass  # unable to read from cache, but that's okay\n",
    "    \n",
    "    # If cache is missing, then do the heavy lifting\n",
    "    if cache_data is None:\n",
    "        # Preprocess training and test data to obtain words for each review\n",
    "        #words_train = list(map(review_to_words, data_train))\n",
    "        #words_test = list(map(review_to_words, data_test))\n",
    "        words_train = [review_to_words(review) for review in data_train]\n",
    "        words_test = [review_to_words(review) for review in data_test]\n",
    "        \n",
    "        # Write to cache file for future runs\n",
    "        if cache_file is not None:\n",
    "            cache_data = dict(words_train=words_train, words_test=words_test,\n",
    "                              labels_train=labels_train, labels_test=labels_test)\n",
    "            with open(os.path.join(cache_dir, cache_file), \"wb\") as f:\n",
    "                pickle.dump(cache_data, f)\n",
    "            print(\"Wrote preprocessed data to cache file:\", cache_file)\n",
    "    else:\n",
    "        # Unpack data loaded from cache file\n",
    "        words_train, words_test, labels_train, labels_test = (cache_data['words_train'],\n",
    "                cache_data['words_test'], cache_data['labels_train'], cache_data['labels_test'])\n",
    "    \n",
    "    return words_train, words_test, labels_train, labels_test"
   ]
  },
  {
   "cell_type": "code",
   "execution_count": 12,
   "metadata": {},
   "outputs": [
    {
     "name": "stdout",
     "output_type": "stream",
     "text": [
      "Read preprocessed data from cache file: preprocessed_data.pkl\n"
     ]
    }
   ],
   "source": [
    "# Preprocess data\n",
    "train_X, test_X, train_y, test_y = preprocess_data(train_X, test_X, train_y, test_y)"
   ]
  },
  {
   "cell_type": "markdown",
   "metadata": {},
   "source": [
    "## Transform the data\n",
    "\n",
    "In the XGBoost notebook we transformed the data from its word representation to a bag-of-words feature representation. For the model we are going to construct in this notebook we will construct a feature representation which is very similar. To start, we will represent each word as an integer. Of course, some of the words that appear in the reviews occur very infrequently and so likely don't contain much information for the purposes of sentiment analysis. The way we will deal with this problem is that we will fix the size of our working vocabulary and we will only include the words that appear most frequently. We will then combine all of the infrequent words into a single category and, in our case, we will label it as `1`.\n",
    "\n",
    "Since we will be using a recurrent neural network, it will be convenient if the length of each review is the same. To do this, we will fix a size for our reviews and then pad short reviews with the category 'no word' (which we will label `0`) and truncate long reviews."
   ]
  },
  {
   "cell_type": "markdown",
   "metadata": {},
   "source": [
    "### (TODO) Create a word dictionary\n",
    "\n",
    "To begin with, we need to construct a way to map words that appear in the reviews to integers. Here we fix the size of our vocabulary (including the 'no word' and 'infrequent' categories) to be `5000` but you may wish to change this to see how it affects the model.\n",
    "\n",
    "> **TODO:** Complete the implementation for the `build_dict()` method below. Note that even though the vocab_size is set to `5000`, we only want to construct a mapping for the most frequently appearing `4998` words. This is because we want to reserve the special labels `0` for 'no word' and `1` for 'infrequent word'."
   ]
  },
  {
   "cell_type": "code",
   "execution_count": 13,
   "metadata": {},
   "outputs": [],
   "source": [
    "import numpy as np\n",
    "\n",
    "def build_dict(data, vocab_size = 5000):\n",
    "    \"\"\"Construct and return a dictionary mapping each of the most frequently appearing words to a unique integer.\"\"\"\n",
    "    \n",
    "    # TODO: Determine how often each word appears in `data`. Note that `data` is a list of sentences and that a\n",
    "    #       sentence is a list of words.\n",
    "    \n",
    "    word_count = {} # A dict storing the words that appear in the reviews along with how often they occur\n",
    "    \n",
    "    for sentence in data:\n",
    "        for word in sentence:\n",
    "            if word in word_count:\n",
    "                word_count[word]+=1\n",
    "            else:\n",
    "                word_count[word]=1\n",
    "    return word_count"
   ]
  },
  {
   "cell_type": "code",
   "execution_count": null,
   "metadata": {
    "scrolled": true
   },
   "outputs": [],
   "source": []
  },
  {
   "cell_type": "code",
   "execution_count": null,
   "metadata": {
    "scrolled": true
   },
   "outputs": [],
   "source": []
  },
  {
   "cell_type": "code",
   "execution_count": null,
   "metadata": {},
   "outputs": [],
   "source": []
  },
  {
   "cell_type": "code",
   "execution_count": 14,
   "metadata": {},
   "outputs": [],
   "source": [
    "import numpy as np\n",
    "from collections import OrderedDict\n",
    "\n",
    "def build_dict(data, vocab_size = 5000):\n",
    "    \"\"\"Construct and return a dictionary mapping each of the most frequently appearing words to a unique integer.\"\"\"\n",
    "    \n",
    "    # TODO: Determine how often each word appears in `data`. Note that `data` is a list of sentences and that a\n",
    "    #       sentence is a list of words.\n",
    "    \n",
    "    word_count = {} # A dict storing the words that appear in the reviews along with how often they occur\n",
    "    \n",
    "    for sentence in data:\n",
    "        for word in sentence:\n",
    "            if word in word_count:\n",
    "                word_count[word]+=1\n",
    "            else:\n",
    "                word_count[word]=1\n",
    "    \n",
    "    \n",
    "    # TODO: Sort the words found in `data` so that sorted_words[0] is the most frequently appearing word and\n",
    "    #       sorted_words[-1] is the least frequently appearing word.\n",
    "    \n",
    "    sorted_words = []\n",
    "    \n",
    "\n",
    "    sorted_dict =OrderedDict(sorted(word_count.items(), key=lambda x:x[1], reverse=True)) \n",
    "    for word in sorted_dict:\n",
    "        sorted_words.append(word)\n",
    "\n",
    "    word_dict = {} # This is what we are building, a dictionary that translates words into integers\n",
    "    for idx, word in enumerate(sorted_words[:vocab_size - 2]): # The -2 is so that we save room for the 'no word'\n",
    "        word_dict[word] = idx + 2                              # 'infrequent' labels\n",
    "                                  # 'infrequent' labels\n",
    "\n",
    "    return word_dict\n",
    "\n",
    "\n",
    "\n"
   ]
  },
  {
   "cell_type": "code",
   "execution_count": 15,
   "metadata": {},
   "outputs": [],
   "source": [
    "word_dict= build_dict(train_X)"
   ]
  },
  {
   "cell_type": "code",
   "execution_count": 16,
   "metadata": {},
   "outputs": [
    {
     "name": "stdout",
     "output_type": "stream",
     "text": [
      "{'movi': 2, 'film': 3, 'one': 4, 'like': 5, 'time': 6, 'good': 7, 'make': 8, 'charact': 9, 'get': 10, 'see': 11, 'watch': 12, 'stori': 13, 'even': 14, 'would': 15, 'realli': 16, 'well': 17, 'scene': 18, 'look': 19, 'show': 20, 'much': 21, 'end': 22, 'peopl': 23, 'bad': 24, 'go': 25, 'great': 26, 'also': 27, 'first': 28, 'love': 29, 'think': 30, 'way': 31, 'act': 32, 'play': 33, 'made': 34, 'thing': 35, 'could': 36, 'know': 37, 'say': 38, 'seem': 39, 'work': 40, 'plot': 41, 'two': 42, 'actor': 43, 'year': 44, 'come': 45, 'mani': 46, 'seen': 47, 'take': 48, 'life': 49, 'want': 50, 'never': 51, 'littl': 52, 'best': 53, 'tri': 54, 'man': 55, 'ever': 56, 'give': 57, 'better': 58, 'still': 59, 'perform': 60, 'find': 61, 'feel': 62, 'part': 63, 'back': 64, 'use': 65, 'someth': 66, 'director': 67, 'actual': 68, 'interest': 69, 'lot': 70, 'real': 71, 'old': 72, 'cast': 73, 'though': 74, 'live': 75, 'star': 76, 'enjoy': 77, 'guy': 78, 'anoth': 79, 'new': 80, 'role': 81, 'noth': 82, '10': 83, 'funni': 84, 'music': 85, 'point': 86, 'start': 87, 'set': 88, 'girl': 89, 'origin': 90, 'day': 91, 'world': 92, 'everi': 93, 'believ': 94, 'turn': 95, 'quit': 96, 'direct': 97, 'us': 98, 'thought': 99, 'fact': 100, 'minut': 101, 'horror': 102, 'kill': 103, 'action': 104, 'comedi': 105, 'pretti': 106, 'young': 107, 'wonder': 108, 'happen': 109, 'around': 110, 'got': 111, 'effect': 112, 'right': 113, 'long': 114, 'howev': 115, 'big': 116, 'line': 117, 'famili': 118, 'enough': 119, 'seri': 120, 'may': 121, 'need': 122, 'fan': 123, 'bit': 124, 'script': 125, 'beauti': 126, 'person': 127, 'becom': 128, 'without': 129, 'must': 130, 'alway': 131, 'friend': 132, 'tell': 133, 'reason': 134, 'saw': 135, 'last': 136, 'final': 137, 'kid': 138, 'almost': 139, 'put': 140, 'least': 141, 'sure': 142, 'done': 143, 'whole': 144, 'place': 145, 'complet': 146, 'kind': 147, 'expect': 148, 'differ': 149, 'shot': 150, 'far': 151, 'mean': 152, 'anyth': 153, 'book': 154, 'laugh': 155, 'might': 156, 'name': 157, 'sinc': 158, 'begin': 159, '2': 160, 'probabl': 161, 'woman': 162, 'help': 163, 'entertain': 164, 'let': 165, 'screen': 166, 'call': 167, 'tv': 168, 'moment': 169, 'away': 170, 'read': 171, 'yet': 172, 'rather': 173, 'worst': 174, 'run': 175, 'fun': 176, 'lead': 177, 'hard': 178, 'audienc': 179, 'idea': 180, 'anyon': 181, 'episod': 182, 'american': 183, 'found': 184, 'appear': 185, 'bore': 186, 'especi': 187, 'although': 188, 'hope': 189, 'cours': 190, 'keep': 191, 'anim': 192, 'job': 193, 'goe': 194, 'move': 195, 'sens': 196, 'dvd': 197, 'version': 198, 'war': 199, 'money': 200, 'someon': 201, 'mind': 202, 'mayb': 203, 'problem': 204, 'true': 205, 'hous': 206, 'everyth': 207, 'nice': 208, 'second': 209, 'rate': 210, 'three': 211, 'night': 212, 'face': 213, 'follow': 214, 'recommend': 215, 'product': 216, 'main': 217, 'worth': 218, 'leav': 219, 'human': 220, 'special': 221, 'excel': 222, 'togeth': 223, 'wast': 224, 'sound': 225, 'everyon': 226, 'john': 227, 'hand': 228, '1': 229, 'father': 230, 'later': 231, 'eye': 232, 'said': 233, 'view': 234, 'instead': 235, 'review': 236, 'boy': 237, 'high': 238, 'hour': 239, 'miss': 240, 'talk': 241, 'classic': 242, 'wife': 243, 'understand': 244, 'left': 245, 'care': 246, 'black': 247, 'death': 248, 'open': 249, 'murder': 250, 'write': 251, 'half': 252, 'head': 253, 'rememb': 254, 'chang': 255, 'viewer': 256, 'fight': 257, 'gener': 258, 'surpris': 259, 'short': 260, 'includ': 261, 'die': 262, 'fall': 263, 'less': 264, 'els': 265, 'entir': 266, 'piec': 267, 'involv': 268, 'pictur': 269, 'simpli': 270, 'top': 271, 'power': 272, 'home': 273, 'total': 274, 'usual': 275, 'budget': 276, 'attempt': 277, 'suppos': 278, 'releas': 279, 'hollywood': 280, 'terribl': 281, 'song': 282, 'men': 283, 'possibl': 284, 'featur': 285, 'portray': 286, 'disappoint': 287, 'poor': 288, '3': 289, 'coupl': 290, 'camera': 291, 'stupid': 292, 'dead': 293, 'wrong': 294, 'produc': 295, 'low': 296, 'either': 297, 'video': 298, 'aw': 299, 'definit': 300, 'except': 301, 'rest': 302, 'given': 303, 'absolut': 304, 'women': 305, 'lack': 306, 'word': 307, 'writer': 308, 'titl': 309, 'talent': 310, 'decid': 311, 'full': 312, 'perfect': 313, 'along': 314, 'style': 315, 'close': 316, 'truli': 317, 'school': 318, 'emot': 319, 'save': 320, 'sex': 321, 'age': 322, 'next': 323, 'bring': 324, 'mr': 325, 'case': 326, 'killer': 327, 'heart': 328, 'comment': 329, 'sort': 330, 'creat': 331, 'perhap': 332, 'came': 333, 'brother': 334, 'sever': 335, 'joke': 336, 'art': 337, 'dialogu': 338, 'game': 339, 'small': 340, 'base': 341, 'flick': 342, 'written': 343, 'sequenc': 344, 'meet': 345, 'earli': 346, 'often': 347, 'other': 348, 'mother': 349, 'develop': 350, 'humor': 351, 'actress': 352, 'consid': 353, 'dark': 354, 'guess': 355, 'amaz': 356, 'unfortun': 357, 'light': 358, 'lost': 359, 'exampl': 360, 'cinema': 361, 'drama': 362, 'white': 363, 'ye': 364, 'experi': 365, 'imagin': 366, 'mention': 367, 'stop': 368, 'natur': 369, 'forc': 370, 'manag': 371, 'felt': 372, 'cut': 373, 'present': 374, 'children': 375, 'fail': 376, 'son': 377, 'support': 378, 'qualiti': 379, 'car': 380, 'ask': 381, 'hit': 382, 'side': 383, 'voic': 384, 'extrem': 385, 'impress': 386, 'evil': 387, 'wors': 388, 'went': 389, 'stand': 390, 'certainli': 391, 'basic': 392, 'oh': 393, 'overal': 394, 'favorit': 395, 'horribl': 396, 'mysteri': 397, 'number': 398, 'type': 399, 'danc': 400, 'wait': 401, 'hero': 402, 'alreadi': 403, '5': 404, 'learn': 405, 'matter': 406, '4': 407, 'michael': 408, 'genr': 409, 'fine': 410, 'despit': 411, 'throughout': 412, 'walk': 413, 'success': 414, 'histori': 415, 'question': 416, 'zombi': 417, 'town': 418, 'relationship': 419, 'realiz': 420, 'past': 421, 'child': 422, 'daughter': 423, 'late': 424, 'b': 425, 'wish': 426, 'hate': 427, 'credit': 428, 'event': 429, 'theme': 430, 'touch': 431, 'citi': 432, 'today': 433, 'sometim': 434, 'behind': 435, 'god': 436, 'twist': 437, 'sit': 438, 'annoy': 439, 'deal': 440, 'stay': 441, 'abl': 442, 'rent': 443, 'pleas': 444, 'edit': 445, 'blood': 446, 'deserv': 447, 'comic': 448, 'anyway': 449, 'appar': 450, 'soon': 451, 'gave': 452, 'etc': 453, 'level': 454, 'slow': 455, 'chanc': 456, 'score': 457, 'bodi': 458, 'brilliant': 459, 'incred': 460, 'figur': 461, 'situat': 462, 'major': 463, 'self': 464, 'stuff': 465, 'decent': 466, 'element': 467, 'return': 468, 'dream': 469, 'obvious': 470, 'order': 471, 'continu': 472, 'pace': 473, 'ridicul': 474, 'happi': 475, 'highli': 476, 'group': 477, 'add': 478, 'thank': 479, 'ladi': 480, 'novel': 481, 'pain': 482, 'speak': 483, 'career': 484, 'shoot': 485, 'strang': 486, 'heard': 487, 'sad': 488, 'polic': 489, 'husband': 490, 'import': 491, 'break': 492, 'took': 493, 'cannot': 494, 'strong': 495, 'predict': 496, 'robert': 497, 'violenc': 498, 'hilari': 499, 'recent': 500, 'countri': 501, 'known': 502, 'particularli': 503, 'pick': 504, 'documentari': 505, 'season': 506, 'critic': 507, 'jame': 508, 'compar': 509, 'obviou': 510, 'alon': 511, 'told': 512, 'state': 513, 'visual': 514, 'rock': 515, 'offer': 516, 'exist': 517, 'theater': 518, 'opinion': 519, 'gore': 520, 'hold': 521, 'crap': 522, 'result': 523, 'realiti': 524, 'room': 525, 'hear': 526, 'clich': 527, 'effort': 528, 'thriller': 529, 'caus': 530, 'serious': 531, 'sequel': 532, 'explain': 533, 'king': 534, 'local': 535, 'ago': 536, 'hell': 537, 'none': 538, 'note': 539, 'allow': 540, 'david': 541, 'sister': 542, 'simpl': 543, 'femal': 544, 'deliv': 545, 'ok': 546, 'class': 547, 'convinc': 548, 'check': 549, 'suspens': 550, 'win': 551, 'buy': 552, 'oscar': 553, 'huge': 554, 'valu': 555, 'sexual': 556, 'cool': 557, 'scari': 558, 'excit': 559, 'similar': 560, 'provid': 561, 'apart': 562, 'exactli': 563, 'shown': 564, 'avoid': 565, 'seriou': 566, 'english': 567, 'taken': 568, 'whose': 569, 'cinematographi': 570, 'shock': 571, 'polit': 572, 'spoiler': 573, 'offic': 574, 'across': 575, 'middl': 576, 'street': 577, 'pass': 578, 'messag': 579, 'somewhat': 580, 'silli': 581, 'charm': 582, 'modern': 583, 'filmmak': 584, 'confus': 585, 'form': 586, 'tale': 587, 'singl': 588, 'jack': 589, 'mostli': 590, 'carri': 591, 'william': 592, 'attent': 593, 'sing': 594, 'subject': 595, 'five': 596, 'richard': 597, 'prove': 598, 'team': 599, 'stage': 600, 'unlik': 601, 'cop': 602, 'georg': 603, 'monster': 604, 'televis': 605, 'earth': 606, 'villain': 607, 'cover': 608, 'pay': 609, 'marri': 610, 'toward': 611, 'build': 612, 'pull': 613, 'parent': 614, 'due': 615, 'respect': 616, 'fill': 617, 'dialog': 618, 'four': 619, 'remind': 620, 'futur': 621, 'typic': 622, 'weak': 623, '7': 624, 'cheap': 625, 'intellig': 626, 'atmospher': 627, 'british': 628, 'clearli': 629, '80': 630, 'non': 631, 'paul': 632, 'dog': 633, 'artist': 634, 'knew': 635, 'fast': 636, '8': 637, 'crime': 638, 'easili': 639, 'escap': 640, 'adult': 641, 'doubt': 642, 'detail': 643, 'date': 644, 'member': 645, 'romant': 646, 'fire': 647, 'gun': 648, 'drive': 649, 'straight': 650, 'beyond': 651, 'fit': 652, 'attack': 653, 'imag': 654, 'upon': 655, 'posit': 656, 'whether': 657, 'peter': 658, 'fantast': 659, 'captur': 660, 'appreci': 661, 'aspect': 662, 'ten': 663, 'plan': 664, 'discov': 665, 'remain': 666, 'near': 667, 'period': 668, 'realist': 669, 'air': 670, 'mark': 671, 'red': 672, 'dull': 673, 'adapt': 674, 'within': 675, 'lose': 676, 'spend': 677, 'materi': 678, 'color': 679, 'chase': 680, 'mari': 681, 'storylin': 682, 'forget': 683, 'bunch': 684, 'clear': 685, 'lee': 686, 'victim': 687, 'nearli': 688, 'box': 689, 'york': 690, 'match': 691, 'inspir': 692, 'mess': 693, 'finish': 694, 'standard': 695, 'easi': 696, 'truth': 697, 'busi': 698, 'suffer': 699, 'dramat': 700, 'bill': 701, 'space': 702, 'western': 703, 'e': 704, 'list': 705, 'battl': 706, 'notic': 707, 'de': 708, 'french': 709, 'ad': 710, '9': 711, 'tom': 712, 'larg': 713, 'among': 714, 'eventu': 715, 'train': 716, 'accept': 717, 'agre': 718, 'spirit': 719, 'soundtrack': 720, 'third': 721, 'teenag': 722, 'adventur': 723, 'soldier': 724, 'famou': 725, 'sorri': 726, 'suggest': 727, 'drug': 728, 'cri': 729, 'babi': 730, 'normal': 731, 'ultim': 732, 'troubl': 733, 'contain': 734, 'certain': 735, 'cultur': 736, 'romanc': 737, 'rare': 738, 'lame': 739, 'somehow': 740, 'mix': 741, 'disney': 742, 'gone': 743, 'cartoon': 744, 'student': 745, 'reveal': 746, 'fear': 747, 'kept': 748, 'suck': 749, 'attract': 750, 'appeal': 751, 'premis': 752, 'greatest': 753, 'design': 754, 'secret': 755, 'shame': 756, 'throw': 757, 'scare': 758, 'copi': 759, 'wit': 760, 'america': 761, 'admit': 762, 'relat': 763, 'brought': 764, 'particular': 765, 'screenplay': 766, 'whatev': 767, 'pure': 768, '70': 769, 'harri': 770, 'averag': 771, 'master': 772, 'describ': 773, 'male': 774, 'treat': 775, '20': 776, 'issu': 777, 'fantasi': 778, 'warn': 779, 'inde': 780, 'forward': 781, 'background': 782, 'free': 783, 'project': 784, 'memor': 785, 'japanes': 786, 'poorli': 787, 'award': 788, 'locat': 789, 'potenti': 790, 'amus': 791, 'struggl': 792, 'magic': 793, 'weird': 794, 'societi': 795, 'okay': 796, 'accent': 797, 'doctor': 798, 'imdb': 799, 'water': 800, 'hot': 801, '30': 802, 'express': 803, 'alien': 804, 'dr': 805, 'odd': 806, 'choic': 807, 'crazi': 808, 'fiction': 809, 'studio': 810, 'becam': 811, 'control': 812, 'masterpiec': 813, 'difficult': 814, 'fli': 815, 'joe': 816, 'scream': 817, 'costum': 818, 'lover': 819, 'refer': 820, 'uniqu': 821, 'remak': 822, 'vampir': 823, 'girlfriend': 824, 'prison': 825, 'execut': 826, 'wear': 827, 'jump': 828, 'wood': 829, 'unless': 830, 'creepi': 831, 'cheesi': 832, 'superb': 833, 'otherwis': 834, 'parti': 835, 'ghost': 836, 'roll': 837, 'public': 838, 'mad': 839, 'depict': 840, 'moral': 841, 'badli': 842, 'jane': 843, 'earlier': 844, 'week': 845, 'dumb': 846, 'fi': 847, 'flaw': 848, 'grow': 849, 'sci': 850, 'deep': 851, 'maker': 852, 'cat': 853, 'footag': 854, 'connect': 855, 'older': 856, 'plenti': 857, 'bother': 858, 'outsid': 859, 'stick': 860, 'gay': 861, 'catch': 862, 'plu': 863, 'co': 864, 'popular': 865, 'equal': 866, 'social': 867, 'quickli': 868, 'disturb': 869, 'perfectli': 870, 'dress': 871, '90': 872, 'era': 873, 'mistak': 874, 'lie': 875, 'previou': 876, 'ride': 877, 'combin': 878, 'band': 879, 'concept': 880, 'surviv': 881, 'rich': 882, 'answer': 883, 'front': 884, 'sweet': 885, 'christma': 886, 'insid': 887, 'eat': 888, 'concern': 889, 'bare': 890, 'beat': 891, 'ben': 892, 'listen': 893, 'c': 894, 'serv': 895, 'term': 896, 'meant': 897, 'la': 898, 'german': 899, 'stereotyp': 900, 'hardli': 901, 'innoc': 902, 'law': 903, 'desper': 904, 'memori': 905, 'promis': 906, 'intent': 907, 'cute': 908, 'inform': 909, 'variou': 910, 'steal': 911, 'brain': 912, 'post': 913, 'tone': 914, 'island': 915, 'amount': 916, 'track': 917, 'compani': 918, 'nuditi': 919, 'store': 920, 'claim': 921, 'flat': 922, 'hair': 923, '50': 924, 'land': 925, 'univers': 926, 'danger': 927, 'scott': 928, 'fairli': 929, 'kick': 930, 'player': 931, 'step': 932, 'crew': 933, 'plain': 934, 'toni': 935, 'share': 936, 'centuri': 937, 'tast': 938, 'achiev': 939, 'engag': 940, 'cold': 941, 'travel': 942, 'rip': 943, 'record': 944, 'suit': 945, 'sadli': 946, 'manner': 947, 'tension': 948, 'spot': 949, 'wrote': 950, 'intens': 951, 'fascin': 952, 'familiar': 953, 'depth': 954, 'remark': 955, 'burn': 956, 'destroy': 957, 'histor': 958, 'sleep': 959, 'purpos': 960, 'languag': 961, 'ruin': 962, 'ignor': 963, 'delight': 964, 'unbeliev': 965, 'italian': 966, 'abil': 967, 'soul': 968, 'collect': 969, 'detect': 970, 'clever': 971, 'violent': 972, 'rape': 973, 'reach': 974, 'door': 975, 'trash': 976, 'scienc': 977, 'liter': 978, 'commun': 979, 'reveng': 980, 'caught': 981, 'creatur': 982, 'trip': 983, 'approach': 984, 'fashion': 985, 'intrigu': 986, 'skill': 987, 'paint': 988, 'introduc': 989, 'channel': 990, 'complex': 991, 'camp': 992, 'christian': 993, 'hole': 994, 'extra': 995, 'mental': 996, 'immedi': 997, 'limit': 998, 'ann': 999, 'million': 1000, 'mere': 1001, 'slightli': 1002, '6': 1003, 'comput': 1004, 'conclus': 1005, 'slasher': 1006, 'suddenli': 1007, 'imposs': 1008, 'crimin': 1009, 'teen': 1010, 'neither': 1011, 'spent': 1012, 'nation': 1013, 'physic': 1014, 'respons': 1015, 'planet': 1016, 'fake': 1017, 'receiv': 1018, 'blue': 1019, 'sick': 1020, 'bizarr': 1021, 'embarrass': 1022, 'indian': 1023, 'ring': 1024, '15': 1025, 'drop': 1026, 'pop': 1027, 'drag': 1028, 'haunt': 1029, 'pointless': 1030, 'suspect': 1031, 'edg': 1032, 'search': 1033, 'handl': 1034, 'common': 1035, 'biggest': 1036, 'hurt': 1037, 'arriv': 1038, 'faith': 1039, 'technic': 1040, 'angel': 1041, 'genuin': 1042, 'dad': 1043, 'awesom': 1044, 'solid': 1045, 'f': 1046, 'former': 1047, 'focu': 1048, 'van': 1049, 'colleg': 1050, 'count': 1051, 'tear': 1052, 'heavi': 1053, 'wall': 1054, 'rais': 1055, 'laughabl': 1056, 'younger': 1057, 'visit': 1058, 'fair': 1059, 'excus': 1060, 'sign': 1061, 'cult': 1062, 'motion': 1063, 'tough': 1064, 'key': 1065, 'super': 1066, 'desir': 1067, 'stun': 1068, 'addit': 1069, 'cloth': 1070, 'exploit': 1071, 'tortur': 1072, 'smith': 1073, 'davi': 1074, 'race': 1075, 'cross': 1076, 'author': 1077, 'jim': 1078, 'minor': 1079, 'compel': 1080, 'focus': 1081, 'consist': 1082, 'chemistri': 1083, 'commit': 1084, 'pathet': 1085, 'park': 1086, 'obsess': 1087, 'frank': 1088, 'tradit': 1089, 'grade': 1090, 'asid': 1091, '60': 1092, 'brutal': 1093, 'steve': 1094, 'somewher': 1095, 'rule': 1096, 'grant': 1097, 'explor': 1098, 'u': 1099, 'opportun': 1100, 'depress': 1101, 'besid': 1102, 'honest': 1103, 'anti': 1104, 'dub': 1105, 'trailer': 1106, 'intend': 1107, 'bar': 1108, 'west': 1109, 'regard': 1110, 'longer': 1111, 'scientist': 1112, 'judg': 1113, 'decad': 1114, 'silent': 1115, 'armi': 1116, 'creativ': 1117, 'wild': 1118, 'g': 1119, 'south': 1120, 'stewart': 1121, 'draw': 1122, 'road': 1123, 'govern': 1124, 'ex': 1125, 'boss': 1126, 'practic': 1127, 'surprisingli': 1128, 'motiv': 1129, 'gang': 1130, 'festiv': 1131, 'club': 1132, 'green': 1133, 'london': 1134, 'page': 1135, 'redeem': 1136, 'display': 1137, 'machin': 1138, 'aliv': 1139, 'idiot': 1140, 'militari': 1141, 'repeat': 1142, 'thrill': 1143, '100': 1144, 'folk': 1145, 'yeah': 1146, 'nobodi': 1147, '40': 1148, 'garbag': 1149, 'journey': 1150, 'tire': 1151, 'smile': 1152, 'ground': 1153, 'bought': 1154, 'mood': 1155, 'cost': 1156, 'stone': 1157, 'sam': 1158, 'mouth': 1159, 'noir': 1160, 'agent': 1161, 'terrif': 1162, 'requir': 1163, 'utterli': 1164, 'area': 1165, 'sexi': 1166, 'honestli': 1167, 'report': 1168, 'geniu': 1169, 'enter': 1170, 'humour': 1171, 'investig': 1172, 'glad': 1173, 'serial': 1174, 'narr': 1175, 'passion': 1176, 'occasion': 1177, 'climax': 1178, 'marriag': 1179, 'studi': 1180, 'industri': 1181, 'demon': 1182, 'ship': 1183, 'charli': 1184, 'nowher': 1185, 'center': 1186, 'loos': 1187, 'hors': 1188, 'bear': 1189, 'hang': 1190, 'wow': 1191, 'graphic': 1192, 'giant': 1193, 'admir': 1194, 'send': 1195, 'damn': 1196, 'loud': 1197, 'nake': 1198, 'rel': 1199, 'subtl': 1200, 'profession': 1201, 'blow': 1202, 'bottom': 1203, 'insult': 1204, 'batman': 1205, 'doubl': 1206, 'r': 1207, 'boyfriend': 1208, 'kelli': 1209, 'initi': 1210, 'frame': 1211, 'gem': 1212, 'opera': 1213, 'church': 1214, 'affect': 1215, 'cinemat': 1216, 'challeng': 1217, 'drawn': 1218, 'nightmar': 1219, 'l': 1220, 'seek': 1221, 'evid': 1222, 'j': 1223, 'fulli': 1224, 'arm': 1225, 'essenti': 1226, 'conflict': 1227, 'wind': 1228, 'henri': 1229, 'christoph': 1230, 'grace': 1231, 'assum': 1232, 'narrat': 1233, 'witch': 1234, 'push': 1235, 'hunt': 1236, 'chri': 1237, 'wise': 1238, 'repres': 1239, 'month': 1240, 'nomin': 1241, 'affair': 1242, 'avail': 1243, 'sceneri': 1244, 'hide': 1245, 'bond': 1246, 'smart': 1247, 'thu': 1248, 'justic': 1249, 'interview': 1250, 'outstand': 1251, 'flashback': 1252, 'presenc': 1253, 'satisfi': 1254, 'constantli': 1255, 'central': 1256, 'bed': 1257, 'sell': 1258, 'iron': 1259, 'content': 1260, 'everybodi': 1261, 'gag': 1262, 'hotel': 1263, 'slowli': 1264, 'hire': 1265, 'system': 1266, 'thrown': 1267, 'charl': 1268, 'hey': 1269, 'adam': 1270, 'individu': 1271, 'allen': 1272, 'mediocr': 1273, 'jone': 1274, 'billi': 1275, 'ray': 1276, 'lesson': 1277, 'photographi': 1278, 'cameo': 1279, 'pari': 1280, 'fellow': 1281, 'strike': 1282, 'independ': 1283, 'brief': 1284, 'absurd': 1285, 'rise': 1286, 'neg': 1287, 'phone': 1288, 'impact': 1289, 'model': 1290, 'born': 1291, 'ill': 1292, 'fresh': 1293, 'angl': 1294, 'spoil': 1295, 'abus': 1296, 'likabl': 1297, 'hill': 1298, 'discuss': 1299, 'sight': 1300, 'ahead': 1301, 'sent': 1302, 'photograph': 1303, 'blame': 1304, 'shine': 1305, 'occur': 1306, 'logic': 1307, 'mainli': 1308, 'bruce': 1309, 'commerci': 1310, 'forev': 1311, 'skip': 1312, 'surround': 1313, 'held': 1314, 'teacher': 1315, 'segment': 1316, 'zero': 1317, 'blond': 1318, 'satir': 1319, 'summer': 1320, 'trap': 1321, 'resembl': 1322, 'six': 1323, 'queen': 1324, 'ball': 1325, 'fool': 1326, 'tragedi': 1327, 'twice': 1328, 'sub': 1329, 'reaction': 1330, 'pack': 1331, 'bomb': 1332, 'protagonist': 1333, 'will': 1334, 'hospit': 1335, 'mile': 1336, 'sport': 1337, 'trust': 1338, 'vote': 1339, 'drink': 1340, 'mom': 1341, 'jerri': 1342, 'encount': 1343, 'plane': 1344, 'program': 1345, 'current': 1346, 'al': 1347, 'station': 1348, 'martin': 1349, 'celebr': 1350, 'choos': 1351, 'join': 1352, 'lord': 1353, 'round': 1354, 'tragic': 1355, 'favourit': 1356, 'field': 1357, 'robot': 1358, 'jean': 1359, 'vision': 1360, 'arthur': 1361, 'tie': 1362, 'roger': 1363, 'random': 1364, 'fortun': 1365, 'intern': 1366, 'psycholog': 1367, 'dread': 1368, 'epic': 1369, 'prefer': 1370, 'improv': 1371, 'nonsens': 1372, 'highlight': 1373, 'pleasur': 1374, 'legend': 1375, 'formula': 1376, 'dollar': 1377, 'tape': 1378, '11': 1379, 'object': 1380, 'thin': 1381, 'fox': 1382, 'wide': 1383, 'gorgeou': 1384, 'porn': 1385, 'influenc': 1386, 'ugli': 1387, 'buddi': 1388, 'nasti': 1389, 'ii': 1390, 'prepar': 1391, 'warm': 1392, 'supposedli': 1393, 'reflect': 1394, 'progress': 1395, 'youth': 1396, 'worthi': 1397, 'length': 1398, 'unusu': 1399, 'latter': 1400, 'crash': 1401, 'childhood': 1402, 'superior': 1403, 'seven': 1404, 'shop': 1405, 'remot': 1406, 'theatr': 1407, 'funniest': 1408, 'disgust': 1409, 'pilot': 1410, 'paid': 1411, 'convers': 1412, 'fell': 1413, 'trick': 1414, 'castl': 1415, 'establish': 1416, 'gangster': 1417, 'rob': 1418, 'disast': 1419, 'ident': 1420, 'heaven': 1421, 'suicid': 1422, 'mine': 1423, 'disappear': 1424, 'decis': 1425, 'singer': 1426, 'heroin': 1427, 'tend': 1428, 'forgotten': 1429, 'mask': 1430, 'brian': 1431, 'partner': 1432, 'alan': 1433, 'recogn': 1434, 'desert': 1435, 'p': 1436, 'thoroughli': 1437, 'stuck': 1438, 'ms': 1439, 'sky': 1440, 'accur': 1441, 'replac': 1442, 'market': 1443, 'eddi': 1444, 'danni': 1445, 'andi': 1446, 'commentari': 1447, 'clue': 1448, 'uncl': 1449, 'seemingli': 1450, 'jackson': 1451, 'devil': 1452, 'refus': 1453, 'pair': 1454, 'therefor': 1455, 'that': 1456, 'ed': 1457, 'unit': 1458, 'accid': 1459, 'fault': 1460, 'fate': 1461, 'river': 1462, 'tune': 1463, 'afraid': 1464, 'russian': 1465, 'hidden': 1466, 'stephen': 1467, 'clean': 1468, 'irrit': 1469, 'quick': 1470, 'readi': 1471, 'convey': 1472, 'captain': 1473, 'instanc': 1474, 'test': 1475, 'european': 1476, 'insan': 1477, 'frustrat': 1478, 'daniel': 1479, 'chines': 1480, 'wed': 1481, 'food': 1482, 'rescu': 1483, '1950': 1484, 'dirti': 1485, 'lock': 1486, 'angri': 1487, 'joy': 1488, 'price': 1489, 'steven': 1490, 'cage': 1491, 'bland': 1492, 'rang': 1493, 'anymor': 1494, 'wooden': 1495, 'n': 1496, 'jason': 1497, 'news': 1498, 'rush': 1499, '12': 1500, 'led': 1501, 'twenti': 1502, 'board': 1503, 'worri': 1504, 'martial': 1505, 'transform': 1506, 'cgi': 1507, 'hunter': 1508, 'symbol': 1509, 'onto': 1510, 'johnni': 1511, 'sentiment': 1512, 'invent': 1513, 'piti': 1514, 'x': 1515, 'process': 1516, 'attitud': 1517, 'explan': 1518, 'awar': 1519, 'owner': 1520, 'aim': 1521, 'energi': 1522, 'target': 1523, 'favor': 1524, 'necessari': 1525, 'floor': 1526, 'religi': 1527, 'opposit': 1528, 'window': 1529, 'insight': 1530, 'blind': 1531, 'chick': 1532, 'movement': 1533, 'possess': 1534, 'deepli': 1535, 'comparison': 1536, 'research': 1537, 'mountain': 1538, 'whatsoev': 1539, 'grand': 1540, 'comed': 1541, 'rain': 1542, 'mid': 1543, 'shadow': 1544, 'began': 1545, 'bank': 1546, 'princ': 1547, 'parodi': 1548, 'weapon': 1549, 'friendship': 1550, 'pre': 1551, 'taylor': 1552, 'credibl': 1553, 'teach': 1554, 'dougla': 1555, 'flesh': 1556, 'protect': 1557, 'hint': 1558, 'bloodi': 1559, 'terror': 1560, 'marvel': 1561, 'watchabl': 1562, 'leader': 1563, 'drunk': 1564, 'anybodi': 1565, 'load': 1566, 'accord': 1567, 'superman': 1568, 'freddi': 1569, 'brown': 1570, 'appropri': 1571, 'seat': 1572, 'jeff': 1573, 'hitler': 1574, 'tim': 1575, 'charg': 1576, 'villag': 1577, 'knock': 1578, 'unknown': 1579, 'keaton': 1580, 'enemi': 1581, 'media': 1582, 'england': 1583, 'empti': 1584, 'unnecessari': 1585, 'utter': 1586, 'perspect': 1587, 'buck': 1588, 'craft': 1589, 'dare': 1590, 'wave': 1591, 'strength': 1592, 'correct': 1593, 'kiss': 1594, 'ford': 1595, 'contrast': 1596, 'nativ': 1597, 'speed': 1598, 'anywher': 1599, 'chill': 1600, 'distract': 1601, 'nazi': 1602, 'magnific': 1603, 'knowledg': 1604, 'soap': 1605, 'fred': 1606, 'mission': 1607, '1980': 1608, 'ice': 1609, 'breath': 1610, 'crowd': 1611, 'moon': 1612, 'joan': 1613, 'jr': 1614, 'kate': 1615, 'frighten': 1616, '000': 1617, 'soft': 1618, 'dick': 1619, 'dan': 1620, 'hundr': 1621, 'nick': 1622, 'dozen': 1623, 'radio': 1624, 'somebodi': 1625, 'simon': 1626, 'shakespear': 1627, 'thousand': 1628, 'andrew': 1629, 'loss': 1630, 'academi': 1631, 'root': 1632, 'vehicl': 1633, 'sum': 1634, 'quot': 1635, 'account': 1636, 'behavior': 1637, 'leg': 1638, 'convent': 1639, '1970': 1640, 'regular': 1641, 'gold': 1642, 'compet': 1643, 'pretenti': 1644, 'worker': 1645, 'demand': 1646, 'interpret': 1647, 'explos': 1648, 'stretch': 1649, 'candi': 1650, 'lynch': 1651, 'japan': 1652, 'privat': 1653, 'notabl': 1654, 'tarzan': 1655, 'constant': 1656, 'debut': 1657, 'prais': 1658, 'revolv': 1659, 'sea': 1660, 'translat': 1661, 'spi': 1662, 'ass': 1663, 'failur': 1664, 'threaten': 1665, 'sat': 1666, 'franc': 1667, 'jesu': 1668, 'technolog': 1669, 'quiet': 1670, 'aid': 1671, 'higher': 1672, 'met': 1673, 'punch': 1674, 'kevin': 1675, 'toy': 1676, 'vh': 1677, 'interact': 1678, 'mike': 1679, 'abandon': 1680, 'command': 1681, 'bet': 1682, 'confront': 1683, 'separ': 1684, 'servic': 1685, 'recal': 1686, 'techniqu': 1687, 'belong': 1688, 'gotten': 1689, 'site': 1690, 'stunt': 1691, 'foot': 1692, 'bug': 1693, 'freak': 1694, 'cabl': 1695, 'jimmi': 1696, 'capabl': 1697, 'fu': 1698, 'bright': 1699, 'african': 1700, 'fat': 1701, 'presid': 1702, 'stock': 1703, 'succeed': 1704, 'boat': 1705, 'clark': 1706, 'gene': 1707, 'structur': 1708, 'spanish': 1709, 'kidnap': 1710, 'paper': 1711, 'factor': 1712, 'belief': 1713, 'whilst': 1714, 'educ': 1715, 'realism': 1716, 'attend': 1717, 'realis': 1718, 'complic': 1719, 'witti': 1720, 'tree': 1721, 'bob': 1722, 'broken': 1723, 'santa': 1724, 'assist': 1725, 'finest': 1726, 'v': 1727, 'smoke': 1728, 'depart': 1729, 'up': 1730, 'determin': 1731, 'observ': 1732, 'domin': 1733, 'routin': 1734, 'hat': 1735, 'fame': 1736, 'lewi': 1737, 'rubbish': 1738, 'oper': 1739, 'kinda': 1740, 'lone': 1741, 'advanc': 1742, 'hook': 1743, 'foreign': 1744, 'morgan': 1745, 'safe': 1746, 'numer': 1747, 'rank': 1748, 'civil': 1749, 'rose': 1750, 'washington': 1751, 'shape': 1752, 'vs': 1753, 'shallow': 1754, 'werewolf': 1755, 'gari': 1756, 'morn': 1757, 'ordinari': 1758, 'kong': 1759, 'accomplish': 1760, 'winner': 1761, 'virtual': 1762, 'peac': 1763, 'grab': 1764, 'whenev': 1765, 'luck': 1766, 'h': 1767, 'offens': 1768, 'unfunni': 1769, 'contriv': 1770, 'complain': 1771, 'welcom': 1772, 'patient': 1773, 'activ': 1774, 'bigger': 1775, 'trek': 1776, 'pretend': 1777, 'con': 1778, 'dimension': 1779, 'cain': 1780, 'eric': 1781, 'wake': 1782, 'lesbian': 1783, 'code': 1784, 'flash': 1785, 'dri': 1786, 'guard': 1787, 'albert': 1788, 'dancer': 1789, 'corrupt': 1790, 'manipul': 1791, 'statu': 1792, 'speech': 1793, 'gain': 1794, 'context': 1795, 'sourc': 1796, 'signific': 1797, 'awkward': 1798, 'psycho': 1799, 'anthoni': 1800, 'corni': 1801, '13': 1802, 'sean': 1803, 'clip': 1804, 'religion': 1805, 'advic': 1806, 'curiou': 1807, 'w': 1808, 'theatric': 1809, 'reli': 1810, 'priest': 1811, 'addict': 1812, 'flow': 1813, 'secur': 1814, 'skin': 1815, 'howard': 1816, 'specif': 1817, 'asian': 1818, 'jennif': 1819, 'comfort': 1820, 'luke': 1821, 'golden': 1822, 'organ': 1823, 'promot': 1824, 'core': 1825, 'cash': 1826, 'lucki': 1827, 'cheat': 1828, 'dislik': 1829, 'associ': 1830, 'lower': 1831, 'balanc': 1832, 'contribut': 1833, 'frequent': 1834, 'degre': 1835, 'frankli': 1836, 'devic': 1837, 'regret': 1838, 'wing': 1839, 'spell': 1840, 'lake': 1841, 'print': 1842, 'sake': 1843, 'forgiv': 1844, 'mass': 1845, 'thoma': 1846, 'betti': 1847, 'gordon': 1848, 'unexpect': 1849, 'crack': 1850, 'unfold': 1851, 'construct': 1852, 'amateur': 1853, 'depend': 1854, 'invit': 1855, 'categori': 1856, 'grown': 1857, 'condit': 1858, 'matur': 1859, 'walter': 1860, 'anna': 1861, 'grew': 1862, 'honor': 1863, 'intellectu': 1864, 'spectacular': 1865, 'veteran': 1866, 'sole': 1867, 'sudden': 1868, 'mirror': 1869, 'overli': 1870, 'demonstr': 1871, 'grip': 1872, 'gift': 1873, 'robin': 1874, 'liner': 1875, 'meanwhil': 1876, 'freedom': 1877, 'experienc': 1878, 'card': 1879, 'colour': 1880, 'unabl': 1881, 'sheriff': 1882, 'theori': 1883, 'brilliantli': 1884, 'crappi': 1885, 'drew': 1886, 'section': 1887, 'oliv': 1888, 'subtitl': 1889, 'circumst': 1890, 'pile': 1891, 'path': 1892, 'laughter': 1893, 'altern': 1894, 'sheer': 1895, 'matt': 1896, 'parker': 1897, 'cook': 1898, 'lawyer': 1899, 'relief': 1900, 'hall': 1901, 'accident': 1902, 'defin': 1903, 'sinatra': 1904, 'treatment': 1905, 'wander': 1906, 'captiv': 1907, 'hank': 1908, 'dragon': 1909, 'moor': 1910, 'halloween': 1911, 'gratuit': 1912, 'k': 1913, 'kung': 1914, 'barbara': 1915, 'cowboy': 1916, 'wayn': 1917, 'broadway': 1918, 'wound': 1919, 'jacki': 1920, 'unintent': 1921, 'canadian': 1922, 'statement': 1923, 'winter': 1924, 'surreal': 1925, 'spoof': 1926, 'fish': 1927, 'compos': 1928, 'fare': 1929, 'cheer': 1930, 'treasur': 1931, 'gonna': 1932, 'unrealist': 1933, 'emerg': 1934, 'sensit': 1935, 'victor': 1936, 'woodi': 1937, 'driven': 1938, 'sympathet': 1939, 'neighbor': 1940, 'ran': 1941, 'glass': 1942, 'menac': 1943, 'overlook': 1944, 'expos': 1945, 'topic': 1946, 'authent': 1947, 'michel': 1948, 'handsom': 1949, 'ancient': 1950, 'chief': 1951, 'gross': 1952, 'network': 1953, 'contemporari': 1954, 'feet': 1955, 'built': 1956, 'pleasant': 1957, 'stranger': 1958, 'nevertheless': 1959, 'cinderella': 1960, 'comedian': 1961, 'russel': 1962, 'letter': 1963, 'earn': 1964, 'gori': 1965, 'underr': 1966, 'endless': 1967, 'consider': 1968, 'miser': 1969, 'blockbust': 1970, 'brook': 1971, 'switch': 1972, 'solv': 1973, 'convict': 1974, 'joseph': 1975, 'bullet': 1976, 'victoria': 1977, 'edward': 1978, 'virgin': 1979, 'scale': 1980, 'scenario': 1981, 'cynic': 1982, 'alex': 1983, '0': 1984, 'chosen': 1985, 'curs': 1986, 'sword': 1987, 'gut': 1988, 'outrag': 1989, 'com': 1990, 'proper': 1991, 'screenwrit': 1992, 'substanc': 1993, 'uk': 1994, 'juli': 1995, 'monkey': 1996, 'wrap': 1997, 'driver': 1998, 'bird': 1999, 'par': 2000, 'indic': 2001, 'court': 2002, 'remov': 2003, 'nanci': 2004, 'inevit': 2005, 'loser': 2006, 'grave': 2007, 'advertis': 2008, 'roy': 2009, 'naiv': 2010, 'consequ': 2011, 'rental': 2012, 'bridg': 2013, 'fatal': 2014, 'invis': 2015, 'germani': 2016, 'slap': 2017, 'le': 2018, 'brave': 2019, 'footbal': 2020, 'provok': 2021, 'ador': 2022, 'anger': 2023, 'loui': 2024, 'alcohol': 2025, 'anderson': 2026, 'chan': 2027, 'stumbl': 2028, 'ryan': 2029, 'professor': 2030, 'willi': 2031, 'bat': 2032, 'assassin': 2033, 'sharp': 2034, '1930': 2035, 'australian': 2036, 'patrick': 2037, 'amateurish': 2038, 'strongli': 2039, 'saturday': 2040, 'lousi': 2041, 'refresh': 2042, 'eight': 2043, 'heck': 2044, 'liber': 2045, 'cell': 2046, 'deni': 2047, 'trilog': 2048, 'ape': 2049, 'sin': 2050, 'resid': 2051, 'san': 2052, 'vagu': 2053, 'justifi': 2054, 'defeat': 2055, 'creator': 2056, 'sympathi': 2057, 'indi': 2058, 'reput': 2059, 'terrifi': 2060, 'mini': 2061, 'prevent': 2062, 'tabl': 2063, 'endur': 2064, 'tediou': 2065, 'expert': 2066, 'task': 2067, 'employ': 2068, 'che': 2069, 'basebal': 2070, 'trial': 2071, 'rival': 2072, 'imit': 2073, 'offend': 2074, 'dig': 2075, 'weekend': 2076, 'complaint': 2077, 'beach': 2078, 'max': 2079, 'europ': 2080, 'pitch': 2081, 'fairi': 2082, 'format': 2083, 'murphi': 2084, 'purchas': 2085, 'risk': 2086, 'hype': 2087, 'titan': 2088, 'powel': 2089, 'nois': 2090, 'reminisc': 2091, 'bite': 2092, 'glimps': 2093, 'tini': 2094, 'harsh': 2095, '14': 2096, 'north': 2097, 'asleep': 2098, 'till': 2099, 'strip': 2100, 'prime': 2101, 'fals': 2102, 'africa': 2103, 'revel': 2104, 'descript': 2105, 'destruct': 2106, 'texa': 2107, 'uninterest': 2108, 'semi': 2109, 'surfac': 2110, 'inner': 2111, 'excess': 2112, 'spin': 2113, 'sitcom': 2114, 'arrest': 2115, 'hitchcock': 2116, 'twin': 2117, 'controversi': 2118, 'argu': 2119, 'massiv': 2120, 'maintain': 2121, 'makeup': 2122, 'dinosaur': 2123, 'ideal': 2124, 'reject': 2125, 'ludicr': 2126, 'insist': 2127, 'melodrama': 2128, 'expens': 2129, 'stare': 2130, 'kim': 2131, 'host': 2132, 'erot': 2133, 'nail': 2134, 'supernatur': 2135, 'ala': 2136, 'columbo': 2137, 'forest': 2138, 'press': 2139, 'ga': 2140, 'subplot': 2141, 'atroci': 2142, 'notch': 2143, 'identifi': 2144, 'dude': 2145, 'cant': 2146, 'presum': 2147, 'crude': 2148, 'closer': 2149, 'character': 2150, 'guest': 2151, 'forgett': 2152, 'plagu': 2153, 'method': 2154, 'lion': 2155, 'landscap': 2156, 'border': 2157, 'princess': 2158, 'beast': 2159, 'foster': 2160, 'ear': 2161, 'accus': 2162, 'pacino': 2163, 'damag': 2164, 'birth': 2165, 'previous': 2166, 'urban': 2167, 'bound': 2168, 'jungl': 2169, 'storytel': 2170, 'aunt': 2171, 'chose': 2172, 'nude': 2173, 'emma': 2174, 'jess': 2175, 'propaganda': 2176, 'thirti': 2177, 'doll': 2178, 'guid': 2179, 'warrior': 2180, 'mainstream': 2181, 'mate': 2182, '25': 2183, 'whoever': 2184, 'pet': 2185, 'size': 2186, 'friday': 2187, 'cooper': 2188, 'latest': 2189, 'gritti': 2190, 'poster': 2191, 'upset': 2192, 'exact': 2193, 'deadli': 2194, 'merit': 2195, 'sun': 2196, '1990': 2197, 'settl': 2198, 'citizen': 2199, 'blend': 2200, 'contest': 2201, 'rough': 2202, 'buff': 2203, 'corps': 2204, 'ton': 2205, 'popul': 2206, 'warner': 2207, 'contact': 2208, 'wilson': 2209, 'pitt': 2210, 'bu': 2211, 'alic': 2212, 'select': 2213, 'rat': 2214, 'environ': 2215, 'mgm': 2216, 'widow': 2217, 'overcom': 2218, 'metal': 2219, 'guilti': 2220, 'lift': 2221, 'ted': 2222, 'link': 2223, 'revolut': 2224, 'particip': 2225, 'prostitut': 2226, 'moron': 2227, 'matrix': 2228, 'afternoon': 2229, 'accompani': 2230, '1960': 2231, 'exagger': 2232, 'corpor': 2233, 'corner': 2234, 'johnson': 2235, 'doom': 2236, 'instal': 2237, 'multipl': 2238, 'sincer': 2239, 'clair': 2240, 'leagu': 2241, 'friendli': 2242, 'hood': 2243, 'holm': 2244, 'hip': 2245, 'defend': 2246, 'campi': 2247, 'examin': 2248, 'irish': 2249, 'aka': 2250, 'blah': 2251, 'junk': 2252, 'advis': 2253, 'sunday': 2254, 'grim': 2255, 'string': 2256, 'lugosi': 2257, 'shake': 2258, 'tight': 2259, 'pro': 2260, 'varieti': 2261, 'icon': 2262, 'shut': 2263, 'rachel': 2264, 'confid': 2265, 'denni': 2266, 'jaw': 2267, 'medic': 2268, 'goal': 2269, 'sullivan': 2270, 'directli': 2271, 'mexican': 2272, 'attach': 2273, 'breast': 2274, 'terrorist': 2275, 'prior': 2276, 'sentenc': 2277, 'duke': 2278, 'legendari': 2279, 'courag': 2280, 'dean': 2281, 'sarah': 2282, 'truck': 2283, 'vietnam': 2284, 'bourn': 2285, 'nose': 2286, 'un': 2287, 'split': 2288, 'donald': 2289, 'hong': 2290, 'proceed': 2291, 'behav': 2292, 'yell': 2293, 'entri': 2294, 'unconvinc': 2295, 'forth': 2296, 'buri': 2297, 'swim': 2298, 'confess': 2299, 'lifetim': 2300, 'everywher': 2301, 'borrow': 2302, 'concentr': 2303, 'gather': 2304, 'stolen': 2305, 'crush': 2306, 'jerk': 2307, 'pan': 2308, 'lip': 2309, 'julia': 2310, 'california': 2311, 'turkey': 2312, 'spite': 2313, 'deliveri': 2314, 'reward': 2315, 'quest': 2316, 'downright': 2317, 'flight': 2318, 'freeman': 2319, 'proud': 2320, 'offici': 2321, 'hoffman': 2322, 'china': 2323, 'jon': 2324, 'inept': 2325, 'worthwhil': 2326, 'lazi': 2327, 'sink': 2328, 'sir': 2329, 'encourag': 2330, 'fabul': 2331, 'notori': 2332, 'fade': 2333, 'jail': 2334, 'betray': 2335, 'branagh': 2336, 'retard': 2337, 'storm': 2338, 'teeth': 2339, 'bag': 2340, 'imageri': 2341, 'relev': 2342, 'lisa': 2343, 'shower': 2344, 'cousin': 2345, 'susan': 2346, 'survivor': 2347, 'bell': 2348, 'facial': 2349, 'shark': 2350, 'mexico': 2351, 'tremend': 2352, 'stab': 2353, 'summari': 2354, 'alright': 2355, 'hugh': 2356, 'toler': 2357, 'bride': 2358, 'quirki': 2359, 'finger': 2360, 'trade': 2361, 'pose': 2362, 'bitter': 2363, 'ha': 2364, 'blown': 2365, 'hyster': 2366, 'von': 2367, 'larri': 2368, 'ron': 2369, 'bone': 2370, 'christ': 2371, 'cruel': 2372, 'ned': 2373, 'address': 2374, 'afterward': 2375, 'scheme': 2376, 'feed': 2377, 'thumb': 2378, 'distinct': 2379, 'screw': 2380, 'swear': 2381, 'traci': 2382, 'snake': 2383, 'beg': 2384, 'tour': 2385, 'pursu': 2386, 'occas': 2387, 'mechan': 2388, 'raw': 2389, 'chair': 2390, 'obscur': 2391, 'stomach': 2392, 'photo': 2393, 'cabin': 2394, 'render': 2395, 'gruesom': 2396, 'hardi': 2397, 'chain': 2398, 'resist': 2399, 'southern': 2400, 'holiday': 2401, 'argument': 2402, 'heavili': 2403, 'necessarili': 2404, 'sidney': 2405, 'indulg': 2406, 'satan': 2407, 'racist': 2408, 'understood': 2409, 'india': 2410, 'philip': 2411, 'integr': 2412, 'obnoxi': 2413, 'tongu': 2414, 'midnight': 2415, 'outfit': 2416, 'lay': 2417, 'stalk': 2418, 'belov': 2419, 'pregnant': 2420, 'fourth': 2421, 'forgot': 2422, '17': 2423, 'slapstick': 2424, 'magazin': 2425, 'ticket': 2426, 'deeper': 2427, 'restor': 2428, 'inhabit': 2429, 'garden': 2430, 'carol': 2431, 'brad': 2432, 'lincoln': 2433, 'devot': 2434, 'incid': 2435, 'shoe': 2436, 'divorc': 2437, 'benefit': 2438, 'lili': 2439, 'elizabeth': 2440, 'guarante': 2441, 'anticip': 2442, 'disbelief': 2443, 'sandler': 2444, 'underground': 2445, 'maria': 2446, 'capit': 2447, 'creation': 2448, 'cring': 2449, 'princip': 2450, 'mildli': 2451, 'explod': 2452, 'slave': 2453, 'greater': 2454, 'bbc': 2455, 'amazingli': 2456, 'halfway': 2457, 'introduct': 2458, 'lesli': 2459, 'funnier': 2460, 'extraordinari': 2461, 'text': 2462, 'tap': 2463, 'overwhelm': 2464, 'extent': 2465, 'enhanc': 2466, 'wreck': 2467, 'punish': 2468, 'transfer': 2469, 'advantag': 2470, 'east': 2471, 'error': 2472, 'deliber': 2473, 'horrif': 2474, 'plant': 2475, 'dynam': 2476, 'lane': 2477, 'preview': 2478, 'jessica': 2479, 'lo': 2480, 'vincent': 2481, 'miller': 2482, 'appli': 2483, '2000': 2484, 'homosexu': 2485, 'basi': 2486, 'miscast': 2487, 'sophist': 2488, 'vacat': 2489, 'ensu': 2490, 'sleazi': 2491, 'elev': 2492, 'spoken': 2493, 'measur': 2494, 'reed': 2495, 'via': 2496, 'steel': 2497, 'extend': 2498, 'uncomfort': 2499, 'mansion': 2500, 'bollywood': 2501, 'beer': 2502, 'overact': 2503, 'conceiv': 2504, 'assign': 2505, 'fix': 2506, 'goofi': 2507, 'melt': 2508, 'cathol': 2509, 'mous': 2510, 'breathtak': 2511, 'hippi': 2512, 'stanley': 2513, 'alter': 2514, 'daili': 2515, 'blair': 2516, 'savag': 2517, 'dentist': 2518, 'nowaday': 2519, 'sacrific': 2520, 'burt': 2521, 'succe': 2522, 'inspector': 2523, 'carpent': 2524, 'subsequ': 2525, 'everyday': 2526, 'oppos': 2527, 'properli': 2528, 'massacr': 2529, 'circl': 2530, 'neck': 2531, 'laura': 2532, 'block': 2533, 'portrait': 2534, 'access': 2535, 'grey': 2536, 'concert': 2537, 'pool': 2538, 'fallen': 2539, 'seagal': 2540, 'mob': 2541, 'fay': 2542, 'lesser': 2543, 'christi': 2544, 'chees': 2545, 'sinist': 2546, 'relax': 2547, 'jewish': 2548, 'competit': 2549, 'usa': 2550, 'react': 2551, 'isol': 2552, 'jake': 2553, 'appal': 2554, 'nine': 2555, 'suitabl': 2556, '2006': 2557, 'immens': 2558, 'lyric': 2559, 'spiritu': 2560, 'creep': 2561, 'stink': 2562, 'chop': 2563, 'nonetheless': 2564, 'ironi': 2565, 'retir': 2566, 'adopt': 2567, 'nut': 2568, 'reduc': 2569, 'needless': 2570, 'shirt': 2571, 'rage': 2572, 'showcas': 2573, 'spring': 2574, 'navi': 2575, 'luci': 2576, 'sold': 2577, 'franchis': 2578, 'user': 2579, 'per': 2580, 'bulli': 2581, 'stanwyck': 2582, 'bath': 2583, 'nurs': 2584, 'uninspir': 2585, 'asham': 2586, 'digit': 2587, 'zone': 2588, 'jay': 2589, 'oddli': 2590, '2001': 2591, 'illustr': 2592, '1940': 2593, 'broadcast': 2594, 'laid': 2595, 'amongst': 2596, 'upper': 2597, 'sutherland': 2598, 'aspir': 2599, 'baker': 2600, 'stylish': 2601, 'fulfil': 2602, 'throat': 2603, 'brando': 2604, 'disguis': 2605, 'nobl': 2606, 'thief': 2607, 'em': 2608, 'endear': 2609, '18': 2610, 'wanna': 2611, 'neighborhood': 2612, 'wwii': 2613, 'impli': 2614, 'pound': 2615, 'pride': 2616, 'bo': 2617, 'dawn': 2618, 'shoulder': 2619, 'distribut': 2620, 'shift': 2621, 'bett': 2622, 'coher': 2623, 'dinner': 2624, 'prop': 2625, 'tens': 2626, 'cinematograph': 2627, '16': 2628, 'diseas': 2629, 'albeit': 2630, 'rochest': 2631, 'surf': 2632, 'shout': 2633, 'rebel': 2634, 'contract': 2635, 'poignant': 2636, 'matthau': 2637, 'knife': 2638, 'function': 2639, 'wash': 2640, 'silenc': 2641, 'forti': 2642, 'snow': 2643, 'henc': 2644, 'instinct': 2645, 'mindless': 2646, 'horrend': 2647, 'chuck': 2648, 'proof': 2649, 'reunion': 2650, 'cancel': 2651, 'silver': 2652, 'duti': 2653, 'internet': 2654, 'height': 2655, 'heat': 2656, 'eeri': 2657, 'elvira': 2658, 'widmark': 2659, 'cannib': 2660, 'derek': 2661, 'pie': 2662, 'alik': 2663, 'torn': 2664, 'repetit': 2665, 'innov': 2666, 'musician': 2667, 'absorb': 2668, 'mill': 2669, 'glori': 2670, 'incoher': 2671, 'spielberg': 2672, 'greatli': 2673, 'neat': 2674, 'premier': 2675, 'etern': 2676, 'elvi': 2677, 'infam': 2678, 'lovabl': 2679, 'announc': 2680, 'crisi': 2681, 'wealthi': 2682, 'racism': 2683, 'blank': 2684, 'redempt': 2685, 'itali': 2686, 'trite': 2687, 'homag': 2688, 'precis': 2689, 'nelson': 2690, 'bang': 2691, 'britain': 2692, 'horrifi': 2693, 'diamond': 2694, 'burton': 2695, 'fbi': 2696, 'parallel': 2697, 'happili': 2698, 'dedic': 2699, 'ensembl': 2700, 'chaplin': 2701, 'hammer': 2702, 'resolut': 2703, 'wilder': 2704, 'streisand': 2705, 'flop': 2706, 'helen': 2707, 'pat': 2708, 'factori': 2709, 'mar': 2710, 'disagre': 2711, 'plastic': 2712, 'triumph': 2713, 'carter': 2714, 'conclud': 2715, 'st': 2716, 'broke': 2717, 'oil': 2718, 'cube': 2719, 'weight': 2720, 'rocket': 2721, 'march': 2722, 'bush': 2723, 'chuckl': 2724, 'fighter': 2725, 'climb': 2726, 'row': 2727, 'own': 2728, 'vega': 2729, 'dane': 2730, 'spare': 2731, 'enorm': 2732, 'thug': 2733, 'unforgett': 2734, 'boot': 2735, 'meaning': 2736, 'kurt': 2737, 'lust': 2738, 'dump': 2739, 'sensibl': 2740, 'wherea': 2741, 'mst3k': 2742, 'luca': 2743, 'butt': 2744, 'stress': 2745, 'difficulti': 2746, 'caricatur': 2747, 'dear': 2748, 'arnold': 2749, 'threat': 2750, 'brand': 2751, 'rap': 2752, 'engin': 2753, 'adequ': 2754, 'bobbi': 2755, 'fifti': 2756, 'karloff': 2757, 'hamlet': 2758, 'ego': 2759, 'polish': 2760, 'flynn': 2761, 'barri': 2762, 'elabor': 2763, 'fest': 2764, 'arrog': 2765, 'journalist': 2766, 'homeless': 2767, 'swing': 2768, 'ralph': 2769, 'secretari': 2770, 'unbear': 2771, 'fanci': 2772, 'grate': 2773, 'resort': 2774, 'induc': 2775, 'arrang': 2776, 'simpson': 2777, 'tool': 2778, 'float': 2779, 'puppet': 2780, 'spike': 2781, 'conspiraci': 2782, 'tribut': 2783, 'pig': 2784, 'guilt': 2785, 'exercis': 2786, 'choreograph': 2787, 'basement': 2788, 'phillip': 2789, 'boll': 2790, 'cruis': 2791, 'muppet': 2792, 'tower': 2793, 'scarecrow': 2794, 'fianc': 2795, 'layer': 2796, 'stan': 2797, 'ward': 2798, 'korean': 2799, 'medium': 2800, 'puzzl': 2801, 'babe': 2802, 'editor': 2803, 'item': 2804, 'document': 2805, 'toilet': 2806, 'ham': 2807, 'slip': 2808, '24': 2809, 'file': 2810, 'catherin': 2811, 'denzel': 2812, 'librari': 2813, 'glover': 2814, 'larger': 2815, 'superfici': 2816, 'doc': 2817, 'slaughter': 2818, 'territori': 2819, 'persona': 2820, 'orient': 2821, 'spark': 2822, 'inexplic': 2823, 'assur': 2824, 'minim': 2825, 'portion': 2826, 'transit': 2827, 'philosoph': 2828, 'jet': 2829, 'jeremi': 2830, 'pg': 2831, 'shi': 2832, 'wolf': 2833, 'boredom': 2834, 'ban': 2835, 'sneak': 2836, 'curti': 2837, 'dorothi': 2838, 'financi': 2839, 'owe': 2840, 'walken': 2841, 'ambigu': 2842, 'profound': 2843, 'hudson': 2844, 'multi': 2845, 'backdrop': 2846, 'metaphor': 2847, 'eleph': 2848, 'cusack': 2849, 'whale': 2850, 'union': 2851, 'birthday': 2852, '2005': 2853, 'implaus': 2854, 'hack': 2855, 'ultra': 2856, 'notion': 2857, 'stiff': 2858, 'elsewher': 2859, 'rave': 2860, 'viru': 2861, 'gadget': 2862, 'newspap': 2863, 'eastwood': 2864, 'squar': 2865, 'deriv': 2866, 'bibl': 2867, 'lloyd': 2868, 'canada': 2869, 'superhero': 2870, 'slight': 2871, 'poison': 2872, 'disc': 2873, 'reader': 2874, 'afford': 2875, 'hawk': 2876, '1st': 2877, 'pad': 2878, 'urg': 2879, 'eva': 2880, 'distanc': 2881, 'health': 2882, 'charisma': 2883, 'restaur': 2884, 'cure': 2885, 'sadist': 2886, 'montag': 2887, 'drown': 2888, 'essenc': 2889, 'spread': 2890, 'huh': 2891, 'skit': 2892, 'button': 2893, 'heston': 2894, 'gradual': 2895, 'companion': 2896, 'invest': 2897, 'godfath': 2898, 'fetch': 2899, 'peak': 2900, 'lab': 2901, 'estat': 2902, 'muslim': 2903, 'dealt': 2904, 'maniac': 2905, 'scoobi': 2906, 'alli': 2907, 'subtleti': 2908, 'kane': 2909, 'countless': 2910, 'gothic': 2911, 'cup': 2912, 'tea': 2913, 'servant': 2914, 'miik': 2915, 'ritter': 2916, 'heroic': 2917, 'iii': 2918, 'electr': 2919, 'charismat': 2920, 'briefli': 2921, 'salli': 2922, 'elect': 2923, 'toss': 2924, 'wannab': 2925, 'grandmoth': 2926, 'ingredi': 2927, 'nuanc': 2928, 'reel': 2929, 'admittedli': 2930, 'resourc': 2931, 'bud': 2932, 'neil': 2933, 'tender': 2934, 'cole': 2935, 'mild': 2936, 'stronger': 2937, 'carrey': 2938, 'dawson': 2939, 'mafia': 2940, 'stood': 2941, 'label': 2942, 'reev': 2943, 'poverti': 2944, 'shall': 2945, 'gate': 2946, 'punk': 2947, 'pit': 2948, 'kubrick': 2949, 'pauli': 2950, 'burst': 2951, 'assault': 2952, 'smash': 2953, 'easier': 2954, 'astair': 2955, 'fond': 2956, 'cox': 2957, 'outcom': 2958, 'ian': 2959, 'tag': 2960, 'cardboard': 2961, 'updat': 2962, 'smooth': 2963, 'useless': 2964, 'terri': 2965, 'bakshi': 2966, '2002': 2967, 'vulner': 2968, 'increasingli': 2969, 'fist': 2970, 'divers': 2971, 'resolv': 2972, 'qualifi': 2973, 'rex': 2974, 'melodramat': 2975, 'vari': 2976, 'sketch': 2977, 'coincid': 2978, 'exchang': 2979, 'samurai': 2980, 'scratch': 2981, 'reynold': 2982, 'insert': 2983, 'tame': 2984, 'luckili': 2985, 'templ': 2986, 'be': 2987, 'conveni': 2988, 'suspend': 2989, 'blast': 2990, 'brillianc': 2991, 'nuclear': 2992, 'coach': 2993, 'strictli': 2994, 'gotta': 2995, 'ambiti': 2996, 'farm': 2997, 'seventi': 2998, 'meat': 2999, 'walker': 3000, 'hamilton': 3001, 'jami': 3002, 'fisher': 3003, 'soprano': 3004, 'matthew': 3005, 'pin': 3006, 'eccentr': 3007, 'convolut': 3008, 'brosnan': 3009, 'empir': 3010, 'cave': 3011, 'spooki': 3012, 'discoveri': 3013, 'recreat': 3014, 'timeless': 3015, 'struck': 3016, 'ninja': 3017, 'butcher': 3018, 'worthless': 3019, 'joey': 3020, 'grasp': 3021, 'clock': 3022, 'closet': 3023, 'revers': 3024, 'instantli': 3025, 'kudo': 3026, 'monk': 3027, 'pal': 3028, 'cliff': 3029, 'sloppi': 3030, 'bleak': 3031, 'fifteen': 3032, 'communist': 3033, 'miracl': 3034, 'clown': 3035, 'mitchel': 3036, 'eighti': 3037, 'seller': 3038, 'sidekick': 3039, 'selfish': 3040, 'partli': 3041, 'norman': 3042, 'evok': 3043, 'declar': 3044, 'importantli': 3045, 'gray': 3046, 'wipe': 3047, 'inconsist': 3048, 'psychiatrist': 3049, 'flawless': 3050, 'superbl': 3051, '45': 3052, 'australia': 3053, 'stoog': 3054, 'cheek': 3055, 'websit': 3056, 'ho': 3057, 'debat': 3058, 'destin': 3059, 'enthusiast': 3060, 'chew': 3061, 'farc': 3062, 'piano': 3063, 'aforement': 3064, 'lifestyl': 3065, 'seed': 3066, 'directori': 3067, 'incompet': 3068, 'drivel': 3069, 'splatter': 3070, 'emili': 3071, 'slice': 3072, 'bash': 3073, 'regardless': 3074, 'pressur': 3075, 'soviet': 3076, 'dire': 3077, 'wick': 3078, 'kitchen': 3079, 'akshay': 3080, 'dash': 3081, 'wrestl': 3082, 'anni': 3083, 'abc': 3084, 'cagney': 3085, 'chapter': 3086, 'flower': 3087, 'prize': 3088, 'seduc': 3089, 'curios': 3090, 'cameron': 3091, 'suppli': 3092, 'lou': 3093, 'judi': 3094, 'pleasantli': 3095, 'glow': 3096, 'mann': 3097, 'recov': 3098, 'helicopt': 3099, 'jar': 3100, 'ken': 3101, 'artifici': 3102, 'duo': 3103, 'boil': 3104, 'beaten': 3105, 'dave': 3106, 'doo': 3107, 'cia': 3108, 'distant': 3109, 'increas': 3110, 'blob': 3111, 'francisco': 3112, 'psychot': 3113, 'splendid': 3114, 'glenn': 3115, 'goldberg': 3116, 'combat': 3117, 'laurel': 3118, 'panic': 3119, 'craven': 3120, 'ranger': 3121, 'favour': 3122, 'web': 3123, 'turner': 3124, 'craig': 3125, 'eleg': 3126, 'drunken': 3127, 'ellen': 3128, 'hop': 3129, 'perri': 3130, 'alexand': 3131, 'slightest': 3132, 'ruth': 3133, 'flip': 3134, 'falk': 3135, 'greek': 3136, '20th': 3137, 'hatr': 3138, 'rid': 3139, 'graduat': 3140, 'min': 3141, 'plausibl': 3142, 'gentl': 3143, 'wizard': 3144, 'shortli': 3145, 'modesti': 3146, 'philosophi': 3147, 'fx': 3148, 'gandhi': 3149, 'legal': 3150, 'holi': 3151, 'manhattan': 3152, 'tall': 3153, 'ocean': 3154, 'fund': 3155, 'we': 3156, 'unpleas': 3157, 'dracula': 3158, 'harm': 3159, 'lend': 3160, 'jealou': 3161, 'felix': 3162, 'knight': 3163, 'preciou': 3164, 'futurist': 3165, 'ami': 3166, 'nod': 3167, 'overdon': 3168, 'mock': 3169, 'tank': 3170, 'childish': 3171, 'bless': 3172, 'scientif': 3173, 'thread': 3174, 'reviv': 3175, 'explicit': 3176, 'digniti': 3177, 'giallo': 3178, 'forbidden': 3179, 'awaken': 3180, 'verhoeven': 3181, 'unwatch': 3182, 'nerv': 3183, 'torment': 3184, 'yesterday': 3185, '99': 3186, 'elderli': 3187, 'repeatedli': 3188, 'broad': 3189, 'margaret': 3190, 'fever': 3191, 'awe': 3192, 'thick': 3193, 'eve': 3194, '2004': 3195, 'pirat': 3196, 'mel': 3197, 'lean': 3198, 'roman': 3199, 'eas': 3200, 'acclaim': 3201, 'custom': 3202, 'bin': 3203, 'politician': 3204, 'royal': 3205, 'automat': 3206, 'ambit': 3207, 'stiller': 3208, 'griffith': 3209, 'timothi': 3210, 'uniform': 3211, 'ah': 3212, 'launch': 3213, 'rivet': 3214, 'romero': 3215, 'kay': 3216, 'absenc': 3217, 'publish': 3218, 'gabriel': 3219, 'darker': 3220, 'tomato': 3221, 'foul': 3222, 'antic': 3223, 'termin': 3224, 'transport': 3225, 'stinker': 3226, 'warren': 3227, 'sunshin': 3228, 'pulp': 3229, 'phrase': 3230, 'homicid': 3231, 'bathroom': 3232, 'purpl': 3233, 'pierc': 3234, 'crook': 3235, 'wallac': 3236, 'kenneth': 3237, 'karen': 3238, 'juvenil': 3239, 'awak': 3240, 'horrid': 3241, 'ought': 3242, 'contrari': 3243, 'pray': 3244, 'sixti': 3245, 'revolutionari': 3246, 'choreographi': 3247, 'hollow': 3248, 'li': 3249, 'packag': 3250, 'brazil': 3251, 'evolv': 3252, 'rambo': 3253, 'donna': 3254, 'viciou': 3255, 'coloni': 3256, 'q': 3257, 'saint': 3258, 'marin': 3259, 'album': 3260, '2003': 3261, 'eyr': 3262, 'prom': 3263, 'boast': 3264, 'mummi': 3265, 'dose': 3266, 'nerd': 3267, 'option': 3268, 'beatti': 3269, 'overr': 3270, 'candid': 3271, 'blade': 3272, 'ireland': 3273, 'stole': 3274, 'conserv': 3275, 'twelv': 3276, 'mildr': 3277, 'kapoor': 3278, 'defi': 3279, 'ramon': 3280, 'global': 3281, 'jazz': 3282, 'kirk': 3283, 'confirm': 3284, 'trio': 3285, 'altman': 3286, 'astonish': 3287, 'collabor': 3288, 'fulci': 3289, 'flame': 3290, 'natali': 3291, 'funer': 3292, 'detract': 3293, 'protest': 3294, 'enterpris': 3295, 'bull': 3296, 'spit': 3297, 'blake': 3298, 'tommi': 3299, 'audio': 3300, 'bottl': 3301, 'racial': 3302, 'delici': 3303, 'destini': 3304, 'shade': 3305, 'nicholson': 3306, 'mystic': 3307, 'leap': 3308, 'whip': 3309, 'yellow': 3310, 'pseudo': 3311, 'harder': 3312, 'vivid': 3313, 'altogeth': 3314, 'threw': 3315, 'fonda': 3316, 'todd': 3317, 'neo': 3318, 'staff': 3319, 'popcorn': 3320, 'inherit': 3321, 'bedroom': 3322, 'swedish': 3323, 'enchant': 3324, 'adolesc': 3325, 'reunit': 3326, 'meaningless': 3327, 'merci': 3328, 'visibl': 3329, 'crocodil': 3330, 'moodi': 3331, 'decor': 3332, 'jew': 3333, 'madonna': 3334, 'ruthless': 3335, 'await': 3336, 'uneven': 3337, 'lawrenc': 3338, 'exhibit': 3339, 'tip': 3340, 'fanat': 3341, 'leonard': 3342, 'kennedi': 3343, 'wire': 3344, 'respond': 3345, 'bust': 3346, 'lemmon': 3347, 'reserv': 3348, 'roommat': 3349, 'befriend': 3350, 'synopsi': 3351, 'suspici': 3352, 'atlanti': 3353, 'edi': 3354, 'voight': 3355, 'palma': 3356, 'ventur': 3357, 'bargain': 3358, 'chao': 3359, 'centr': 3360, 'clint': 3361, 'rural': 3362, 'bradi': 3363, 'voyag': 3364, 'carl': 3365, 'clumsi': 3366, 'incident': 3367, 'bold': 3368, '2007': 3369, 'unsettl': 3370, 'garner': 3371, 'abysm': 3372, 'dimens': 3373, 'holli': 3374, 'audit': 3375, 'characterist': 3376, 'echo': 3377, 'trail': 3378, 'cari': 3379, 'cuba': 3380, 'elimin': 3381, 'timon': 3382, 'imperson': 3383, 'versu': 3384, 'hart': 3385, 'troop': 3386, 'cd': 3387, 'nearbi': 3388, 'neglect': 3389, 'daddi': 3390, 'immigr': 3391, 'lit': 3392, 'mall': 3393, 'poetic': 3394, 'tiger': 3395, 'acknowledg': 3396, '2nd': 3397, 'wealth': 3398, 'humili': 3399, 'ant': 3400, 'paus': 3401, 'marshal': 3402, 'infect': 3403, 'mistaken': 3404, 'jeffrey': 3405, 'mickey': 3406, 'collaps': 3407, 'celluloid': 3408, 'domest': 3409, 'pun': 3410, 'saga': 3411, 'prejudic': 3412, 'homer': 3413, 'repuls': 3414, 'solo': 3415, 'olivi': 3416, 'promin': 3417, 'ginger': 3418, 'assembl': 3419, 'inan': 3420, 'leon': 3421, 'undoubtedli': 3422, 'sore': 3423, 'coffe': 3424, 'interrupt': 3425, 'inappropri': 3426, 'equip': 3427, 'tribe': 3428, 'chest': 3429, 'milk': 3430, 'cake': 3431, 'pant': 3432, 'gear': 3433, 'harvey': 3434, '1996': 3435, 'coat': 3436, 'apolog': 3437, 'hbo': 3438, 'vulgar': 3439, 'aveng': 3440, 'colleagu': 3441, 'polanski': 3442, 'airplan': 3443, 'trace': 3444, 'jenni': 3445, 'primari': 3446, 'institut': 3447, 'florida': 3448, 'furthermor': 3449, 'colonel': 3450, 'highest': 3451, 'devast': 3452, 'maggi': 3453, 'pen': 3454, 'pot': 3455, 'consum': 3456, 'exot': 3457, 'instant': 3458, 'embrac': 3459, 'humbl': 3460, 'retain': 3461, 'brooklyn': 3462, 'solut': 3463, 'principl': 3464, 'godzilla': 3465, 'cope': 3466, '3rd': 3467, 'descend': 3468, 'seduct': 3469, 'smaller': 3470, 'ya': 3471, 'sale': 3472, 'bowl': 3473, 'dian': 3474, 'wive': 3475, 'dutch': 3476, 'strain': 3477, 'linda': 3478, 'disabl': 3479, 'gender': 3480, 'poke': 3481, 'illog': 3482, 'rick': 3483, 'outer': 3484, '1999': 3485, 'glamor': 3486, 'dud': 3487, 'vast': 3488, 'rabbit': 3489, 'blatant': 3490, 'yard': 3491, 'secondli': 3492, 'dive': 3493, 'scope': 3494, 'primarili': 3495, 'predecessor': 3496, 'hal': 3497, 'lol': 3498, 'cue': 3499, 'beneath': 3500, 'inferior': 3501, 'mixtur': 3502, 'gloriou': 3503, 'gundam': 3504, 'devoid': 3505, 'bubbl': 3506, 'senseless': 3507, 'pearl': 3508, 'shelf': 3509, 'april': 3510, 'alfr': 3511, 'talki': 3512, 'shirley': 3513, 'museum': 3514, 'countrysid': 3515, 'trademark': 3516, 'invas': 3517, 'breed': 3518, 'disjoint': 3519, 'garbo': 3520, 'arab': 3521, 'myer': 3522, 'aggress': 3523, 'hideou': 3524, 'casual': 3525, 'alert': 3526, 'et': 3527, 'simplist': 3528, 'streep': 3529, 'z': 3530, 'domino': 3531, 'grinch': 3532, 'sh': 3533, 'defens': 3534, 'illeg': 3535, 'disgrac': 3536, 'stack': 3537, 'applaud': 3538, 'obtain': 3539, 'rendit': 3540, 'maci': 3541, 'hopeless': 3542, 'hardcor': 3543, 'unhappi': 3544, 'stellar': 3545, 'boom': 3546, 'loyal': 3547, 'experiment': 3548, 'mail': 3549, 'stir': 3550, 'acid': 3551, 'robberi': 3552, 'vanish': 3553, 'mayor': 3554, 'oz': 3555, 'khan': 3556, 'robinson': 3557, 'uwe': 3558, 'slide': 3559, 'incomprehens': 3560, 'emphasi': 3561, 'diana': 3562, 'wont': 3563, 'span': 3564, 'dicken': 3565, 'dismiss': 3566, 'recruit': 3567, 'topless': 3568, 'tenant': 3569, 'tempt': 3570, 'amanda': 3571, 'rifl': 3572, 'psychic': 3573, 'declin': 3574, 'grandfath': 3575, 'blew': 3576, 'soccer': 3577, 'berlin': 3578, 'craze': 3579, 'scroog': 3580, 'hartley': 3581, 'counter': 3582, 'spider': 3583, 'fri': 3584, 'justin': 3585, 'revolt': 3586, 'intim': 3587, 'resurrect': 3588, 'parad': 3589, 'shaw': 3590, 'bitch': 3591, 'wet': 3592, 'goer': 3593, 'sympath': 3594, 'trashi': 3595, 'faster': 3596, 'shed': 3597, 'ethnic': 3598, 'woo': 3599, 'sibl': 3600, 'niro': 3601, 'porno': 3602, 'ration': 3603, 'lumet': 3604, 'riot': 3605, 'unreal': 3606, 'enlighten': 3607, 'farmer': 3608, 'region': 3609, 'wheel': 3610, 'partial': 3611, 'weakest': 3612, 'slick': 3613, 'immort': 3614, 'choru': 3615, 'steam': 3616, 'lena': 3617, '00': 3618, 'honesti': 3619, 'biographi': 3620, 'ballet': 3621, 'commend': 3622, 'hesit': 3623, 'ensur': 3624, 'gap': 3625, 'feminist': 3626, 'eager': 3627, 'dealer': 3628, 'jonathan': 3629, 'rider': 3630, 'andr': 3631, 'nephew': 3632, 'worm': 3633, 'mario': 3634, 'hopper': 3635, 'patriot': 3636, 'wendi': 3637, 'nostalg': 3638, 'victori': 3639, 'util': 3640, 'leo': 3641, 'blunt': 3642, 'properti': 3643, 'kingdom': 3644, 'skull': 3645, 'safeti': 3646, 'hung': 3647, 'similarli': 3648, 'sappi': 3649, 'wore': 3650, 'vice': 3651, 'mutant': 3652, 'composit': 3653, 'macarthur': 3654, 'sandra': 3655, 'repress': 3656, 'charlott': 3657, 'owen': 3658, 'snap': 3659, 'prequel': 3660, 'psychopath': 3661, 'confin': 3662, 'morri': 3663, 'franco': 3664, 'deed': 3665, 'emperor': 3666, 'drum': 3667, '1972': 3668, 'rocki': 3669, 'bow': 3670, 'acquir': 3671, 'drain': 3672, 'whoopi': 3673, 'kyle': 3674, 'pattern': 3675, 'del': 3676, 'repli': 3677, 'rambl': 3678, 'miseri': 3679, 'speci': 3680, 'latin': 3681, 'strand': 3682, 'recycl': 3683, 'bonu': 3684, 'farrel': 3685, 'thru': 3686, 'exit': 3687, 'bumbl': 3688, 'tad': 3689, 'montana': 3690, 'valuabl': 3691, 'nervou': 3692, 'tail': 3693, 'heartbreak': 3694, 'compens': 3695, 'compass': 3696, 'campbel': 3697, 'despair': 3698, 'bergman': 3699, 'snl': 3700, 'dust': 3701, 'cg': 3702, 'hyde': 3703, 'rope': 3704, 'dalton': 3705, 'rapist': 3706, 'bleed': 3707, 'orson': 3708, 'olli': 3709, 'chess': 3710, 'airport': 3711, 'gimmick': 3712, 'carradin': 3713, 'percept': 3714, 'romp': 3715, 'rotten': 3716, 'tonight': 3717, 'mistress': 3718, 'radic': 3719, 'wacki': 3720, '35': 3721, 'downhil': 3722, 'pour': 3723, 'da': 3724, 'slug': 3725, 'gal': 3726, 'contempl': 3727, 'martian': 3728, 'oppress': 3729, 'roth': 3730, 'preach': 3731, 'unpredict': 3732, 'paltrow': 3733, 'pursuit': 3734, 'champion': 3735, 'dazzl': 3736, 'attorney': 3737, 'heal': 3738, 'pervers': 3739, 'stilt': 3740, 'banal': 3741, 'shelley': 3742, 'edgar': 3743, 'slash': 3744, 'arguabl': 3745, 'programm': 3746, 'pervert': 3747, 'tackl': 3748, 'arc': 3749, 'melodi': 3750, '1983': 3751, 'tooth': 3752, 'mislead': 3753, 'taught': 3754, 'belt': 3755, 'graham': 3756, 'rubi': 3757, 'virginia': 3758, 'chicken': 3759, 'duval': 3760, 'raymond': 3761, 'uplift': 3762, 'sensat': 3763, 'maid': 3764, 'franki': 3765, 'employe': 3766, 'dixon': 3767, 'gambl': 3768, 'plight': 3769, 'vocal': 3770, 'orang': 3771, 'cleverli': 3772, 'closest': 3773, 'passeng': 3774, 'tiresom': 3775, 'vengeanc': 3776, 'conneri': 3777, 'marti': 3778, 'bela': 3779, 'mesmer': 3780, 'poem': 3781, 'volum': 3782, 'engross': 3783, 'quarter': 3784, 'numb': 3785, 'bay': 3786, 'lundgren': 3787, 'paranoia': 3788, 'climact': 3789, 'swallow': 3790, 'gerard': 3791, 'giggl': 3792, 'profan': 3793, 'extens': 3794, 'yawn': 3795, 'abraham': 3796, 'habit': 3797, 'convincingli': 3798, 'mute': 3799, 'inject': 3800, 'monologu': 3801, 'iran': 3802, 'suffic': 3803, 'clone': 3804, 'amitabh': 3805, 'secretli': 3806, 'tube': 3807, 'outing': 3808, '1968': 3809, 'calm': 3810, 'whine': 3811, 'sirk': 3812, 'crystal': 3813, 'scottish': 3814, 'pokemon': 3815, 'lowest': 3816, 'dispos': 3817, 'austen': 3818, 'ethan': 3819, 'profess': 3820, 'taxi': 3821, 'poetri': 3822, 'septemb': 3823, 'expand': 3824, 'frankenstein': 3825, 'abort': 3826, 'plod': 3827, 'meander': 3828, 'linger': 3829, 'underst': 3830, 'backward': 3831, 'im': 3832, 'grotesqu': 3833, 'junior': 3834, 'nichola': 3835, 'trend': 3836, 'fed': 3837, 'franci': 3838, 'earl': 3839, 'spock': 3840, 'chicago': 3841, 'bend': 3842, 'surpass': 3843, 'richardson': 3844, 'stallon': 3845, 'rant': 3846, 'muddl': 3847, 'sue': 3848, 'der': 3849, 'nostalgia': 3850, 'catchi': 3851, 'greedi': 3852, 'lure': 3853, 'hum': 3854, 'spoke': 3855, 'dysfunct': 3856, 'eugen': 3857, 'simplic': 3858, 'descent': 3859, 'tourist': 3860, 'compliment': 3861, 'household': 3862, 'rubber': 3863, 'instrument': 3864, 'econom': 3865, 'mundan': 3866, 'cannon': 3867, 'waitress': 3868, 'myth': 3869, 'literatur': 3870, 'furi': 3871, 'mankind': 3872, 'duck': 3873, 'eaten': 3874, 'flee': 3875, 'occupi': 3876, 'recognit': 3877, 'omen': 3878, 'deaf': 3879, 'recognis': 3880, 'randi': 3881, 'map': 3882, 'phantom': 3883, 'louis': 3884, 'cent': 3885, 'firstli': 3886, 'dement': 3887, 'june': 3888, 'molli': 3889, 'stale': 3890, 'alongsid': 3891, 'equival': 3892, 'damon': 3893, 'phoni': 3894, 'mortal': 3895, 'lang': 3896, 'irrelev': 3897, 'sissi': 3898, 'hello': 3899, 'coast': 3900, 'insur': 3901, 'crucial': 3902, 'bacal': 3903, 'dictat': 3904, 'carel': 3905, 'buffalo': 3906, '1973': 3907, 'lengthi': 3908, 'rooney': 3909, 'biko': 3910, 'distinguish': 3911, 'likewis': 3912, 'newli': 3913, 'bump': 3914, 'rude': 3915, 'labor': 3916, 'reign': 3917, 'cyborg': 3918, 'dreari': 3919, 'damm': 3920, 'drake': 3921, 'freez': 3922, 'loyalti': 3923, 'antwon': 3924, 'onlin': 3925, 'blackmail': 3926, 'heel': 3927, 'twilight': 3928, 'daisi': 3929, 'ashley': 3930, 'bike': 3931, 'grayson': 3932, 'wisdom': 3933, 'startl': 3934, 'sailor': 3935, 'keith': 3936, 'exposur': 3937, 'ridden': 3938, 'worn': 3939, 'prey': 3940, 'barrymor': 3941, 'vein': 3942, 'attribut': 3943, 'analysi': 3944, 'approv': 3945, 'tunnel': 3946, 'butler': 3947, 'chronicl': 3948, 'incorpor': 3949, 'interior': 3950, 'provoc': 3951, 'nineti': 3952, 'inher': 3953, 'pink': 3954, 'basketbal': 3955, 'proce': 3956, 'boxer': 3957, 'unorigin': 3958, 'baddi': 3959, 'emphas': 3960, 'bunni': 3961, 'drift': 3962, 'carla': 3963, 'barrel': 3964, 'nicol': 3965, 'meg': 3966, 'underli': 3967, 'condemn': 3968, 'substitut': 3969, 'mighti': 3970, 'meyer': 3971, 'millionair': 3972, 'predat': 3973, 'elm': 3974, 'unrel': 3975, 'fleet': 3976, 'stalker': 3977, 'hypnot': 3978, 'belushi': 3979, 'othello': 3980, 'robbin': 3981, 'degrad': 3982, 'mormon': 3983, 'indiffer': 3984, 'undeni': 3985, 'simmon': 3986, 'improvis': 3987, 'er': 3988, 'walsh': 3989, 'julian': 3990, 'palac': 3991, 'dolph': 3992, 'errol': 3993, 'enthusiasm': 3994, 'edgi': 3995, 'roof': 3996, 'watson': 3997, 'warmth': 3998, 'marion': 3999, 'lampoon': 4000, 'firm': 4001, 'exquisit': 4002, 'alison': 4003, 'disord': 4004, 'unawar': 4005, 'vital': 4006, 'nyc': 4007, 'greed': 4008, 'mtv': 4009, 'hay': 4010, 'agenda': 4011, 'alarm': 4012, 'novak': 4013, 'shove': 4014, 'priceless': 4015, 'reid': 4016, '3d': 4017, 'rukh': 4018, 'showdown': 4019, 'profit': 4020, 'israel': 4021, 'peril': 4022, 'simultan': 4023, 'preserv': 4024, '1933': 4025, 'unleash': 4026, 'testament': 4027, 'peck': 4028, 'crown': 4029, 'campaign': 4030, 'minimum': 4031, 'glanc': 4032, 'zizek': 4033, 'angela': 4034, 'sergeant': 4035, 'drip': 4036, 'randomli': 4037, 'pamela': 4038, 'session': 4039, 'thompson': 4040, 'gestur': 4041, 'coup': 4042, 'iraq': 4043, 'eastern': 4044, 'beatl': 4045, 'petti': 4046, 'orlean': 4047, 'spain': 4048, 'championship': 4049, 'valentin': 4050, '13th': 4051, 'ponder': 4052, 'nun': 4053, 'cassidi': 4054, 'what': 4055, 'distort': 4056, 'travesti': 4057, 'rout': 4058, 'quinn': 4059, 'represent': 4060, 'contradict': 4061, 'kurosawa': 4062, 'calib': 4063, 'empathi': 4064, 'exposit': 4065, 'climat': 4066, 'scotland': 4067, 'unimagin': 4068, 'gentleman': 4069, 'restrain': 4070, 'reson': 4071, 'crow': 4072, 'perpetu': 4073, 'bro': 4074, 'regist': 4075, 'stake': 4076, 'jan': 4077, 'stroke': 4078, 'din': 4079, 'cream': 4080, 'cooki': 4081, 'wig': 4082, '1984': 4083, 'han': 4084, 'crawl': 4085, 'miyazaki': 4086, 'mon': 4087, 'brenda': 4088, 'valley': 4089, 'realm': 4090, 'buster': 4091, 'fido': 4092, 'sabrina': 4093, 'shootout': 4094, 'baldwin': 4095, 'pretens': 4096, 'wax': 4097, '1997': 4098, 'compromis': 4099, 'josh': 4100, 'demis': 4101, 'soderbergh': 4102, 'greg': 4103, 'monoton': 4104, 'femm': 4105, 'warrant': 4106, 'spacey': 4107, 'absent': 4108, 'derang': 4109, 'censor': 4110, 'unseen': 4111, 'distress': 4112, 'traumat': 4113, 'dana': 4114, 'shoddi': 4115, 'cloud': 4116, 'sucker': 4117, 'geek': 4118, 'pole': 4119, 'businessman': 4120, 'mclaglen': 4121, 'perceiv': 4122, 'passabl': 4123, '1987': 4124, 'crawford': 4125, 'unsatisfi': 4126, 'painter': 4127, 'abomin': 4128, 'meryl': 4129, 'sammi': 4130, 'ross': 4131, 'ustinov': 4132, 'delic': 4133, 'tacki': 4134, 'fuller': 4135, 'shaki': 4136, 'stargat': 4137, 'darren': 4138, 'clash': 4139, 'judgment': 4140, 'polici': 4141, 'uncov': 4142, 'furiou': 4143, '1993': 4144, 'accuraci': 4145, 'wholli': 4146, 'nathan': 4147, 'jewel': 4148, 'unravel': 4149, 'kumar': 4150, 'valid': 4151, 'fenc': 4152, 'tech': 4153, 'norm': 4154, 'sid': 4155, 'verbal': 4156, 'exclus': 4157, 'correctli': 4158, 'primit': 4159, 'seal': 4160, 'austin': 4161, 'deceas': 4162, 'expedit': 4163, 'tarantino': 4164, 'click': 4165, 'reluct': 4166, 'dee': 4167, 'fog': 4168, 'deniro': 4169, 'anchor': 4170, 'antonioni': 4171, 'sustain': 4172, 'fought': 4173, 'shanghai': 4174, 'fart': 4175, 'enforc': 4176, 'behold': 4177, 'clerk': 4178, 'conduct': 4179, 'mode': 4180, 'patienc': 4181, 'unfair': 4182, 'joel': 4183, 'pocket': 4184, 'crippl': 4185, 'sunni': 4186, 'bake': 4187, 'tax': 4188, 'temper': 4189, '2008': 4190, 'sheet': 4191, 'wang': 4192, 'fabric': 4193, 'murray': 4194, 'dreck': 4195, 'ritual': 4196, 'hallucin': 4197, 'wretch': 4198, 'logan': 4199, '3000': 4200, 'sand': 4201, 'roller': 4202, 'seldom': 4203, 'trait': 4204, 'alec': 4205, 'nicola': 4206, '1995': 4207, 'slam': 4208, 'darn': 4209, '1971': 4210, 'malon': 4211, 'debt': 4212, 'vanc': 4213, 'squad': 4214, 'schedul': 4215, 'stuart': 4216, 'legaci': 4217, 'guitar': 4218, 'rita': 4219, 'bias': 4220, 'conscious': 4221, 'preposter': 4222, 'runner': 4223, 'robber': 4224, 'stark': 4225, 'shell': 4226, 'canyon': 4227, 'grief': 4228, 'helpless': 4229, 'despis': 4230, 'penni': 4231, 'technicolor': 4232, 'phil': 4233, 'divid': 4234, 'exhaust': 4235, 'soup': 4236, 'pete': 4237, 'critiqu': 4238, 'outlin': 4239, 'tactic': 4240, 'preston': 4241, 'clau': 4242, 'sweep': 4243, 'isabel': 4244, 'bridget': 4245, 'scriptwrit': 4246, 'fundament': 4247, 'cigarett': 4248, 'inabl': 4249, 'jacket': 4250, 'flair': 4251, 'downey': 4252, 'newman': 4253, 'agenc': 4254, 'marc': 4255, 'delv': 4256, 'lacklust': 4257, 'implic': 4258, 'bloom': 4259, 'restrict': 4260, 'propos': 4261, 'russia': 4262, 'rehash': 4263, 'unexpectedli': 4264, 'gregori': 4265, 'rear': 4266, 'sentinel': 4267, 'vomit': 4268, 'passag': 4269, 'liberti': 4270, 'consciou': 4271, 'drove': 4272, 'alley': 4273, 'sniper': 4274, 'sugar': 4275, 'kansa': 4276, 'palanc': 4277, 'invad': 4278, 'culmin': 4279, 'alicia': 4280, 'boyl': 4281, 'jodi': 4282, 'connor': 4283, 'bacon': 4284, 'horn': 4285, 'sharon': 4286, 'cap': 4287, 'karl': 4288, 'feat': 4289, 'asylum': 4290, 'improb': 4291, 'behaviour': 4292, 'lush': 4293, 'awhil': 4294, 'rehears': 4295, 'mccoy': 4296, 'delet': 4297, '1936': 4298, 'pale': 4299, 'tendenc': 4300, 'vet': 4301, 'yeti': 4302, 'rampag': 4303, 'ladder': 4304, '22': 4305, 'foxx': 4306, 'rod': 4307, 'wrench': 4308, 'arrow': 4309, 'aesthet': 4310, 'tripe': 4311, 'chainsaw': 4312, 'kolchak': 4313, 'tomorrow': 4314, 'wagner': 4315, 'hungri': 4316, 'tasteless': 4317, 'scoop': 4318, '1978': 4319, 'minu': 4320, 'amazon': 4321, 'conscienc': 4322, 'paradis': 4323, 'weav': 4324, 'rhythm': 4325, 'coaster': 4326, 'rumor': 4327, 'loneli': 4328, '19th': 4329, 'filler': 4330, 'aristocrat': 4331, 'hackney': 4332, 'el': 4333, 'paramount': 4334, 'underneath': 4335, '1920': 4336, 'basing': 4337, 'newcom': 4338, 'visitor': 4339, 'suffici': 4340, 'financ': 4341, 'fright': 4342, 'suspicion': 4343, 'stream': 4344, 'lurk': 4345, 'wildli': 4346, 'prank': 4347, 'globe': 4348, 'elit': 4349, 'spice': 4350, '1988': 4351, 'hulk': 4352, 'shortcom': 4353, 'sung': 4354, 'thunderbird': 4355, 'en': 4356, 'counterpart': 4357, 'iv': 4358, 'hopkin': 4359, 'recogniz': 4360, 'entranc': 4361, 'couch': 4362, 'beverli': 4363, 'abrupt': 4364, 'choppi': 4365, 'penn': 4366, 'secondari': 4367, 'bread': 4368, 'ingeni': 4369, '1939': 4370, 'ram': 4371, 'minist': 4372, 'cancer': 4373, 'straightforward': 4374, 'lectur': 4375, 'inmat': 4376, 'immers': 4377, 'curli': 4378, 'naughti': 4379, 'tierney': 4380, 'rub': 4381, 'smell': 4382, 'impos': 4383, 'standout': 4384, 'posey': 4385, 'dirt': 4386, 'teas': 4387, '75': 4388, 'literari': 4389, 'atroc': 4390, 'chavez': 4391, 'worship': 4392, 'brit': 4393, 'chamberlain': 4394, 'springer': 4395, 'wwe': 4396, 'quietli': 4397, '1989': 4398, 'leigh': 4399, 'heist': 4400, 'grudg': 4401, 'paxton': 4402, 'lindsay': 4403, 'misguid': 4404, 'variat': 4405, 'transcend': 4406, 'yearn': 4407, 'cattl': 4408, 'missil': 4409, '1986': 4410, 'policeman': 4411, 'moreov': 4412, 'bernard': 4413, 'heartfelt': 4414, 'enthral': 4415, 'clan': 4416, 'geni': 4417, 'watcher': 4418, 'net': 4419, 'morbid': 4420, 'injuri': 4421, 'ace': 4422, 'ratso': 4423, 'entitl': 4424, 'esther': 4425, 'sublim': 4426, 'nemesi': 4427, 'duel': 4428, 'convert': 4429, 'sassi': 4430, 'laurenc': 4431, 'skeptic': 4432, 'attenborough': 4433, 'nolan': 4434, 'quaid': 4435, 'uncut': 4436, 'out': 4437, 'diari': 4438, 'brood': 4439, 'hopelessli': 4440, 'steadi': 4441, 'tyler': 4442, 'facil': 4443, 'cruelti': 4444, 'buzz': 4445, 'artsi': 4446, 'setup': 4447, 'puppi': 4448, 'unexplain': 4449, 'rosemari': 4450, 'poe': 4451, 'egg': 4452, 'youngest': 4453, 'hk': 4454, 'graini': 4455, 'moder': 4456, 'dont': 4457, 'carlito': 4458, 'bean': 4459, 'reliabl': 4460, 'bye': 4461, 'kidman': 4462, 'enabl': 4463, 'grin': 4464, '1979': 4465, 'characteris': 4466, 'mytholog': 4467, 'kitti': 4468, 'spiral': 4469, 'vader': 4470, 'obstacl': 4471, 'spontan': 4472, 'narrow': 4473, 'acquaint': 4474, 'disastr': 4475, 'bronson': 4476, 'baffl': 4477, 'effici': 4478, 'underworld': 4479, 'bewar': 4480, 'hain': 4481, 'clueless': 4482, 'oblig': 4483, 'weather': 4484, 'heap': 4485, '1969': 4486, 'martha': 4487, 'hammi': 4488, 'decept': 4489, 'exterior': 4490, 'brendan': 4491, 'gina': 4492, 'fuel': 4493, 'bounc': 4494, 'preming': 4495, 'patricia': 4496, 'despic': 4497, 'athlet': 4498, 'sweat': 4499, 'niec': 4500, 'christin': 4501, 'kline': 4502, 'gillian': 4503, 'housewif': 4504, 'outlaw': 4505, 'scar': 4506, 'headach': 4507, 'dandi': 4508, 'angst': 4509, 'trigger': 4510, 'sleepwalk': 4511, 'preachi': 4512, 'biker': 4513, 'analyz': 4514, 'uh': 4515, '19': 4516, '73': 4517, 'viewpoint': 4518, 'taboo': 4519, 'harmless': 4520, 'dilemma': 4521, 'mayhem': 4522, 'shatter': 4523, 'tick': 4524, 'injur': 4525, 'loath': 4526, 'enlist': 4527, 'astound': 4528, 'candl': 4529, 'goof': 4530, 'lester': 4531, 'suprem': 4532, 'sooner': 4533, 'circu': 4534, 'virtu': 4535, 'hepburn': 4536, 'mermaid': 4537, 'loi': 4538, 'insipid': 4539, 'rome': 4540, 'fontain': 4541, 'renaiss': 4542, 'salt': 4543, 'hostag': 4544, 'bent': 4545, 'overlong': 4546, 'hokey': 4547, 'cassavet': 4548, 'steer': 4549, 'amor': 4550, 'redund': 4551, 'foolish': 4552, 'camcord': 4553, 'spade': 4554, 'stimul': 4555, 'contempt': 4556, 'slimi': 4557, 'sox': 4558, 'boston': 4559, 'dish': 4560, 'phenomenon': 4561, 'hooker': 4562, 'whore': 4563, 'glorifi': 4564, 'claustrophob': 4565, 'zoom': 4566, 'immatur': 4567, 'fluff': 4568, 'tripl': 4569, 'ebert': 4570, 'intric': 4571, 'scorses': 4572, 'oldest': 4573, 'stair': 4574, 'gere': 4575, 'idol': 4576, 'surgeri': 4577, 'guin': 4578, 'filth': 4579, 'dismal': 4580, 'ariel': 4581, 'macho': 4582, 'corbett': 4583, 'trivia': 4584, 'remad': 4585, 'proport': 4586, 'rhyme': 4587, 'muscl': 4588, 'spree': 4589, 'antagonist': 4590, 'flirt': 4591, 'schlock': 4592, 'gasp': 4593, 'harold': 4594, 'mount': 4595, 'flashi': 4596, 'perman': 4597, 'down': 4598, 'flag': 4599, 'cush': 4600, 'strongest': 4601, '1976': 4602, 'spinal': 4603, 'radiat': 4604, 'shield': 4605, 'zane': 4606, 'transplant': 4607, 'obligatori': 4608, 'corman': 4609, 'faint': 4610, 'preced': 4611, 'astronaut': 4612, 'assert': 4613, 'gabl': 4614, 'mutual': 4615, 'joker': 4616, 'conquer': 4617, 'alvin': 4618, 'cow': 4619, 'nolt': 4620, 'frantic': 4621, 'messi': 4622, 'margin': 4623, 'keen': 4624, 'cohen': 4625, 'fascist': 4626, 'dwarf': 4627, '1981': 4628, 'widescreen': 4629, 'shred': 4630, 'beard': 4631, 'naschi': 4632, 'discern': 4633, 'brush': 4634, 'persuad': 4635, 'ritchi': 4636, 'bachelor': 4637, 'resum': 4638, '28': 4639, 'off': 4640, 'wield': 4641, 'claud': 4642, 'archiv': 4643, 'departur': 4644, 'inflict': 4645, 'hara': 4646, 'triangl': 4647, 'repris': 4648, 'mobil': 4649, 'barn': 4650, 'divin': 4651, '95': 4652, 'info': 4653, 'boob': 4654, '1945': 4655, 'www': 4656, 'deer': 4657, 'flock': 4658, 'neurot': 4659, 'carey': 4660, 'vaniti': 4661, 'scandal': 4662, 'instruct': 4663, 'bitten': 4664, 'someday': 4665, 'aborigin': 4666, 'fishburn': 4667, 'sensual': 4668, 'strive': 4669, 'raj': 4670, 'interestingli': 4671, 'danish': 4672, 'mol': 4673, 'pickford': 4674, 'frontier': 4675, 'anton': 4676, 'prophet': 4677, 'loretta': 4678, 'luka': 4679, 'fragil': 4680, 'cb': 4681, 'hapless': 4682, 'heartwarm': 4683, 'parson': 4684, 'proclaim': 4685, 'biblic': 4686, 'undermin': 4687, 'submit': 4688, 'timberlak': 4689, 'dame': 4690, 'dylan': 4691, 'vibrant': 4692, 'dim': 4693, 'cliffhang': 4694, 'rot': 4695, 'bate': 4696, 'ish': 4697, 'harrison': 4698, 'helm': 4699, 'neill': 4700, 'banter': 4701, 'melissa': 4702, 'carlo': 4703, 'traffic': 4704, 'pacif': 4705, 'senior': 4706, 'axe': 4707, 'earnest': 4708, 'cher': 4709, 'hug': 4710, 'cycl': 4711, 'artwork': 4712, 'hilar': 4713, 'mobster': 4714, 'recit': 4715, 'europa': 4716, 'pixar': 4717, 'casino': 4718, 'clad': 4719, 'colin': 4720, 'miracul': 4721, 'jade': 4722, 'kathryn': 4723, 'wendigo': 4724, 'pc': 4725, 'toronto': 4726, 'rooki': 4727, 'holocaust': 4728, 'sicken': 4729, 'isra': 4730, 'aris': 4731, 'breakfast': 4732, 'illus': 4733, 'northern': 4734, 'static': 4735, 'razor': 4736, 'feast': 4737, 'trier': 4738, 'articl': 4739, 'lucil': 4740, 'milo': 4741, 'cerebr': 4742, 'orphan': 4743, 'winchest': 4744, 'mason': 4745, 'redneck': 4746, 'misfortun': 4747, 'foil': 4748, 'wardrob': 4749, 'lui': 4750, 'http': 4751, 'eli': 4752, 'seedi': 4753, 'jo': 4754, 'nope': 4755, 'shepherd': 4756, 'jordan': 4757, 'blatantli': 4758, 'venom': 4759, 'marlon': 4760, 'alexandr': 4761, 'vanessa': 4762, 'token': 4763, 'bikini': 4764, 'electron': 4765, 'bondag': 4766, 'legitim': 4767, 'choke': 4768, 'antholog': 4769, 'akin': 4770, 'vile': 4771, 'estrang': 4772, 'uma': 4773, 'flavor': 4774, 'mathieu': 4775, 'glare': 4776, 'magician': 4777, 'retriev': 4778, 'nightclub': 4779, 'styliz': 4780, 'frog': 4781, 'abund': 4782, 'linear': 4783, 'oppon': 4784, 'huston': 4785, 'affleck': 4786, 'gilbert': 4787, 'ideolog': 4788, 'peer': 4789, 'turd': 4790, 'swept': 4791, 'psych': 4792, 'outdat': 4793, 'boyer': 4794, 'cartoonish': 4795, 'deem': 4796, 'leather': 4797, 'disregard': 4798, 'charlton': 4799, 'fifth': 4800, 'howl': 4801, 'comprehend': 4802, 'dudley': 4803, 'ceremoni': 4804, 'clinic': 4805, 'smack': 4806, 'tack': 4807, 'knightley': 4808, 'shorter': 4809, 'feminin': 4810, 'highway': 4811, 'audrey': 4812, 'wrestler': 4813, 'gunga': 4814, 'snatch': 4815, '1994': 4816, 'corn': 4817, 'breakdown': 4818, 'bastard': 4819, 'uniformli': 4820, 'sleaz': 4821, 'energet': 4822, 'newer': 4823, 'potter': 4824, 'client': 4825, 'boo': 4826, 'bogu': 4827, 'spawn': 4828, 'toe': 4829, 'btw': 4830, 'evolut': 4831, 'summar': 4832, 'phenomen': 4833, 'lifeless': 4834, 'compris': 4835, 'greet': 4836, 'durat': 4837, 'chip': 4838, 'cuban': 4839, 'braveheart': 4840, 'moe': 4841, 'plate': 4842, 'tara': 4843, 'spine': 4844, 'lavish': 4845, 'lighter': 4846, 'goldsworthi': 4847, 'senat': 4848, 'whack': 4849, 'einstein': 4850, 'collector': 4851, '4th': 4852, '1991': 4853, 'conrad': 4854, 'mitch': 4855, 'cemeteri': 4856, 'deliver': 4857, 'salman': 4858, 'monument': 4859, 'pronounc': 4860, 'firmli': 4861, 'mcqueen': 4862, 'cecil': 4863, 'spectacl': 4864, '1977': 4865, 'ol': 4866, 'embark': 4867, 'neatli': 4868, 'undead': 4869, 'creek': 4870, 'judd': 4871, 'occup': 4872, 'healthi': 4873, 'appl': 4874, 'signal': 4875, 'kent': 4876, 'lex': 4877, 'trauma': 4878, 'historian': 4879, 'gilliam': 4880, 'alleg': 4881, 'eleven': 4882, 'outright': 4883, 'randolph': 4884, '1974': 4885, 'armstrong': 4886, 'constitut': 4887, 'wtf': 4888, 'liu': 4889, 'jam': 4890, 'capot': 4891, 'jule': 4892, 'bulk': 4893, 'fluid': 4894, 'jedi': 4895, 'sorrow': 4896, 'replay': 4897, 'kazan': 4898, 'belli': 4899, 'undertak': 4900, 'inaccuraci': 4901, 'ie': 4902, 'luxuri': 4903, 'bori': 4904, 'clara': 4905, 'nina': 4906, 'evelyn': 4907, 'jare': 4908, 'vignett': 4909, 'ash': 4910, 'porter': 4911, 'unattract': 4912, 'forgiven': 4913, 'goldblum': 4914, 'abound': 4915, 'sacrif': 4916, 'mum': 4917, 'unsuspect': 4918, 'poker': 4919, 'pepper': 4920, 'miami': 4921, 'genet': 4922, 'comb': 4923, 'miniseri': 4924, 'knee': 4925, 'antonio': 4926, 'roar': 4927, 'sidewalk': 4928, 'subtli': 4929, 'truman': 4930, 'relentless': 4931, 'inclus': 4932, 'comprehens': 4933, 'basket': 4934, 'inaccur': 4935, 'bait': 4936, 'decapit': 4937, 'cape': 4938, 'kiddi': 4939, 'blur': 4940, 'palm': 4941, 'congratul': 4942, 'id': 4943, 'tokyo': 4944, 'meal': 4945, 'lauren': 4946, '1985': 4947, 'fruit': 4948, 'groan': 4949, 'bsg': 4950, 'conan': 4951, 'rosario': 4952, 'pioneer': 4953, 'lanc': 4954, 'carmen': 4955, 'aussi': 4956, 'vain': 4957, 'walt': 4958, 'galaxi': 4959, 'paula': 4960, 'spray': 4961, 'propheci': 4962, 'curtain': 4963, 'monti': 4964, 'profil': 4965, 'hostil': 4966, 'dubiou': 4967, 'growth': 4968, 'verg': 4969, 'assort': 4970, 'spill': 4971, 'turtl': 4972, 'ghetto': 4973, 'drone': 4974, 'detach': 4975, 'asset': 4976, 'ingrid': 4977, 'sophi': 4978, 'weari': 4979, 'orchestr': 4980, 'optimist': 4981, '21st': 4982, 'frontal': 4983, 'macabr': 4984, 'vastli': 4985, 'casper': 4986, 'rapidli': 4987, 'hackman': 4988, 'omin': 4989, 'scarfac': 4990, 'cypher': 4991, 'weaker': 4992, 'bach': 4993, 'substanti': 4994, 'epitom': 4995, 'evan': 4996, 'sparkl': 4997, 'modest': 4998, 'bravo': 4999}\n"
     ]
    }
   ],
   "source": [
    "print (word_dict)"
   ]
  },
  {
   "cell_type": "code",
   "execution_count": 17,
   "metadata": {},
   "outputs": [],
   "source": [
    "#Movie, Film, one, like, time"
   ]
  },
  {
   "cell_type": "markdown",
   "metadata": {},
   "source": [
    "**Question:** What are the five most frequently appearing (tokenized) words in the training set? Does it makes sense that these words appear frequently in the training set?"
   ]
  },
  {
   "cell_type": "markdown",
   "metadata": {},
   "source": [
    "**Answer:**"
   ]
  },
  {
   "cell_type": "markdown",
   "metadata": {},
   "source": [
    "\n",
    "The five most frequently appearing words in the training set are in descending order:\n",
    "- Movie\n",
    "- Film\n",
    "- One\n",
    "- Like\n",
    "- Time\n",
    "\n",
    "Although the word \"One\" does not reveal an obvious connection to the topic, the other words are clearly to be expected to appear in a movie review. As movie and film are obvious discoveriers, reviewing the experience clearly has a lot to do with wether one \"like[d]\" the \"time\" or was rather dissapointed.\n",
    "    "
   ]
  },
  {
   "cell_type": "markdown",
   "metadata": {},
   "source": [
    "### Save `word_dict`\n",
    "\n",
    "Later on when we construct an endpoint which processes a submitted review we will need to make use of the `word_dict` which we have created. As such, we will save it to a file now for future use."
   ]
  },
  {
   "cell_type": "code",
   "execution_count": 18,
   "metadata": {},
   "outputs": [],
   "source": [
    "data_dir = '../data/pytorch' # The folder we will use for storing data\n",
    "if not os.path.exists(data_dir): # Make sure that the folder exists\n",
    "    os.makedirs(data_dir)"
   ]
  },
  {
   "cell_type": "code",
   "execution_count": 19,
   "metadata": {},
   "outputs": [],
   "source": [
    "with open(os.path.join(data_dir, 'word_dict.pkl'), \"wb\") as f:\n",
    "    pickle.dump(word_dict, f)"
   ]
  },
  {
   "cell_type": "markdown",
   "metadata": {},
   "source": [
    "### Transform the reviews\n",
    "\n",
    "Now that we have our word dictionary which allows us to transform the words appearing in the reviews into integers, it is time to make use of it and convert our reviews to their integer sequence representation, making sure to pad or truncate to a fixed length, which in our case is `500`."
   ]
  },
  {
   "cell_type": "code",
   "execution_count": 20,
   "metadata": {},
   "outputs": [],
   "source": [
    "def convert_and_pad(word_dict, sentence, pad=500):\n",
    "    NOWORD = 0 # We will use 0 to represent the 'no word' category\n",
    "    INFREQ = 1 # and we use 1 to represent the infrequent words, i.e., words not appearing in word_dict\n",
    "    \n",
    "    working_sentence = [NOWORD] * pad\n",
    "    \n",
    "    for word_index, word in enumerate(sentence[:pad]):\n",
    "        if word in word_dict:\n",
    "            working_sentence[word_index] = word_dict[word]\n",
    "        else:\n",
    "            working_sentence[word_index] = INFREQ\n",
    "            \n",
    "    return working_sentence, min(len(sentence), pad)\n",
    "\n",
    "def convert_and_pad_data(word_dict, data, pad=500):\n",
    "    result = []\n",
    "    lengths = []\n",
    "    \n",
    "    for sentence in data:\n",
    "        converted, leng = convert_and_pad(word_dict, sentence, pad)\n",
    "        result.append(converted)\n",
    "        lengths.append(leng)\n",
    "        \n",
    "    return np.array(result), np.array(lengths)"
   ]
  },
  {
   "cell_type": "code",
   "execution_count": 21,
   "metadata": {},
   "outputs": [],
   "source": [
    "train_X, train_X_len = convert_and_pad_data(word_dict, train_X)\n",
    "test_X, test_X_len = convert_and_pad_data(word_dict, test_X)"
   ]
  },
  {
   "cell_type": "markdown",
   "metadata": {},
   "source": [
    "As a quick check to make sure that things are working as intended, check to see what one of the reviews in the training set looks like after having been processeed. Does this look reasonable? What is the length of a review in the training set?"
   ]
  },
  {
   "cell_type": "code",
   "execution_count": 22,
   "metadata": {},
   "outputs": [
    {
     "name": "stdout",
     "output_type": "stream",
     "text": [
      "500\n"
     ]
    }
   ],
   "source": [
    "print(len(train_X[4]))# e this cell to examine one of the processed reviews to make sure everything is working as intended."
   ]
  },
  {
   "cell_type": "markdown",
   "metadata": {},
   "source": [
    "**Question:** In the cells above we use the `preprocess_data` and `convert_and_pad_data` methods to process both the training and testing set. Why or why not might this be a problem?"
   ]
  },
  {
   "cell_type": "markdown",
   "metadata": {},
   "source": [
    "**Answer:**\n",
    "As all reviews become the same size after padding, possibly helpful information about the size of the review gets lost. Also there might be relatively rare words that get left out by the word_dict, but are in fact very distinctive for clasification of the specific reviews they are mentioned in."
   ]
  },
  {
   "cell_type": "markdown",
   "metadata": {},
   "source": [
    "## Step 3: Upload the data to S3\n",
    "\n",
    "As in the XGBoost notebook, we will need to upload the training dataset to S3 in order for our training code to access it. For now we will save it locally and we will upload to S3 later on.\n",
    "\n",
    "### Save the processed training dataset locally\n",
    "\n",
    "It is important to note the format of the data that we are saving as we will need to know it when we write the training code. In our case, each row of the dataset has the form `label`, `length`, `review[500]` where `review[500]` is a sequence of `500` integers representing the words in the review."
   ]
  },
  {
   "cell_type": "code",
   "execution_count": 23,
   "metadata": {},
   "outputs": [],
   "source": [
    "import pandas as pd\n",
    "    \n",
    "pd.concat([pd.DataFrame(train_y), pd.DataFrame(train_X_len), pd.DataFrame(train_X)], axis=1) \\\n",
    "        .to_csv(os.path.join(data_dir, 'train.csv'), header=False, index=False)"
   ]
  },
  {
   "cell_type": "markdown",
   "metadata": {},
   "source": [
    "### Uploading the training data\n",
    "\n",
    "\n",
    "Next, we need to upload the training data to the SageMaker default S3 bucket so that we can provide access to it while training our model."
   ]
  },
  {
   "cell_type": "code",
   "execution_count": 24,
   "metadata": {},
   "outputs": [],
   "source": [
    "import sagemaker\n",
    "\n",
    "sagemaker_session = sagemaker.Session()\n",
    "\n",
    "bucket = sagemaker_session.default_bucket()\n",
    "prefix = 'sagemaker/sentiment_rnn'\n",
    "\n",
    "role = sagemaker.get_execution_role()"
   ]
  },
  {
   "cell_type": "code",
   "execution_count": 25,
   "metadata": {},
   "outputs": [],
   "source": [
    "input_data = sagemaker_session.upload_data(path=data_dir, bucket=bucket, key_prefix=prefix)"
   ]
  },
  {
   "cell_type": "markdown",
   "metadata": {},
   "source": [
    "**NOTE:** The cell above uploads the entire contents of our data directory. This includes the `word_dict.pkl` file. This is fortunate as we will need this later on when we create an endpoint that accepts an arbitrary review. For now, we will just take note of the fact that it resides in the data directory (and so also in the S3 training bucket) and that we will need to make sure it gets saved in the model directory."
   ]
  },
  {
   "cell_type": "markdown",
   "metadata": {},
   "source": [
    "## Step 4: Build and Train the PyTorch Model\n",
    "\n",
    "In the XGBoost notebook we discussed what a model is in the SageMaker framework. In particular, a model comprises three objects\n",
    "\n",
    " - Model Artifacts,\n",
    " - Training Code, and\n",
    " - Inference Code,\n",
    " \n",
    "each of which interact with one another. In the XGBoost example we used training and inference code that was provided by Amazon. Here we will still be using containers provided by Amazon with the added benefit of being able to include our own custom code.\n",
    "\n",
    "We will start by implementing our own neural network in PyTorch along with a training script. For the purposes of this project we have provided the necessary model object in the `model.py` file, inside of the `train` folder. You can see the provided implementation by running the cell below."
   ]
  },
  {
   "cell_type": "code",
   "execution_count": 26,
   "metadata": {},
   "outputs": [
    {
     "name": "stdout",
     "output_type": "stream",
     "text": [
      "\u001b[34mimport\u001b[39;49;00m \u001b[04m\u001b[36mtorch.nn\u001b[39;49;00m \u001b[34mas\u001b[39;49;00m \u001b[04m\u001b[36mnn\u001b[39;49;00m\r\n",
      "\r\n",
      "\u001b[34mclass\u001b[39;49;00m \u001b[04m\u001b[32mLSTMClassifier\u001b[39;49;00m(nn.Module):\r\n",
      "    \u001b[33m\"\"\"\u001b[39;49;00m\r\n",
      "\u001b[33m    This is the simple RNN model we will be using to perform Sentiment Analysis.\u001b[39;49;00m\r\n",
      "\u001b[33m    \"\"\"\u001b[39;49;00m\r\n",
      "\r\n",
      "    \u001b[34mdef\u001b[39;49;00m \u001b[32m__init__\u001b[39;49;00m(\u001b[36mself\u001b[39;49;00m, embedding_dim, hidden_dim, vocab_size):\r\n",
      "        \u001b[33m\"\"\"\u001b[39;49;00m\r\n",
      "\u001b[33m        Initialize the model by settingg up the various layers.\u001b[39;49;00m\r\n",
      "\u001b[33m        \"\"\"\u001b[39;49;00m\r\n",
      "        \u001b[36msuper\u001b[39;49;00m(LSTMClassifier, \u001b[36mself\u001b[39;49;00m).\u001b[32m__init__\u001b[39;49;00m()\r\n",
      "\r\n",
      "        \u001b[36mself\u001b[39;49;00m.embedding = nn.Embedding(vocab_size, embedding_dim, padding_idx=\u001b[34m0\u001b[39;49;00m)\r\n",
      "        \u001b[36mself\u001b[39;49;00m.lstm = nn.LSTM(embedding_dim, hidden_dim)\r\n",
      "        \u001b[36mself\u001b[39;49;00m.dense = nn.Linear(in_features=hidden_dim, out_features=\u001b[34m1\u001b[39;49;00m)\r\n",
      "        \u001b[36mself\u001b[39;49;00m.sig = nn.Sigmoid()\r\n",
      "        \r\n",
      "        \u001b[36mself\u001b[39;49;00m.word_dict = \u001b[36mNone\u001b[39;49;00m\r\n",
      "\r\n",
      "    \u001b[34mdef\u001b[39;49;00m \u001b[32mforward\u001b[39;49;00m(\u001b[36mself\u001b[39;49;00m, x):\r\n",
      "        \u001b[33m\"\"\"\u001b[39;49;00m\r\n",
      "\u001b[33m        Perform a forward pass of our model on some input.\u001b[39;49;00m\r\n",
      "\u001b[33m        \"\"\"\u001b[39;49;00m\r\n",
      "        x = x.t()\r\n",
      "        lengths = x[\u001b[34m0\u001b[39;49;00m,:]\r\n",
      "        reviews = x[\u001b[34m1\u001b[39;49;00m:,:]\r\n",
      "        embeds = \u001b[36mself\u001b[39;49;00m.embedding(reviews)\r\n",
      "        lstm_out, _ = \u001b[36mself\u001b[39;49;00m.lstm(embeds)\r\n",
      "        out = \u001b[36mself\u001b[39;49;00m.dense(lstm_out)\r\n",
      "        out = out[lengths - \u001b[34m1\u001b[39;49;00m, \u001b[36mrange\u001b[39;49;00m(\u001b[36mlen\u001b[39;49;00m(lengths))]\r\n",
      "        \u001b[34mreturn\u001b[39;49;00m \u001b[36mself\u001b[39;49;00m.sig(out.squeeze())\r\n"
     ]
    }
   ],
   "source": [
    "!pygmentize train/model.py"
   ]
  },
  {
   "cell_type": "markdown",
   "metadata": {},
   "source": [
    "The important takeaway from the implementation provided is that there are three parameters that we may wish to tweak to improve the performance of our model. These are the embedding dimension, the hidden dimension and the size of the vocabulary. We will likely want to make these parameters configurable in the training script so that if we wish to modify them we do not need to modify the script itself. We will see how to do this later on. To start we will write some of the training code in the notebook so that we can more easily diagnose any issues that arise.\n",
    "\n",
    "First we will load a small portion of the training data set to use as a sample. It would be very time consuming to try and train the model completely in the notebook as we do not have access to a gpu and the compute instance that we are using is not particularly powerful. However, we can work on a small bit of the data to get a feel for how our training script is behaving."
   ]
  },
  {
   "cell_type": "code",
   "execution_count": 27,
   "metadata": {},
   "outputs": [],
   "source": [
    "import torch\n",
    "import torch.utils.data\n",
    "\n",
    "# Read in only the first 250 rows\n",
    "train_sample = pd.read_csv(os.path.join(data_dir, 'train.csv'), header=None, names=None, nrows=250)\n",
    "\n",
    "# Turn the input pandas dataframe into tensors\n",
    "train_sample_y = torch.from_numpy(train_sample[[0]].values).float().squeeze()\n",
    "train_sample_X = torch.from_numpy(train_sample.drop([0], axis=1).values).long()\n",
    "\n",
    "# Build the dataset\n",
    "train_sample_ds = torch.utils.data.TensorDataset(train_sample_X, train_sample_y)\n",
    "# Build the dataloader\n",
    "train_sample_dl = torch.utils.data.DataLoader(train_sample_ds, batch_size=50)"
   ]
  },
  {
   "cell_type": "markdown",
   "metadata": {},
   "source": [
    "### (TODO) Writing the training method\n",
    "\n",
    "Next we need to write the training code itself. This should be very similar to training methods that you have written before to train PyTorch models. We will leave any difficult aspects such as model saving / loading and parameter loading until a little later."
   ]
  },
  {
   "cell_type": "code",
   "execution_count": 28,
   "metadata": {},
   "outputs": [],
   "source": [
    "def train(model, train_loader, epochs, optimizer, loss_fn, device):\n",
    "    for epoch in range(1, epochs + 1):\n",
    "        model.train()\n",
    "        total_loss = 0\n",
    "        for batch in train_loader:         \n",
    "            batch_X, batch_y = batch\n",
    "            \n",
    "            batch_X = batch_X.to(device)\n",
    "            batch_y = batch_y.to(device)\n",
    "            \n",
    "            # TODO: Complete this train method to train the model provided.\n",
    "            optimizer.zero_grad()\n",
    "            output = model(batch_X)\n",
    "            loss = loss_fn(output,batch_y)\n",
    "            loss.backward()\n",
    "            optimizer.step()\n",
    "            \n",
    "            total_loss += loss.data.item()\n",
    "        print(\"Epoch: {}, BCELoss: {}\".format(epoch, total_loss / len(train_loader)))"
   ]
  },
  {
   "cell_type": "markdown",
   "metadata": {},
   "source": [
    "Supposing we have the training method above, we will test that it is working by writing a bit of code in the notebook that executes our training method on the small sample training set that we loaded earlier. The reason for doing this in the notebook is so that we have an opportunity to fix any errors that arise early when they are easier to diagnose."
   ]
  },
  {
   "cell_type": "code",
   "execution_count": 29,
   "metadata": {},
   "outputs": [
    {
     "name": "stdout",
     "output_type": "stream",
     "text": [
      "Epoch: 1, BCELoss: 0.6962793827056885\n",
      "Epoch: 2, BCELoss: 0.6858097434043884\n",
      "Epoch: 3, BCELoss: 0.6770472764968872\n",
      "Epoch: 4, BCELoss: 0.6676058650016785\n",
      "Epoch: 5, BCELoss: 0.6564043045043946\n"
     ]
    }
   ],
   "source": [
    "import torch\n",
    "import torch.optim as optim\n",
    "from train.model import LSTMClassifier\n",
    "\n",
    "device = torch.device(\"cuda\" if torch.cuda.is_available() else \"cpu\")\n",
    "model = LSTMClassifier(32, 100, 5000).to(device)\n",
    "optimizer = optim.Adam(model.parameters())\n",
    "loss_fn = torch.nn.BCELoss()\n",
    "\n",
    "train(model, train_sample_dl, 5, optimizer, loss_fn, device)"
   ]
  },
  {
   "cell_type": "markdown",
   "metadata": {},
   "source": [
    "In order to construct a PyTorch model using SageMaker we must provide SageMaker with a training script. We may optionally include a directory which will be copied to the container and from which our training code will be run. When the training container is executed it will check the uploaded directory (if there is one) for a `requirements.txt` file and install any required Python libraries, after which the training script will be run."
   ]
  },
  {
   "cell_type": "markdown",
   "metadata": {},
   "source": [
    "### (TODO) Training the model\n",
    "\n",
    "When a PyTorch model is constructed in SageMaker, an entry point must be specified. This is the Python file which will be executed when the model is trained. Inside of the `train` directory is a file called `train.py` which has been provided and which contains most of the necessary code to train our model. The only thing that is missing is the implementation of the `train()` method which you wrote earlier in this notebook.\n",
    "\n",
    "**TODO**: Copy the `train()` method written above and paste it into the `train/train.py` file where required.\n",
    "\n",
    "The way that SageMaker passes hyperparameters to the training script is by way of arguments. These arguments can then be parsed and used in the training script. To see how this is done take a look at the provided `train/train.py` file."
   ]
  },
  {
   "cell_type": "code",
   "execution_count": 30,
   "metadata": {},
   "outputs": [],
   "source": [
    "from sagemaker.pytorch import PyTorch\n",
    "\n",
    "estimator = PyTorch(entry_point=\"train.py\",\n",
    "                    source_dir=\"train\",\n",
    "                    role=role,\n",
    "                    framework_version='0.4.0',\n",
    "                    train_instance_count=1,\n",
    "                    train_instance_type='ml.p2.xlarge',\n",
    "                    hyperparameters={\n",
    "                        'epochs': 10,\n",
    "                        'hidden_dim': 200,\n",
    "                    })"
   ]
  },
  {
   "cell_type": "code",
   "execution_count": 31,
   "metadata": {},
   "outputs": [
    {
     "name": "stderr",
     "output_type": "stream",
     "text": [
      "INFO:sagemaker:Creating training-job with name: sagemaker-pytorch-2019-03-30-20-00-57-418\n"
     ]
    },
    {
     "name": "stdout",
     "output_type": "stream",
     "text": [
      "2019-03-30 20:00:58 Starting - Starting the training job...\n",
      "2019-03-30 20:01:00 Starting - Launching requested ML instances...\n",
      "2019-03-30 20:01:38 Starting - Insufficient capacity error from EC2 while launching instances, retrying!......\n",
      "2019-03-30 20:02:37 Starting - Preparing the instances for training.........\n",
      "2019-03-30 20:04:19 Downloading - Downloading input data...\n",
      "2019-03-30 20:04:59 Training - Training image download completed. Training in progress..\n",
      "\u001b[31mbash: cannot set terminal process group (-1): Inappropriate ioctl for device\u001b[0m\n",
      "\u001b[31mbash: no job control in this shell\u001b[0m\n",
      "\u001b[31m2019-03-30 20:05:00,725 sagemaker-containers INFO     Imported framework sagemaker_pytorch_container.training\u001b[0m\n",
      "\u001b[31m2019-03-30 20:05:00,753 sagemaker_pytorch_container.training INFO     Block until all host DNS lookups succeed.\u001b[0m\n",
      "\u001b[31m2019-03-30 20:05:02,163 sagemaker_pytorch_container.training INFO     Invoking user training script.\u001b[0m\n",
      "\u001b[31m2019-03-30 20:05:02,416 sagemaker-containers INFO     Module train does not provide a setup.py. \u001b[0m\n",
      "\u001b[31mGenerating setup.py\u001b[0m\n",
      "\u001b[31m2019-03-30 20:05:02,416 sagemaker-containers INFO     Generating setup.cfg\u001b[0m\n",
      "\u001b[31m2019-03-30 20:05:02,416 sagemaker-containers INFO     Generating MANIFEST.in\u001b[0m\n",
      "\u001b[31m2019-03-30 20:05:02,416 sagemaker-containers INFO     Installing module with the following command:\u001b[0m\n",
      "\u001b[31m/usr/bin/python -m pip install -U . -r requirements.txt\u001b[0m\n",
      "\u001b[31mProcessing /opt/ml/code\u001b[0m\n",
      "\u001b[31mCollecting pandas (from -r requirements.txt (line 1))\n",
      "  Downloading https://files.pythonhosted.org/packages/74/24/0cdbf8907e1e3bc5a8da03345c23cbed7044330bb8f73bb12e711a640a00/pandas-0.24.2-cp35-cp35m-manylinux1_x86_64.whl (10.0MB)\u001b[0m\n",
      "\u001b[31mCollecting numpy (from -r requirements.txt (line 2))\u001b[0m\n",
      "\u001b[31m  Downloading https://files.pythonhosted.org/packages/e3/18/4f013c3c3051f4e0ffbaa4bf247050d6d5e527fe9cb1907f5975b172f23f/numpy-1.16.2-cp35-cp35m-manylinux1_x86_64.whl (17.2MB)\u001b[0m\n",
      "\u001b[31mCollecting nltk (from -r requirements.txt (line 3))\n",
      "  Downloading https://files.pythonhosted.org/packages/6f/ed/9c755d357d33bc1931e157f537721efb5b88d2c583fe593cc09603076cc3/nltk-3.4.zip (1.4MB)\u001b[0m\n",
      "\u001b[31mCollecting beautifulsoup4 (from -r requirements.txt (line 4))\n",
      "  Downloading https://files.pythonhosted.org/packages/1d/5d/3260694a59df0ec52f8b4883f5d23b130bc237602a1411fa670eae12351e/beautifulsoup4-4.7.1-py3-none-any.whl (94kB)\u001b[0m\n",
      "\u001b[31mCollecting html5lib (from -r requirements.txt (line 5))\n",
      "  Downloading https://files.pythonhosted.org/packages/a5/62/bbd2be0e7943ec8504b517e62bab011b4946e1258842bc159e5dfde15b96/html5lib-1.0.1-py2.py3-none-any.whl (117kB)\u001b[0m\n",
      "\u001b[31mCollecting pytz>=2011k (from pandas->-r requirements.txt (line 1))\n",
      "  Downloading https://files.pythonhosted.org/packages/61/28/1d3920e4d1d50b19bc5d24398a7cd85cc7b9a75a490570d5a30c57622d34/pytz-2018.9-py2.py3-none-any.whl (510kB)\u001b[0m\n",
      "\u001b[31mRequirement already satisfied, skipping upgrade: python-dateutil>=2.5.0 in /usr/local/lib/python3.5/dist-packages (from pandas->-r requirements.txt (line 1)) (2.7.5)\u001b[0m\n",
      "\u001b[31mRequirement already satisfied, skipping upgrade: six in /usr/local/lib/python3.5/dist-packages (from nltk->-r requirements.txt (line 3)) (1.11.0)\u001b[0m\n",
      "\u001b[31mCollecting singledispatch (from nltk->-r requirements.txt (line 3))\n",
      "  Downloading https://files.pythonhosted.org/packages/c5/10/369f50bcd4621b263927b0a1519987a04383d4a98fb10438042ad410cf88/singledispatch-3.4.0.3-py2.py3-none-any.whl\u001b[0m\n",
      "\u001b[31mCollecting soupsieve>=1.2 (from beautifulsoup4->-r requirements.txt (line 4))\n",
      "  Downloading https://files.pythonhosted.org/packages/c9/f8/e54b1d771ed4fab66b3fa1c178e137a3c73d84fb6f64329bddf0da5a371c/soupsieve-1.9-py2.py3-none-any.whl\u001b[0m\n",
      "\u001b[31mCollecting webencodings (from html5lib->-r requirements.txt (line 5))\n",
      "  Downloading https://files.pythonhosted.org/packages/f4/24/2a3e3df732393fed8b3ebf2ec078f05546de641fe1b667ee316ec1dcf3b7/webencodings-0.5.1-py2.py3-none-any.whl\u001b[0m\n",
      "\u001b[31mBuilding wheels for collected packages: nltk, train\n",
      "  Running setup.py bdist_wheel for nltk: started\u001b[0m\n",
      "\u001b[31m  Running setup.py bdist_wheel for nltk: finished with status 'done'\n",
      "  Stored in directory: /root/.cache/pip/wheels/4b/c8/24/b2343664bcceb7147efeb21c0b23703a05b23fcfeaceaa2a1e\n",
      "  Running setup.py bdist_wheel for train: started\n",
      "  Running setup.py bdist_wheel for train: finished with status 'done'\n",
      "  Stored in directory: /tmp/pip-ephem-wheel-cache-zji4sb4i/wheels/35/24/16/37574d11bf9bde50616c67372a334f94fa8356bc7164af8ca3\u001b[0m\n",
      "\u001b[31mSuccessfully built nltk train\u001b[0m\n",
      "\u001b[31mInstalling collected packages: pytz, numpy, pandas, singledispatch, nltk, soupsieve, beautifulsoup4, webencodings, html5lib, train\n",
      "  Found existing installation: numpy 1.15.4\n",
      "    Uninstalling numpy-1.15.4:\n",
      "      Successfully uninstalled numpy-1.15.4\u001b[0m\n",
      "\u001b[31mSuccessfully installed beautifulsoup4-4.7.1 html5lib-1.0.1 nltk-3.4 numpy-1.16.2 pandas-0.24.2 pytz-2018.9 singledispatch-3.4.0.3 soupsieve-1.9 train-1.0.0 webencodings-0.5.1\u001b[0m\n",
      "\u001b[31mYou are using pip version 18.1, however version 19.0.3 is available.\u001b[0m\n",
      "\u001b[31mYou should consider upgrading via the 'pip install --upgrade pip' command.\u001b[0m\n",
      "\u001b[31m2019-03-30 20:05:13,767 sagemaker-containers INFO     Invoking user script\n",
      "\u001b[0m\n",
      "\u001b[31mTraining Env:\n",
      "\u001b[0m\n",
      "\u001b[31m{\n",
      "    \"log_level\": 20,\n",
      "    \"module_dir\": \"s3://sagemaker-eu-central-1-145868664741/sagemaker-pytorch-2019-03-30-20-00-57-418/source/sourcedir.tar.gz\",\n",
      "    \"input_dir\": \"/opt/ml/input\",\n",
      "    \"job_name\": \"sagemaker-pytorch-2019-03-30-20-00-57-418\",\n",
      "    \"num_cpus\": 4,\n",
      "    \"additional_framework_parameters\": {},\n",
      "    \"output_data_dir\": \"/opt/ml/output/data\",\n",
      "    \"hyperparameters\": {\n",
      "        \"hidden_dim\": 200,\n",
      "        \"epochs\": 10\n",
      "    },\n",
      "    \"model_dir\": \"/opt/ml/model\",\n",
      "    \"channel_input_dirs\": {\n",
      "        \"training\": \"/opt/ml/input/data/training\"\n",
      "    },\n",
      "    \"framework_module\": \"sagemaker_pytorch_container.training:main\",\n",
      "    \"network_interface_name\": \"ethwe\",\n",
      "    \"user_entry_point\": \"train.py\",\n",
      "    \"input_data_config\": {\n",
      "        \"training\": {\n",
      "            \"TrainingInputMode\": \"File\",\n",
      "            \"RecordWrapperType\": \"None\",\n",
      "            \"S3DistributionType\": \"FullyReplicated\"\n",
      "        }\n",
      "    },\n",
      "    \"output_dir\": \"/opt/ml/output\",\n",
      "    \"resource_config\": {\n",
      "        \"current_host\": \"algo-1\",\n",
      "        \"hosts\": [\n",
      "            \"algo-1\"\n",
      "        ],\n",
      "        \"network_interface_name\": \"ethwe\"\n",
      "    },\n",
      "    \"module_name\": \"train\",\n",
      "    \"hosts\": [\n",
      "        \"algo-1\"\n",
      "    ],\n",
      "    \"current_host\": \"algo-1\",\n",
      "    \"output_intermediate_dir\": \"/opt/ml/output/intermediate\",\n",
      "    \"num_gpus\": 1,\n",
      "    \"input_config_dir\": \"/opt/ml/input/config\"\u001b[0m\n",
      "\u001b[31m}\n",
      "\u001b[0m\n",
      "\u001b[31mEnvironment variables:\n",
      "\u001b[0m\n",
      "\u001b[31mSM_INPUT_CONFIG_DIR=/opt/ml/input/config\u001b[0m\n",
      "\u001b[31mSM_HPS={\"epochs\":10,\"hidden_dim\":200}\u001b[0m\n",
      "\u001b[31mSM_HOSTS=[\"algo-1\"]\u001b[0m\n",
      "\u001b[31mSM_MODEL_DIR=/opt/ml/model\u001b[0m\n",
      "\u001b[31mSM_OUTPUT_DATA_DIR=/opt/ml/output/data\u001b[0m\n",
      "\u001b[31mSM_CHANNEL_TRAINING=/opt/ml/input/data/training\u001b[0m\n",
      "\u001b[31mSM_NETWORK_INTERFACE_NAME=ethwe\u001b[0m\n",
      "\u001b[31mSM_HP_EPOCHS=10\u001b[0m\n",
      "\u001b[31mSM_NUM_CPUS=4\u001b[0m\n",
      "\u001b[31mSM_INPUT_DATA_CONFIG={\"training\":{\"RecordWrapperType\":\"None\",\"S3DistributionType\":\"FullyReplicated\",\"TrainingInputMode\":\"File\"}}\u001b[0m\n",
      "\u001b[31mSM_MODULE_NAME=train\u001b[0m\n",
      "\u001b[31mSM_CHANNELS=[\"training\"]\u001b[0m\n",
      "\u001b[31mSM_LOG_LEVEL=20\u001b[0m\n",
      "\u001b[31mSM_OUTPUT_DIR=/opt/ml/output\u001b[0m\n",
      "\u001b[31mSM_USER_ENTRY_POINT=train.py\u001b[0m\n",
      "\u001b[31mSM_INPUT_DIR=/opt/ml/input\u001b[0m\n",
      "\u001b[31mSM_USER_ARGS=[\"--epochs\",\"10\",\"--hidden_dim\",\"200\"]\u001b[0m\n",
      "\u001b[31mSM_RESOURCE_CONFIG={\"current_host\":\"algo-1\",\"hosts\":[\"algo-1\"],\"network_interface_name\":\"ethwe\"}\u001b[0m\n",
      "\u001b[31mSM_FRAMEWORK_PARAMS={}\u001b[0m\n",
      "\u001b[31mSM_OUTPUT_INTERMEDIATE_DIR=/opt/ml/output/intermediate\u001b[0m\n",
      "\u001b[31mSM_TRAINING_ENV={\"additional_framework_parameters\":{},\"channel_input_dirs\":{\"training\":\"/opt/ml/input/data/training\"},\"current_host\":\"algo-1\",\"framework_module\":\"sagemaker_pytorch_container.training:main\",\"hosts\":[\"algo-1\"],\"hyperparameters\":{\"epochs\":10,\"hidden_dim\":200},\"input_config_dir\":\"/opt/ml/input/config\",\"input_data_config\":{\"training\":{\"RecordWrapperType\":\"None\",\"S3DistributionType\":\"FullyReplicated\",\"TrainingInputMode\":\"File\"}},\"input_dir\":\"/opt/ml/input\",\"job_name\":\"sagemaker-pytorch-2019-03-30-20-00-57-418\",\"log_level\":20,\"model_dir\":\"/opt/ml/model\",\"module_dir\":\"s3://sagemaker-eu-central-1-145868664741/sagemaker-pytorch-2019-03-30-20-00-57-418/source/sourcedir.tar.gz\",\"module_name\":\"train\",\"network_interface_name\":\"ethwe\",\"num_cpus\":4,\"num_gpus\":1,\"output_data_dir\":\"/opt/ml/output/data\",\"output_dir\":\"/opt/ml/output\",\"output_intermediate_dir\":\"/opt/ml/output/intermediate\",\"resource_config\":{\"current_host\":\"algo-1\",\"hosts\":[\"algo-1\"],\"network_interface_name\":\"ethwe\"},\"user_entry_point\":\"train.py\"}\u001b[0m\n",
      "\u001b[31mPYTHONPATH=/usr/local/bin:/usr/lib/python35.zip:/usr/lib/python3.5:/usr/lib/python3.5/plat-x86_64-linux-gnu:/usr/lib/python3.5/lib-dynload:/usr/local/lib/python3.5/dist-packages:/usr/lib/python3/dist-packages\u001b[0m\n",
      "\u001b[31mSM_CURRENT_HOST=algo-1\u001b[0m\n",
      "\u001b[31mSM_HP_HIDDEN_DIM=200\u001b[0m\n",
      "\u001b[31mSM_MODULE_DIR=s3://sagemaker-eu-central-1-145868664741/sagemaker-pytorch-2019-03-30-20-00-57-418/source/sourcedir.tar.gz\u001b[0m\n",
      "\u001b[31mSM_FRAMEWORK_MODULE=sagemaker_pytorch_container.training:main\u001b[0m\n",
      "\u001b[31mSM_NUM_GPUS=1\n",
      "\u001b[0m\n",
      "\u001b[31mInvoking script with the following command:\n",
      "\u001b[0m\n",
      "\u001b[31m/usr/bin/python -m train --epochs 10 --hidden_dim 200\n",
      "\n",
      "\u001b[0m\n",
      "\u001b[31mUsing device cuda.\u001b[0m\n",
      "\u001b[31mGet train data loader.\u001b[0m\n"
     ]
    },
    {
     "name": "stdout",
     "output_type": "stream",
     "text": [
      "\u001b[31mModel loaded with embedding_dim 32, hidden_dim 200, vocab_size 5000.\u001b[0m\n",
      "\u001b[31mEpoch: 1, BCELoss: 0.6699459443286974\u001b[0m\n",
      "\u001b[31mEpoch: 2, BCELoss: 0.5827540293031809\u001b[0m\n",
      "\u001b[31mEpoch: 3, BCELoss: 0.49980901881140105\u001b[0m\n",
      "\u001b[31mEpoch: 4, BCELoss: 0.42469557815668535\u001b[0m\n",
      "\u001b[31mEpoch: 5, BCELoss: 0.3712736283029829\u001b[0m\n",
      "\u001b[31mEpoch: 6, BCELoss: 0.35332560843350935\u001b[0m\n",
      "\u001b[31mEpoch: 7, BCELoss: 0.3247570024461162\u001b[0m\n",
      "\u001b[31mEpoch: 8, BCELoss: 0.30271182984721906\u001b[0m\n",
      "\u001b[31mEpoch: 9, BCELoss: 0.2879132160118648\u001b[0m\n",
      "\u001b[31mEpoch: 10, BCELoss: 0.27703740827891293\u001b[0m\n",
      "\u001b[31m2019-03-30 20:08:11,199 sagemaker-containers INFO     Reporting training SUCCESS\u001b[0m\n",
      "\n",
      "2019-03-30 20:08:17 Uploading - Uploading generated training model\n",
      "2019-03-30 20:08:17 Completed - Training job completed\n",
      "Billable seconds: 239\n"
     ]
    }
   ],
   "source": [
    "estimator.fit({'training': input_data})"
   ]
  },
  {
   "cell_type": "markdown",
   "metadata": {},
   "source": [
    "## Step 5: Testing the model\n",
    "\n",
    "As mentioned at the top of this notebook, we will be testing this model by first deploying it and then sending the testing data to the deployed endpoint. We will do this so that we can make sure that the deployed model is working correctly.\n",
    "\n",
    "## Step 6: Deploy the model for testing\n",
    "\n",
    "Now that we have trained our model, we would like to test it to see how it performs. Currently our model takes input of the form `review_length, review[500]` where `review[500]` is a sequence of `500` integers which describe the words present in the review, encoded using `word_dict`. Fortunately for us, SageMaker provides built-in inference code for models with simple inputs such as this.\n",
    "\n",
    "There is one thing that we need to provide, however, and that is a function which loads the saved model. This function must be called `model_fn()` and takes as its only parameter a path to the directory where the model artifacts are stored. This function must also be present in the python file which we specified as the entry point. In our case the model loading function has been provided and so no changes need to be made.\n",
    "\n",
    "**NOTE**: When the built-in inference code is run it must import the `model_fn()` method from the `train.py` file. This is why the training code is wrapped in a main guard ( ie, `if __name__ == '__main__':` )\n",
    "\n",
    "Since we don't need to change anything in the code that was uploaded during training, we can simply deploy the current model as-is.\n",
    "\n",
    "**NOTE:** When deploying a model you are asking SageMaker to launch an compute instance that will wait for data to be sent to it. As a result, this compute instance will continue to run until *you* shut it down. This is important to know since the cost of a deployed endpoint depends on how long it has been running for.\n",
    "\n",
    "In other words **If you are no longer using a deployed endpoint, shut it down!**\n",
    "\n",
    "**TODO:** Deploy the trained model."
   ]
  },
  {
   "cell_type": "code",
   "execution_count": 32,
   "metadata": {},
   "outputs": [
    {
     "name": "stderr",
     "output_type": "stream",
     "text": [
      "INFO:sagemaker:Creating model with name: sagemaker-pytorch-2019-03-30-20-00-57-418\n",
      "INFO:sagemaker:Creating endpoint with name sagemaker-pytorch-2019-03-30-20-00-57-418\n"
     ]
    },
    {
     "name": "stdout",
     "output_type": "stream",
     "text": [
      "---------------------------------------------------------------------------------------!"
     ]
    }
   ],
   "source": [
    "predictor = estimator.deploy(initial_instance_count = 1, instance_type = 'ml.p2.xlarge')"
   ]
  },
  {
   "cell_type": "code",
   "execution_count": null,
   "metadata": {},
   "outputs": [],
   "source": []
  },
  {
   "cell_type": "markdown",
   "metadata": {},
   "source": [
    "## Step 7 - Use the model for testing\n",
    "\n",
    "Once deployed, we can read in the test data and send it off to our deployed model to get some results. Once we collect all of the results we can determine how accurate our model is."
   ]
  },
  {
   "cell_type": "code",
   "execution_count": null,
   "metadata": {},
   "outputs": [],
   "source": [
    "\n"
   ]
  },
  {
   "cell_type": "code",
   "execution_count": null,
   "metadata": {},
   "outputs": [],
   "source": []
  },
  {
   "cell_type": "code",
   "execution_count": 33,
   "metadata": {},
   "outputs": [],
   "source": [
    "test_X = pd.concat([pd.DataFrame(test_X_len), pd.DataFrame(test_X)], axis=1)"
   ]
  },
  {
   "cell_type": "code",
   "execution_count": 34,
   "metadata": {},
   "outputs": [],
   "source": [
    "# We split the data into chunks and send each chunk seperately, accumulating the results.\n",
    "\n",
    "def predict(data, rows=512):\n",
    "    split_array = np.array_split(data, int(data.shape[0] / float(rows) + 1))\n",
    "    predictions = np.array([])\n",
    "    for array in split_array:\n",
    "        predictions = np.append(predictions, predictor.predict(array))\n",
    "    \n",
    "    return predictions"
   ]
  },
  {
   "cell_type": "code",
   "execution_count": 35,
   "metadata": {},
   "outputs": [],
   "source": [
    "predictions = predict(test_X.values)\n",
    "predictions = [round(num) for num in predictions]"
   ]
  },
  {
   "cell_type": "code",
   "execution_count": 36,
   "metadata": {},
   "outputs": [
    {
     "data": {
      "text/plain": [
       "0.85864"
      ]
     },
     "execution_count": 36,
     "metadata": {},
     "output_type": "execute_result"
    }
   ],
   "source": [
    "from sklearn.metrics import accuracy_score\n",
    "accuracy_score(test_y, predictions)"
   ]
  },
  {
   "cell_type": "markdown",
   "metadata": {},
   "source": [
    "**Question:** How does this model compare to the XGBoost model you created earlier? Why might these two models perform differently on this dataset? Which do *you* think is better for sentiment analysis?"
   ]
  },
  {
   "cell_type": "markdown",
   "metadata": {},
   "source": [
    "**Answer:**\n",
    "\n",
    "Both models perform with about the same accuracy of 0.85\n",
    "\n",
    "Inuitively I would guess that the LSTM model does better, because context seems to be quite important for acessing sentiment, e.g. the possible combinations of \"not - good\" , \"while sometimes boring, ..\" etc.\n",
    "However it seems that for an relatively simple task like this one that fact does not make a difference."
   ]
  },
  {
   "cell_type": "markdown",
   "metadata": {},
   "source": [
    "### (TODO) More testing\n",
    "\n",
    "We now have a trained model which has been deployed and which we can send processed reviews to and which returns the predicted sentiment. However, ultimately we would like to be able to send our model an unprocessed review. That is, we would like to send the review itself as a string. For example, suppose we wish to send the following review to our model."
   ]
  },
  {
   "cell_type": "code",
   "execution_count": 37,
   "metadata": {},
   "outputs": [],
   "source": [
    "test_review = 'The simplest pleasures in life are the best, and this film is one of them. Combining a rather basic storyline of love and adventure this movie transcends the usual weekend fair with wit and unmitigated charm.'"
   ]
  },
  {
   "cell_type": "markdown",
   "metadata": {},
   "source": [
    "The question we now need to answer is, how do we send this review to our model?\n",
    "\n",
    "Recall in the first section of this notebook we did a bunch of data processing to the IMDb dataset. In particular, we did two specific things to the provided reviews.\n",
    " - Removed any html tags and stemmed the input\n",
    " - Encoded the review as a sequence of integers using `word_dict`\n",
    " \n",
    "In order process the review we will need to repeat these two steps.\n",
    "\n",
    "**TODO**: Using the `review_to_words` and `convert_and_pad` methods from section one, convert `test_review` into a numpy array `test_data` suitable to send to our model. Remember that our model expects input of the form `review_length, review[500]`."
   ]
  },
  {
   "cell_type": "code",
   "execution_count": 38,
   "metadata": {},
   "outputs": [],
   "source": [
    "# TODO: Convert test_review into a form usable by the model and save the results in test_data\n",
    "test_data_review_to_words = review_to_words(test_review)\n",
    "test_data = [np.array(convert_and_pad(word_dict, test_data_review_to_words)[0])]"
   ]
  },
  {
   "cell_type": "markdown",
   "metadata": {},
   "source": [
    "Now that we have processed the review, we can send the resulting array to our model to predict the sentiment of the review."
   ]
  },
  {
   "cell_type": "code",
   "execution_count": 39,
   "metadata": {},
   "outputs": [
    {
     "data": {
      "text/plain": [
       "array(0.6862025, dtype=float32)"
      ]
     },
     "execution_count": 39,
     "metadata": {},
     "output_type": "execute_result"
    }
   ],
   "source": [
    "predictor.predict(test_data)"
   ]
  },
  {
   "cell_type": "markdown",
   "metadata": {},
   "source": [
    "Since the return value of our model is close to `1`, we can be certain that the review we submitted is positive."
   ]
  },
  {
   "cell_type": "markdown",
   "metadata": {},
   "source": [
    "### Delete the endpoint\n",
    "\n",
    "Of course, just like in the XGBoost notebook, once we've deployed an endpoint it continues to run until we tell it to shut down. Since we are done using our endpoint for now, we can delete it."
   ]
  },
  {
   "cell_type": "code",
   "execution_count": 40,
   "metadata": {},
   "outputs": [
    {
     "name": "stderr",
     "output_type": "stream",
     "text": [
      "INFO:sagemaker:Deleting endpoint with name: sagemaker-pytorch-2019-03-30-20-00-57-418\n"
     ]
    }
   ],
   "source": [
    "estimator.delete_endpoint()"
   ]
  },
  {
   "cell_type": "markdown",
   "metadata": {},
   "source": [
    "## Step 6 (again) - Deploy the model for the web app\n",
    "\n",
    "Now that we know that our model is working, it's time to create some custom inference code so that we can send the model a review which has not been processed and have it determine the sentiment of the review.\n",
    "\n",
    "As we saw above, by default the estimator which we created, when deployed, will use the entry script and directory which we provided when creating the model. However, since we now wish to accept a string as input and our model expects a processed review, we need to write some custom inference code.\n",
    "\n",
    "We will store the code that we write in the `serve` directory. Provided in this directory is the `model.py` file that we used to construct our model, a `utils.py` file which contains the `review_to_words` and `convert_and_pad` pre-processing functions which we used during the initial data processing, and `predict.py`, the file which will contain our custom inference code. Note also that `requirements.txt` is present which will tell SageMaker what Python libraries are required by our custom inference code.\n",
    "\n",
    "When deploying a PyTorch model in SageMaker, you are expected to provide four functions which the SageMaker inference container will use.\n",
    " - `model_fn`: This function is the same function that we used in the training script and it tells SageMaker how to load our model.\n",
    " - `input_fn`: This function receives the raw serialized input that has been sent to the model's endpoint and its job is to de-serialize and make the input available for the inference code.\n",
    " - `output_fn`: This function takes the output of the inference code and its job is to serialize this output and return it to the caller of the model's endpoint.\n",
    " - `predict_fn`: The heart of the inference script, this is where the actual prediction is done and is the function which you will need to complete.\n",
    "\n",
    "For the simple website that we are constructing during this project, the `input_fn` and `output_fn` methods are relatively straightforward. We only require being able to accept a string as input and we expect to return a single value as output. You might imagine though that in a more complex application the input or output may be image data or some other binary data which would require some effort to serialize.\n",
    "\n",
    "### (TODO) Writing inference code\n",
    "\n",
    "Before writing our custom inference code, we will begin by taking a look at the code which has been provided."
   ]
  },
  {
   "cell_type": "code",
   "execution_count": 41,
   "metadata": {},
   "outputs": [
    {
     "name": "stdout",
     "output_type": "stream",
     "text": [
      "\u001b[34mimport\u001b[39;49;00m \u001b[04m\u001b[36margparse\u001b[39;49;00m\r\n",
      "\u001b[34mimport\u001b[39;49;00m \u001b[04m\u001b[36mjson\u001b[39;49;00m\r\n",
      "\u001b[34mimport\u001b[39;49;00m \u001b[04m\u001b[36mos\u001b[39;49;00m\r\n",
      "\u001b[34mimport\u001b[39;49;00m \u001b[04m\u001b[36mpickle\u001b[39;49;00m\r\n",
      "\u001b[34mimport\u001b[39;49;00m \u001b[04m\u001b[36msys\u001b[39;49;00m\r\n",
      "\u001b[34mimport\u001b[39;49;00m \u001b[04m\u001b[36msagemaker_containers\u001b[39;49;00m\r\n",
      "\u001b[34mimport\u001b[39;49;00m \u001b[04m\u001b[36mpandas\u001b[39;49;00m \u001b[34mas\u001b[39;49;00m \u001b[04m\u001b[36mpd\u001b[39;49;00m\r\n",
      "\u001b[34mimport\u001b[39;49;00m \u001b[04m\u001b[36mnumpy\u001b[39;49;00m \u001b[34mas\u001b[39;49;00m \u001b[04m\u001b[36mnp\u001b[39;49;00m\r\n",
      "\u001b[34mimport\u001b[39;49;00m \u001b[04m\u001b[36mtorch\u001b[39;49;00m\r\n",
      "\u001b[34mimport\u001b[39;49;00m \u001b[04m\u001b[36mtorch.nn\u001b[39;49;00m \u001b[34mas\u001b[39;49;00m \u001b[04m\u001b[36mnn\u001b[39;49;00m\r\n",
      "\u001b[34mimport\u001b[39;49;00m \u001b[04m\u001b[36mtorch.optim\u001b[39;49;00m \u001b[34mas\u001b[39;49;00m \u001b[04m\u001b[36moptim\u001b[39;49;00m\r\n",
      "\u001b[34mimport\u001b[39;49;00m \u001b[04m\u001b[36mtorch.utils.data\u001b[39;49;00m\r\n",
      "\r\n",
      "\u001b[34mfrom\u001b[39;49;00m \u001b[04m\u001b[36mmodel\u001b[39;49;00m \u001b[34mimport\u001b[39;49;00m LSTMClassifier\r\n",
      "\r\n",
      "\u001b[34mfrom\u001b[39;49;00m \u001b[04m\u001b[36mutils\u001b[39;49;00m \u001b[34mimport\u001b[39;49;00m review_to_words, convert_and_pad\r\n",
      "\r\n",
      "\u001b[34mdef\u001b[39;49;00m \u001b[32mmodel_fn\u001b[39;49;00m(model_dir):\r\n",
      "    \u001b[33m\"\"\"Load the PyTorch model from the `model_dir` directory.\"\"\"\u001b[39;49;00m\r\n",
      "    \u001b[34mprint\u001b[39;49;00m(\u001b[33m\"\u001b[39;49;00m\u001b[33mLoading model.\u001b[39;49;00m\u001b[33m\"\u001b[39;49;00m)\r\n",
      "\r\n",
      "    \u001b[37m# First, load the parameters used to create the model.\u001b[39;49;00m\r\n",
      "    model_info = {}\r\n",
      "    model_info_path = os.path.join(model_dir, \u001b[33m'\u001b[39;49;00m\u001b[33mmodel_info.pth\u001b[39;49;00m\u001b[33m'\u001b[39;49;00m)\r\n",
      "    \u001b[34mwith\u001b[39;49;00m \u001b[36mopen\u001b[39;49;00m(model_info_path, \u001b[33m'\u001b[39;49;00m\u001b[33mrb\u001b[39;49;00m\u001b[33m'\u001b[39;49;00m) \u001b[34mas\u001b[39;49;00m f:\r\n",
      "        model_info = torch.load(f)\r\n",
      "\r\n",
      "    \u001b[34mprint\u001b[39;49;00m(\u001b[33m\"\u001b[39;49;00m\u001b[33mmodel_info: {}\u001b[39;49;00m\u001b[33m\"\u001b[39;49;00m.format(model_info))\r\n",
      "\r\n",
      "    \u001b[37m# Determine the device and construct the model.\u001b[39;49;00m\r\n",
      "    device = torch.device(\u001b[33m\"\u001b[39;49;00m\u001b[33mcuda\u001b[39;49;00m\u001b[33m\"\u001b[39;49;00m \u001b[34mif\u001b[39;49;00m torch.cuda.is_available() \u001b[34melse\u001b[39;49;00m \u001b[33m\"\u001b[39;49;00m\u001b[33mcpu\u001b[39;49;00m\u001b[33m\"\u001b[39;49;00m)\r\n",
      "    model = LSTMClassifier(model_info[\u001b[33m'\u001b[39;49;00m\u001b[33membedding_dim\u001b[39;49;00m\u001b[33m'\u001b[39;49;00m], model_info[\u001b[33m'\u001b[39;49;00m\u001b[33mhidden_dim\u001b[39;49;00m\u001b[33m'\u001b[39;49;00m], model_info[\u001b[33m'\u001b[39;49;00m\u001b[33mvocab_size\u001b[39;49;00m\u001b[33m'\u001b[39;49;00m])\r\n",
      "\r\n",
      "    \u001b[37m# Load the store model parameters.\u001b[39;49;00m\r\n",
      "    model_path = os.path.join(model_dir, \u001b[33m'\u001b[39;49;00m\u001b[33mmodel.pth\u001b[39;49;00m\u001b[33m'\u001b[39;49;00m)\r\n",
      "    \u001b[34mwith\u001b[39;49;00m \u001b[36mopen\u001b[39;49;00m(model_path, \u001b[33m'\u001b[39;49;00m\u001b[33mrb\u001b[39;49;00m\u001b[33m'\u001b[39;49;00m) \u001b[34mas\u001b[39;49;00m f:\r\n",
      "        model.load_state_dict(torch.load(f))\r\n",
      "\r\n",
      "    \u001b[37m# Load the saved word_dict.\u001b[39;49;00m\r\n",
      "    word_dict_path = os.path.join(model_dir, \u001b[33m'\u001b[39;49;00m\u001b[33mword_dict.pkl\u001b[39;49;00m\u001b[33m'\u001b[39;49;00m)\r\n",
      "    \u001b[34mwith\u001b[39;49;00m \u001b[36mopen\u001b[39;49;00m(word_dict_path, \u001b[33m'\u001b[39;49;00m\u001b[33mrb\u001b[39;49;00m\u001b[33m'\u001b[39;49;00m) \u001b[34mas\u001b[39;49;00m f:\r\n",
      "        model.word_dict = pickle.load(f)\r\n",
      "\r\n",
      "    model.to(device).eval()\r\n",
      "\r\n",
      "    \u001b[34mprint\u001b[39;49;00m(\u001b[33m\"\u001b[39;49;00m\u001b[33mDone loading model.\u001b[39;49;00m\u001b[33m\"\u001b[39;49;00m)\r\n",
      "    \u001b[34mreturn\u001b[39;49;00m model\r\n",
      "\r\n",
      "\u001b[34mdef\u001b[39;49;00m \u001b[32minput_fn\u001b[39;49;00m(serialized_input_data, content_type):\r\n",
      "    \u001b[34mprint\u001b[39;49;00m(\u001b[33m'\u001b[39;49;00m\u001b[33mDeserializing the input data.\u001b[39;49;00m\u001b[33m'\u001b[39;49;00m)\r\n",
      "    \u001b[34mif\u001b[39;49;00m content_type == \u001b[33m'\u001b[39;49;00m\u001b[33mtext/plain\u001b[39;49;00m\u001b[33m'\u001b[39;49;00m:\r\n",
      "        data = serialized_input_data.decode(\u001b[33m'\u001b[39;49;00m\u001b[33mutf-8\u001b[39;49;00m\u001b[33m'\u001b[39;49;00m)\r\n",
      "        \u001b[34mreturn\u001b[39;49;00m data\r\n",
      "    \u001b[34mraise\u001b[39;49;00m \u001b[36mException\u001b[39;49;00m(\u001b[33m'\u001b[39;49;00m\u001b[33mRequested unsupported ContentType in content_type: \u001b[39;49;00m\u001b[33m'\u001b[39;49;00m + content_type)\r\n",
      "\r\n",
      "\u001b[34mdef\u001b[39;49;00m \u001b[32moutput_fn\u001b[39;49;00m(prediction_output, accept):\r\n",
      "    \u001b[34mprint\u001b[39;49;00m(\u001b[33m'\u001b[39;49;00m\u001b[33mSerializing the generated output.\u001b[39;49;00m\u001b[33m'\u001b[39;49;00m)\r\n",
      "    \u001b[34mreturn\u001b[39;49;00m \u001b[36mstr\u001b[39;49;00m(prediction_output)\r\n",
      "\r\n",
      "\u001b[34mdef\u001b[39;49;00m \u001b[32mpredict_fn\u001b[39;49;00m(input_data, model):\r\n",
      "    \u001b[34mprint\u001b[39;49;00m(\u001b[33m'\u001b[39;49;00m\u001b[33mInferring sentiment of input data.\u001b[39;49;00m\u001b[33m'\u001b[39;49;00m)\r\n",
      "\r\n",
      "    device = torch.device(\u001b[33m\"\u001b[39;49;00m\u001b[33mcuda\u001b[39;49;00m\u001b[33m\"\u001b[39;49;00m \u001b[34mif\u001b[39;49;00m torch.cuda.is_available() \u001b[34melse\u001b[39;49;00m \u001b[33m\"\u001b[39;49;00m\u001b[33mcpu\u001b[39;49;00m\u001b[33m\"\u001b[39;49;00m)\r\n",
      "    \r\n",
      "    \u001b[34mif\u001b[39;49;00m model.word_dict \u001b[35mis\u001b[39;49;00m \u001b[36mNone\u001b[39;49;00m:\r\n",
      "        \u001b[34mraise\u001b[39;49;00m \u001b[36mException\u001b[39;49;00m(\u001b[33m'\u001b[39;49;00m\u001b[33mModel has not been loaded properly, no word_dict.\u001b[39;49;00m\u001b[33m'\u001b[39;49;00m)\r\n",
      "    \r\n",
      "    \u001b[37m# TODO: Process input_data so that it is ready to be sent to our model.\u001b[39;49;00m\r\n",
      "    \u001b[37m#       You should produce two variables:\u001b[39;49;00m\r\n",
      "    \u001b[37m#         data_X   - A sequence of length 500 which represents the converted review\u001b[39;49;00m\r\n",
      "    \u001b[37m#         data_len - The length of the review\u001b[39;49;00m\r\n",
      "\r\n",
      "    words = review_to_words(input_data)\r\n",
      "    data_X, data_len = convert_and_pad(model.word_dict, words)\r\n",
      "  \r\n",
      "\r\n",
      "    \u001b[37m# Using data_X and data_len we construct an appropriate input tensor. Remember\u001b[39;49;00m\r\n",
      "    \u001b[37m# that our model expects input data of the form 'len, review[500]'.\u001b[39;49;00m\r\n",
      "    data_pack = np.hstack((data_len, data_X))\r\n",
      "    data_pack = data_pack.reshape(\u001b[34m1\u001b[39;49;00m, -\u001b[34m1\u001b[39;49;00m)\r\n",
      "    \r\n",
      "    data = torch.from_numpy(data_pack)\r\n",
      "    data = data.to(device)\r\n",
      "\r\n",
      "    \u001b[37m# Make sure to put the model into evaluation mode\u001b[39;49;00m\r\n",
      "    model.eval()\r\n",
      "\r\n",
      "    \u001b[37m# TODO: Compute the result of applying the model to the input data. The variable `result` should\u001b[39;49;00m\r\n",
      "    \u001b[37m#       be a numpy array which contains a single integer which is either 1 or 0\u001b[39;49;00m\r\n",
      "    \r\n",
      "    \u001b[34mwith\u001b[39;49;00m torch.no_grad()\r\n",
      "    output = model.forward(data)\r\n",
      "    \r\n",
      "    result = np.round(output.numpy())\r\n",
      "\r\n",
      "    \u001b[34mreturn\u001b[39;49;00m result\r\n"
     ]
    }
   ],
   "source": [
    "!pygmentize serve/predict.py"
   ]
  },
  {
   "cell_type": "markdown",
   "metadata": {},
   "source": [
    "As mentioned earlier, the `model_fn` method is the same as the one provided in the training code and the `input_fn` and `output_fn` methods are very simple and your task will be to complete the `predict_fn` method. Make sure that you save the completed file as `predict.py` in the `serve` directory.\n",
    "\n",
    "**TODO**: Complete the `predict_fn()` method in the `serve/predict.py` file."
   ]
  },
  {
   "cell_type": "markdown",
   "metadata": {},
   "source": [
    "### Deploying the model\n",
    "\n",
    "Now that the custom inference code has been written, we will create and deploy our model. To begin with, we need to construct a new PyTorchModel object which points to the model artifacts created during training and also points to the inference code that we wish to use. Then we can call the deploy method to launch the deployment container.\n",
    "\n",
    "**NOTE**: The default behaviour for a deployed PyTorch model is to assume that any input passed to the predictor is a `numpy` array. In our case we want to send a string so we need to construct a simple wrapper around the `RealTimePredictor` class to accomodate simple strings. In a more complicated situation you may want to provide a serialization object, for example if you wanted to sent image data."
   ]
  },
  {
   "cell_type": "code",
   "execution_count": 60,
   "metadata": {},
   "outputs": [
    {
     "name": "stderr",
     "output_type": "stream",
     "text": [
      "INFO:sagemaker:Creating model with name: sagemaker-pytorch-2019-03-30-22-53-01-962\n",
      "INFO:sagemaker:Creating endpoint with name sagemaker-pytorch-2019-03-30-22-53-01-962\n"
     ]
    },
    {
     "name": "stdout",
     "output_type": "stream",
     "text": [
      "---------------------------------------------------------------------------------------------------!"
     ]
    }
   ],
   "source": [
    "from sagemaker.predictor import RealTimePredictor\n",
    "from sagemaker.pytorch import PyTorchModel\n",
    "\n",
    "class StringPredictor(RealTimePredictor):\n",
    "    def __init__(self, endpoint_name, sagemaker_session):\n",
    "        super(StringPredictor, self).__init__(endpoint_name, sagemaker_session, content_type='text/plain')\n",
    "\n",
    "model = PyTorchModel(model_data=estimator.model_data,\n",
    "                     role = role,\n",
    "                     framework_version='0.4.0',\n",
    "                     entry_point='predict.py',\n",
    "                     source_dir='serve',\n",
    "                     predictor_cls=StringPredictor)\n",
    "predictor = model.deploy(initial_instance_count=1, instance_type='ml.p2.xlarge')"
   ]
  },
  {
   "cell_type": "markdown",
   "metadata": {},
   "source": [
    "### Testing the model\n",
    "\n",
    "Now that we have deployed our model with the custom inference code, we should test to see if everything is working. Here we test our model by loading the first `250` positive and negative reviews and send them to the endpoint, then collect the results. The reason for only sending some of the data is that the amount of time it takes for our model to process the input and then perform inference is quite long and so testing the entire data set would be prohibitive."
   ]
  },
  {
   "cell_type": "code",
   "execution_count": 72,
   "metadata": {},
   "outputs": [],
   "source": [
    "import glob\n",
    "\n",
    "def test_reviews(data_dir='../data/aclImdb', stop=250):\n",
    "    \n",
    "    results = []\n",
    "    ground = []\n",
    "    \n",
    "    # We make sure to test both positive and negative reviews    \n",
    "    for sentiment in ['pos', 'neg']:\n",
    "        \n",
    "        path = os.path.join(data_dir, 'test', sentiment, '*.txt')\n",
    "        files = glob.glob(path)\n",
    "        \n",
    "        files_read = 0\n",
    "        \n",
    "        print('Starting ', sentiment, ' files')\n",
    "        \n",
    "        # Iterate through the files and send them to the predictor\n",
    "        for f in files:\n",
    "            with open(f) as review:\n",
    "                # First, we store the ground truth (was the review positive or negative)\n",
    "                if sentiment == 'pos':\n",
    "                    ground.append(1)\n",
    "                else:\n",
    "                    ground.append(0)\n",
    "                # Read in the review and convert to 'utf-8' for transmission via HTTP\n",
    "                review_input = review.read().encode('utf-8')\n",
    "                # Send the review to the predictor and store the results\n",
    "                results.append(int(float(predictor.predict(review_input))))\n",
    "                \n",
    "            # Sending reviews to our endpoint one at a time takes a while so we\n",
    "            # only send a small number of reviews\n",
    "            files_read += 1\n",
    "            if files_read == stop:\n",
    "                break\n",
    "            \n",
    "    return ground, results"
   ]
  },
  {
   "cell_type": "code",
   "execution_count": 73,
   "metadata": {},
   "outputs": [
    {
     "name": "stdout",
     "output_type": "stream",
     "text": [
      "Starting  pos  files\n",
      "Starting  neg  files\n"
     ]
    }
   ],
   "source": [
    "ground, results = test_reviews()"
   ]
  },
  {
   "cell_type": "code",
   "execution_count": 74,
   "metadata": {},
   "outputs": [
    {
     "data": {
      "text/plain": [
       "0.86"
      ]
     },
     "execution_count": 74,
     "metadata": {},
     "output_type": "execute_result"
    }
   ],
   "source": [
    "from sklearn.metrics import accuracy_score\n",
    "accuracy_score(ground, results)"
   ]
  },
  {
   "cell_type": "markdown",
   "metadata": {},
   "source": [
    "As an additional test, we can try sending the `test_review` that we looked at earlier."
   ]
  },
  {
   "cell_type": "code",
   "execution_count": 75,
   "metadata": {},
   "outputs": [
    {
     "data": {
      "text/plain": [
       "b'1.0'"
      ]
     },
     "execution_count": 75,
     "metadata": {},
     "output_type": "execute_result"
    }
   ],
   "source": [
    "predictor.predict(test_review)"
   ]
  },
  {
   "cell_type": "markdown",
   "metadata": {},
   "source": [
    "Now that we know our endpoint is working as expected, we can set up the web page that will interact with it. If you don't have time to finish the project now, make sure to skip down to the end of this notebook and shut down your endpoint. You can deploy it again when you come back."
   ]
  },
  {
   "cell_type": "markdown",
   "metadata": {},
   "source": [
    "## Step 7 (again): Use the model for the web app\n",
    "\n",
    "> **TODO:** This entire section and the next contain tasks for you to complete, mostly using the AWS console.\n",
    "\n",
    "So far we have been accessing our model endpoint by constructing a predictor object which uses the endpoint and then just using the predictor object to perform inference. What if we wanted to create a web app which accessed our model? The way things are set up currently makes that not possible since in order to access a SageMaker endpoint the app would first have to authenticate with AWS using an IAM role which included access to SageMaker endpoints. However, there is an easier way! We just need to use some additional AWS services.\n",
    "\n",
    "<img src=\"Web App Diagram.svg\">\n",
    "\n",
    "The diagram above gives an overview of how the various services will work together. On the far right is the model which we trained above and which is deployed using SageMaker. On the far left is our web app that collects a user's movie review, sends it off and expects a positive or negative sentiment in return.\n",
    "\n",
    "In the middle is where some of the magic happens. We will construct a Lambda function, which you can think of as a straightforward Python function that can be executed whenever a specified event occurs. We will give this function permission to send and recieve data from a SageMaker endpoint.\n",
    "\n",
    "Lastly, the method we will use to execute the Lambda function is a new endpoint that we will create using API Gateway. This endpoint will be a url that listens for data to be sent to it. Once it gets some data it will pass that data on to the Lambda function and then return whatever the Lambda function returns. Essentially it will act as an interface that lets our web app communicate with the Lambda function.\n",
    "\n",
    "### Setting up a Lambda function\n",
    "\n",
    "The first thing we are going to do is set up a Lambda function. This Lambda function will be executed whenever our public API has data sent to it. When it is executed it will receive the data, perform any sort of processing that is required, send the data (the review) to the SageMaker endpoint we've created and then return the result.\n",
    "\n",
    "#### Part A: Create an IAM Role for the Lambda function\n",
    "\n",
    "Since we want the Lambda function to call a SageMaker endpoint, we need to make sure that it has permission to do so. To do this, we will construct a role that we can later give the Lambda function.\n",
    "\n",
    "Using the AWS Console, navigate to the **IAM** page and click on **Roles**. Then, click on **Create role**. Make sure that the **AWS service** is the type of trusted entity selected and choose **Lambda** as the service that will use this role, then click **Next: Permissions**.\n",
    "\n",
    "In the search box type `sagemaker` and select the check box next to the **AmazonSageMakerFullAccess** policy. Then, click on **Next: Review**.\n",
    "\n",
    "Lastly, give this role a name. Make sure you use a name that you will remember later on, for example `LambdaSageMakerRole`. Then, click on **Create role**.\n",
    "\n",
    "#### Part B: Create a Lambda function\n",
    "\n",
    "Now it is time to actually create the Lambda function.\n",
    "\n",
    "Using the AWS Console, navigate to the AWS Lambda page and click on **Create a function**. When you get to the next page, make sure that **Author from scratch** is selected. Now, name your Lambda function, using a name that you will remember later on, for example `sentiment_analysis_func`. Make sure that the **Python 3.6** runtime is selected and then choose the role that you created in the previous part. Then, click on **Create Function**.\n",
    "\n",
    "On the next page you will see some information about the Lambda function you've just created. If you scroll down you should see an editor in which you can write the code that will be executed when your Lambda function is triggered. In our example, we will use the code below. \n",
    "\n",
    "```python\n",
    "# We need to use the low-level library to interact with SageMaker since the SageMaker API\n",
    "# is not available natively through Lambda.\n",
    "import boto3\n",
    "\n",
    "def lambda_handler(event, context):\n",
    "\n",
    "    # The SageMaker runtime is what allows us to invoke the endpoint that we've created.\n",
    "    runtime = boto3.Session().client('sagemaker-runtime')\n",
    "\n",
    "    # Now we use the SageMaker runtime to invoke our endpoint, sending the review we were given\n",
    "    response = runtime.invoke_endpoint(EndpointName = '**ENDPOINT NAME HERE**',    # The name of the endpoint we created\n",
    "                                       ContentType = 'text/plain',                 # The data format that is expected\n",
    "                                       Body = event['body'])                       # The actual review\n",
    "\n",
    "    # The response is an HTTP response whose body contains the result of our inference\n",
    "    result = response['Body'].read().decode('utf-8')\n",
    "\n",
    "    return {\n",
    "        'statusCode' : 200,\n",
    "        'headers' : { 'Content-Type' : 'text/plain', 'Access-Control-Allow-Origin' : '*' },\n",
    "        'body' : result\n",
    "    }\n",
    "```\n",
    "\n",
    "Once you have copy and pasted the code above into the Lambda code editor, replace the `**ENDPOINT NAME HERE**` portion with the name of the endpoint that we deployed earlier. You can determine the name of the endpoint using the code cell below."
   ]
  },
  {
   "cell_type": "code",
   "execution_count": 76,
   "metadata": {},
   "outputs": [
    {
     "data": {
      "text/plain": [
       "'sagemaker-pytorch-2019-03-30-22-53-01-962'"
      ]
     },
     "execution_count": 76,
     "metadata": {},
     "output_type": "execute_result"
    }
   ],
   "source": [
    "predictor.endpoint"
   ]
  },
  {
   "cell_type": "markdown",
   "metadata": {},
   "source": [
    "Once you have added the endpoint name to the Lambda function, click on **Save**. Your Lambda function is now up and running. Next we need to create a way for our web app to execute the Lambda function.\n",
    "\n",
    "### Setting up API Gateway\n",
    "\n",
    "Now that our Lambda function is set up, it is time to create a new API using API Gateway that will trigger the Lambda function we have just created.\n",
    "\n",
    "Using AWS Console, navigate to **Amazon API Gateway** and then click on **Get started**.\n",
    "\n",
    "On the next page, make sure that **New API** is selected and give the new api a name, for example, `sentiment_analysis_api`. Then, click on **Create API**.\n",
    "\n",
    "Now we have created an API, however it doesn't currently do anything. What we want it to do is to trigger the Lambda function that we created earlier.\n",
    "\n",
    "Select the **Actions** dropdown menu and click **Create Method**. A new blank method will be created, select its dropdown menu and select **POST**, then click on the check mark beside it.\n",
    "\n",
    "For the integration point, make sure that **Lambda Function** is selected and click on the **Use Lambda Proxy integration**. This option makes sure that the data that is sent to the API is then sent directly to the Lambda function with no processing. It also means that the return value must be a proper response object as it will also not be processed by API Gateway.\n",
    "\n",
    "Type the name of the Lambda function you created earlier into the **Lambda Function** text entry box and then click on **Save**. Click on **OK** in the pop-up box that then appears, giving permission to API Gateway to invoke the Lambda function you created.\n",
    "\n",
    "The last step in creating the API Gateway is to select the **Actions** dropdown and click on **Deploy API**. You will need to create a new Deployment stage and name it anything you like, for example `prod`.\n",
    "\n",
    "You have now successfully set up a public API to access your SageMaker model. Make sure to copy or write down the URL provided to invoke your newly created public API as this will be needed in the next step. This URL can be found at the top of the page, highlighted in blue next to the text **Invoke URL**."
   ]
  },
  {
   "cell_type": "markdown",
   "metadata": {},
   "source": [
    "## Step 4: Deploying our web app\n",
    "\n",
    "Now that we have a publicly available API, we can start using it in a web app. For our purposes, we have provided a simple static html file which can make use of the public api you created earlier.\n",
    "\n",
    "In the `website` folder there should be a file called `index.html`. Download the file to your computer and open that file up in a text editor of your choice. There should be a line which contains **\\*\\*REPLACE WITH PUBLIC API URL\\*\\***. Replace this string with the url that you wrote down in the last step and then save the file.\n",
    "\n",
    "Now, if you open `index.html` on your local computer, your browser will behave as a local web server and you can use the provided site to interact with your SageMaker model.\n",
    "\n",
    "If you'd like to go further, you can host this html file anywhere you'd like, for example using github or hosting a static site on Amazon's S3. Once you have done this you can share the link with anyone you'd like and have them play with it too!\n",
    "\n",
    "> **Important Note** In order for the web app to communicate with the SageMaker endpoint, the endpoint has to actually be deployed and running. This means that you are paying for it. Make sure that the endpoint is running when you want to use the web app but that you shut it down when you don't need it, otherwise you will end up with a surprisingly large AWS bill.\n",
    "\n",
    "**TODO:** Make sure that you include the edited `index.html` file in your project submission."
   ]
  },
  {
   "cell_type": "markdown",
   "metadata": {},
   "source": [
    "Now that your web app is working, trying playing around with it and see how well it works.\n",
    "\n",
    "**Question**: Give an example of a review that you entered into your web app. What was the predicted sentiment of your example review?"
   ]
  },
  {
   "cell_type": "markdown",
   "metadata": {},
   "source": [
    "**Answer:**\n",
    "I wanted to see if even very short, but distinctive reviews get classified corectly.\n",
    "So I tested:\n",
    "\"This review was good\", \"This review was not good\", \"This review was bad\" and \"This review was not too bad\".\n",
    "To my satisfacion they were all classified correctly! [pos,neg,neg,pos]"
   ]
  },
  {
   "cell_type": "markdown",
   "metadata": {},
   "source": [
    "### Delete the endpoint\n",
    "\n",
    "Remember to always shut down your endpoint if you are no longer using it. You are charged for the length of time that the endpoint is running so if you forget and leave it on you could end up with an unexpectedly large bill."
   ]
  },
  {
   "cell_type": "code",
   "execution_count": 77,
   "metadata": {},
   "outputs": [
    {
     "name": "stderr",
     "output_type": "stream",
     "text": [
      "INFO:sagemaker:Deleting endpoint configuration with name: sagemaker-pytorch-2019-03-30-22-53-01-962\n",
      "INFO:sagemaker:Deleting endpoint with name: sagemaker-pytorch-2019-03-30-22-53-01-962\n"
     ]
    }
   ],
   "source": [
    "predictor.delete_endpoint()"
   ]
  },
  {
   "cell_type": "code",
   "execution_count": null,
   "metadata": {},
   "outputs": [],
   "source": []
  }
 ],
 "metadata": {
  "kernelspec": {
   "display_name": "conda_pytorch_p36",
   "language": "python",
   "name": "conda_pytorch_p36"
  },
  "language_info": {
   "codemirror_mode": {
    "name": "ipython",
    "version": 3
   },
   "file_extension": ".py",
   "mimetype": "text/x-python",
   "name": "python",
   "nbconvert_exporter": "python",
   "pygments_lexer": "ipython3",
   "version": "3.6.5"
  }
 },
 "nbformat": 4,
 "nbformat_minor": 2
}
